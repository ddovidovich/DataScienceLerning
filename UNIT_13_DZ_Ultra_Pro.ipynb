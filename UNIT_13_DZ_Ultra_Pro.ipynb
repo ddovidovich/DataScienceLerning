{
  "nbformat": 4,
  "nbformat_minor": 0,
  "metadata": {
    "colab": {
      "provenance": [],
      "include_colab_link": true
    },
    "kernelspec": {
      "name": "python3",
      "display_name": "Python 3"
    },
    "language_info": {
      "name": "python"
    }
  },
  "cells": [
    {
      "cell_type": "markdown",
      "metadata": {
        "id": "view-in-github",
        "colab_type": "text"
      },
      "source": [
        "<a href=\"https://colab.research.google.com/github/ddovidovich/DataScienceLerning/blob/main/UNIT_13_DZ_Ultra_Pro.ipynb\" target=\"_parent\"><img src=\"https://colab.research.google.com/assets/colab-badge.svg\" alt=\"Open In Colab\"/></a>"
      ]
    },
    {
      "cell_type": "markdown",
      "metadata": {
        "id": "EWGNSR35G-DA"
      },
      "source": [
        " Создайте веб-сервис с помощью FastAPI, загрузите на него обученную модель MNIST и протестируйте ее на собственноручно написанных цифрах.\n",
        "\n",
        "\n"
      ]
    },
    {
      "cell_type": "code",
      "metadata": {
        "id": "BjOUVBCNv8FK"
      },
      "source": [
        "# Ваше решение\n"
      ],
      "execution_count": 1,
      "outputs": []
    },
    {
      "cell_type": "markdown",
      "source": [
        "## Создание веб-сервиса с помощью FastAPI"
      ],
      "metadata": {
        "id": "ltyon-55MC2J"
      }
    },
    {
      "cell_type": "code",
      "metadata": {
        "colab": {
          "base_uri": "https://localhost:8080/"
        },
        "id": "Rr0LqM4MI3zK",
        "outputId": "9724bb1e-9ce0-42b1-cb4e-47155a0f69f3"
      },
      "source": [
        "!pip install fastapi\n",
        "!pip install uvicorn\n",
        "!pip install python-multipart"
      ],
      "execution_count": 2,
      "outputs": [
        {
          "output_type": "stream",
          "name": "stdout",
          "text": [
            "Looking in indexes: https://pypi.org/simple, https://us-python.pkg.dev/colab-wheels/public/simple/\n",
            "Collecting fastapi\n",
            "  Downloading fastapi-0.92.0-py3-none-any.whl (56 kB)\n",
            "\u001b[2K     \u001b[90m━━━━━━━━━━━━━━━━━━━━━━━━━━━━━━━━━━━━━━━━\u001b[0m \u001b[32m56.2/56.2 KB\u001b[0m \u001b[31m2.0 MB/s\u001b[0m eta \u001b[36m0:00:00\u001b[0m\n",
            "\u001b[?25hCollecting starlette<0.26.0,>=0.25.0\n",
            "  Downloading starlette-0.25.0-py3-none-any.whl (66 kB)\n",
            "\u001b[2K     \u001b[90m━━━━━━━━━━━━━━━━━━━━━━━━━━━━━━━━━━━━━━━━\u001b[0m \u001b[32m66.4/66.4 KB\u001b[0m \u001b[31m4.7 MB/s\u001b[0m eta \u001b[36m0:00:00\u001b[0m\n",
            "\u001b[?25hRequirement already satisfied: pydantic!=1.7,!=1.7.1,!=1.7.2,!=1.7.3,!=1.8,!=1.8.1,<2.0.0,>=1.6.2 in /usr/local/lib/python3.8/dist-packages (from fastapi) (1.10.5)\n",
            "Requirement already satisfied: typing-extensions>=4.2.0 in /usr/local/lib/python3.8/dist-packages (from pydantic!=1.7,!=1.7.1,!=1.7.2,!=1.7.3,!=1.8,!=1.8.1,<2.0.0,>=1.6.2->fastapi) (4.5.0)\n",
            "Collecting anyio<5,>=3.4.0\n",
            "  Downloading anyio-3.6.2-py3-none-any.whl (80 kB)\n",
            "\u001b[2K     \u001b[90m━━━━━━━━━━━━━━━━━━━━━━━━━━━━━━━━━━━━━━━━\u001b[0m \u001b[32m80.6/80.6 KB\u001b[0m \u001b[31m5.6 MB/s\u001b[0m eta \u001b[36m0:00:00\u001b[0m\n",
            "\u001b[?25hRequirement already satisfied: idna>=2.8 in /usr/local/lib/python3.8/dist-packages (from anyio<5,>=3.4.0->starlette<0.26.0,>=0.25.0->fastapi) (2.10)\n",
            "Collecting sniffio>=1.1\n",
            "  Downloading sniffio-1.3.0-py3-none-any.whl (10 kB)\n",
            "Installing collected packages: sniffio, anyio, starlette, fastapi\n",
            "Successfully installed anyio-3.6.2 fastapi-0.92.0 sniffio-1.3.0 starlette-0.25.0\n",
            "Looking in indexes: https://pypi.org/simple, https://us-python.pkg.dev/colab-wheels/public/simple/\n",
            "Collecting uvicorn\n",
            "  Downloading uvicorn-0.20.0-py3-none-any.whl (56 kB)\n",
            "\u001b[2K     \u001b[90m━━━━━━━━━━━━━━━━━━━━━━━━━━━━━━━━━━━━━━━━\u001b[0m \u001b[32m56.9/56.9 KB\u001b[0m \u001b[31m1.5 MB/s\u001b[0m eta \u001b[36m0:00:00\u001b[0m\n",
            "\u001b[?25hRequirement already satisfied: click>=7.0 in /usr/local/lib/python3.8/dist-packages (from uvicorn) (8.1.3)\n",
            "Collecting h11>=0.8\n",
            "  Downloading h11-0.14.0-py3-none-any.whl (58 kB)\n",
            "\u001b[2K     \u001b[90m━━━━━━━━━━━━━━━━━━━━━━━━━━━━━━━━━━━━━━━━\u001b[0m \u001b[32m58.3/58.3 KB\u001b[0m \u001b[31m3.7 MB/s\u001b[0m eta \u001b[36m0:00:00\u001b[0m\n",
            "\u001b[?25hInstalling collected packages: h11, uvicorn\n",
            "Successfully installed h11-0.14.0 uvicorn-0.20.0\n",
            "Looking in indexes: https://pypi.org/simple, https://us-python.pkg.dev/colab-wheels/public/simple/\n",
            "Collecting python-multipart\n",
            "  Downloading python_multipart-0.0.6-py3-none-any.whl (45 kB)\n",
            "\u001b[2K     \u001b[90m━━━━━━━━━━━━━━━━━━━━━━━━━━━━━━━━━━━━━━━━\u001b[0m \u001b[32m45.7/45.7 KB\u001b[0m \u001b[31m2.0 MB/s\u001b[0m eta \u001b[36m0:00:00\u001b[0m\n",
            "\u001b[?25hInstalling collected packages: python-multipart\n",
            "Successfully installed python-multipart-0.0.6\n"
          ]
        }
      ]
    },
    {
      "cell_type": "markdown",
      "metadata": {
        "id": "UFYKqNV8Orsv"
      },
      "source": [
        "Создадим файл с тестовым API:"
      ]
    },
    {
      "cell_type": "code",
      "metadata": {
        "id": "d1z17XZwI2tm"
      },
      "source": [
        "main_file = '''from fastapi import FastAPI\n",
        "\n",
        "app = FastAPI()\n",
        "\n",
        "@app.get(\"/test\")\n",
        "def read_root():\n",
        "    return {\"Hello\": \"World\"}\n",
        "'''\n",
        "\n",
        "with open('main.py', 'w') as file:\n",
        "    file.write(main_file)"
      ],
      "execution_count": 3,
      "outputs": []
    },
    {
      "cell_type": "markdown",
      "metadata": {
        "id": "VNJTt-a4O3nC"
      },
      "source": [
        "Запустим http-сервер **uvicorn** с указанием приложения, которое будет запускаться (**app** из файла **main.py**):"
      ]
    },
    {
      "cell_type": "code",
      "metadata": {
        "colab": {
          "base_uri": "https://localhost:8080/"
        },
        "id": "xfqr05_nJ_Sg",
        "outputId": "528cb321-68ac-4170-d627-0f15a55fbd0e"
      },
      "source": [
        "!nohup uvicorn main:app --reload &\n",
        "# nohup и & - прописываются для запуска процесса в фоне (чтобы не блокировать Colab)\n",
        "# параметр --reload позволяет автоматически перезапускать uvicorn при изменениях в файле main.py"
      ],
      "execution_count": 4,
      "outputs": [
        {
          "output_type": "stream",
          "name": "stdout",
          "text": [
            "nohup: appending output to 'nohup.out'\n"
          ]
        }
      ]
    },
    {
      "cell_type": "code",
      "metadata": {
        "id": "_XntMEpsP9bp"
      },
      "source": [
        "!cat nohup.out"
      ],
      "execution_count": 5,
      "outputs": []
    },
    {
      "cell_type": "code",
      "metadata": {
        "id": "3xUIRbGMK6yc",
        "colab": {
          "base_uri": "https://localhost:8080/"
        },
        "outputId": "7349d417-5b87-48b8-e80e-9eab6013a411"
      },
      "source": [
        "import requests\n",
        "r = requests.get('http://127.0.0.1:8000/test')\n",
        "print(r.status_code)\n",
        "print(r.text)"
      ],
      "execution_count": 7,
      "outputs": [
        {
          "output_type": "stream",
          "name": "stdout",
          "text": [
            "200\n",
            "{\"Hello\":\"World\"}\n"
          ]
        }
      ]
    },
    {
      "cell_type": "markdown",
      "source": [
        "Вебсервер работает и дает отклик на наши действия. Перейдем к следующему этапу."
      ],
      "metadata": {
        "id": "q5i9QDuDMH8S"
      }
    },
    {
      "cell_type": "markdown",
      "source": [
        "## Создание и загрузка на сервер предобученной модели MNIST"
      ],
      "metadata": {
        "id": "dYq7usqDMY_S"
      }
    },
    {
      "cell_type": "code",
      "metadata": {
        "id": "YIPqOGvALdMb"
      },
      "source": [
        "import numpy as np\n",
        "from tensorflow import keras\n",
        "from tensorflow.keras import layers"
      ],
      "execution_count": 8,
      "outputs": []
    },
    {
      "cell_type": "code",
      "source": [
        "# параметры модели\n",
        "num_classes = 10\n",
        "input_shape = (28, 28, 1)\n",
        "\n",
        "# загрузка MNIST данных\n",
        "(x_train, y_train), (x_test, y_test) = keras.datasets.mnist.load_data()\n",
        "\n",
        "# приведение данных к размерности от 0 до 1\n",
        "x_train = x_train.astype(\"float32\") / 255\n",
        "x_test = x_test.astype(\"float32\") / 255\n",
        "x_train = np.expand_dims(x_train, -1)\n",
        "x_test = np.expand_dims(x_test, -1)\n",
        "print(\"x_train shape:\", x_train.shape)\n",
        "print(x_train.shape[0], \"тренировочные данные\")\n",
        "print(x_test.shape[0], \"тестовые данные\")\n",
        "\n",
        "\n",
        "# преобразования из вектора в бинарную матрицу\n",
        "y_train = keras.utils.to_categorical(y_train, num_classes)\n",
        "y_test = keras.utils.to_categorical(y_test, num_classes)"
      ],
      "metadata": {
        "colab": {
          "base_uri": "https://localhost:8080/"
        },
        "id": "6hK8MxOBWbqn",
        "outputId": "fde4cd4b-4157-4ad6-be58-d4ea4078687b"
      },
      "execution_count": 9,
      "outputs": [
        {
          "output_type": "stream",
          "name": "stdout",
          "text": [
            "Downloading data from https://storage.googleapis.com/tensorflow/tf-keras-datasets/mnist.npz\n",
            "11490434/11490434 [==============================] - 0s 0us/step\n",
            "x_train shape: (60000, 28, 28, 1)\n",
            "60000 тренировочные данные\n",
            "10000 тестовые данные\n"
          ]
        }
      ]
    },
    {
      "cell_type": "markdown",
      "source": [
        "### Создадим модель"
      ],
      "metadata": {
        "id": "8rDoCjQKXNV5"
      }
    },
    {
      "cell_type": "code",
      "source": [
        "model = keras.Sequential(\n",
        "    [\n",
        "        keras.Input(shape=input_shape),\n",
        "        layers.Conv2D(32, kernel_size=(3, 3), activation=\"relu\"),\n",
        "        layers.MaxPooling2D(pool_size=(2, 2)),\n",
        "        layers.Conv2D(64, kernel_size=(3, 3), activation=\"relu\"),\n",
        "        layers.MaxPooling2D(pool_size=(2, 2)),\n",
        "        layers.Flatten(),\n",
        "        layers.Dropout(0.5),\n",
        "        layers.Dense(num_classes, activation=\"softmax\"),\n",
        "    ]\n",
        ")\n",
        "\n",
        "model.summary()"
      ],
      "metadata": {
        "colab": {
          "base_uri": "https://localhost:8080/"
        },
        "id": "mozo06WMXUTG",
        "outputId": "840d84d0-e8a9-4144-d653-3e86715f715b"
      },
      "execution_count": 10,
      "outputs": [
        {
          "output_type": "stream",
          "name": "stdout",
          "text": [
            "Model: \"sequential\"\n",
            "_________________________________________________________________\n",
            " Layer (type)                Output Shape              Param #   \n",
            "=================================================================\n",
            " conv2d (Conv2D)             (None, 26, 26, 32)        320       \n",
            "                                                                 \n",
            " max_pooling2d (MaxPooling2D  (None, 13, 13, 32)       0         \n",
            " )                                                               \n",
            "                                                                 \n",
            " conv2d_1 (Conv2D)           (None, 11, 11, 64)        18496     \n",
            "                                                                 \n",
            " max_pooling2d_1 (MaxPooling  (None, 5, 5, 64)         0         \n",
            " 2D)                                                             \n",
            "                                                                 \n",
            " flatten (Flatten)           (None, 1600)              0         \n",
            "                                                                 \n",
            " dropout (Dropout)           (None, 1600)              0         \n",
            "                                                                 \n",
            " dense (Dense)               (None, 10)                16010     \n",
            "                                                                 \n",
            "=================================================================\n",
            "Total params: 34,826\n",
            "Trainable params: 34,826\n",
            "Non-trainable params: 0\n",
            "_________________________________________________________________\n"
          ]
        }
      ]
    },
    {
      "cell_type": "code",
      "source": [
        "#натренируем модель на тестовых данных\n",
        "batch_size = 128\n",
        "epochs = 20\n",
        "\n",
        "model.compile(loss=\"categorical_crossentropy\", optimizer=\"adam\", metrics=[\"accuracy\"])\n",
        "\n",
        "history = model.fit(x_train, y_train, batch_size=batch_size, epochs=epochs, validation_split=0.1)"
      ],
      "metadata": {
        "colab": {
          "base_uri": "https://localhost:8080/"
        },
        "id": "IyIfI7lSXeFk",
        "outputId": "2d9a7b4f-cde7-4481-d770-b210bc8ff1a0"
      },
      "execution_count": 11,
      "outputs": [
        {
          "output_type": "stream",
          "name": "stdout",
          "text": [
            "Epoch 1/20\n",
            "422/422 [==============================] - 51s 118ms/step - loss: 0.3769 - accuracy: 0.8851 - val_loss: 0.0834 - val_accuracy: 0.9783\n",
            "Epoch 2/20\n",
            "422/422 [==============================] - 47s 111ms/step - loss: 0.1149 - accuracy: 0.9644 - val_loss: 0.0566 - val_accuracy: 0.9852\n",
            "Epoch 3/20\n",
            "422/422 [==============================] - 48s 115ms/step - loss: 0.0850 - accuracy: 0.9740 - val_loss: 0.0481 - val_accuracy: 0.9868\n",
            "Epoch 4/20\n",
            "422/422 [==============================] - 47s 111ms/step - loss: 0.0720 - accuracy: 0.9782 - val_loss: 0.0423 - val_accuracy: 0.9865\n",
            "Epoch 5/20\n",
            "422/422 [==============================] - 46s 108ms/step - loss: 0.0637 - accuracy: 0.9802 - val_loss: 0.0408 - val_accuracy: 0.9885\n",
            "Epoch 6/20\n",
            "422/422 [==============================] - 46s 109ms/step - loss: 0.0570 - accuracy: 0.9824 - val_loss: 0.0363 - val_accuracy: 0.9905\n",
            "Epoch 7/20\n",
            "422/422 [==============================] - 45s 107ms/step - loss: 0.0527 - accuracy: 0.9835 - val_loss: 0.0367 - val_accuracy: 0.9892\n",
            "Epoch 8/20\n",
            "422/422 [==============================] - 47s 111ms/step - loss: 0.0468 - accuracy: 0.9854 - val_loss: 0.0333 - val_accuracy: 0.9902\n",
            "Epoch 9/20\n",
            "422/422 [==============================] - 47s 111ms/step - loss: 0.0436 - accuracy: 0.9867 - val_loss: 0.0336 - val_accuracy: 0.9915\n",
            "Epoch 10/20\n",
            "422/422 [==============================] - 47s 111ms/step - loss: 0.0415 - accuracy: 0.9864 - val_loss: 0.0311 - val_accuracy: 0.9918\n",
            "Epoch 11/20\n",
            "422/422 [==============================] - 45s 108ms/step - loss: 0.0401 - accuracy: 0.9869 - val_loss: 0.0304 - val_accuracy: 0.9913\n",
            "Epoch 12/20\n",
            "422/422 [==============================] - 47s 111ms/step - loss: 0.0373 - accuracy: 0.9885 - val_loss: 0.0297 - val_accuracy: 0.9915\n",
            "Epoch 13/20\n",
            "422/422 [==============================] - 46s 108ms/step - loss: 0.0378 - accuracy: 0.9879 - val_loss: 0.0300 - val_accuracy: 0.9923\n",
            "Epoch 14/20\n",
            "422/422 [==============================] - 48s 115ms/step - loss: 0.0343 - accuracy: 0.9894 - val_loss: 0.0296 - val_accuracy: 0.9913\n",
            "Epoch 15/20\n",
            "422/422 [==============================] - 46s 108ms/step - loss: 0.0322 - accuracy: 0.9895 - val_loss: 0.0283 - val_accuracy: 0.9918\n",
            "Epoch 16/20\n",
            "422/422 [==============================] - 48s 113ms/step - loss: 0.0314 - accuracy: 0.9895 - val_loss: 0.0291 - val_accuracy: 0.9932\n",
            "Epoch 17/20\n",
            "422/422 [==============================] - 45s 108ms/step - loss: 0.0302 - accuracy: 0.9903 - val_loss: 0.0288 - val_accuracy: 0.9915\n",
            "Epoch 18/20\n",
            "422/422 [==============================] - 46s 110ms/step - loss: 0.0290 - accuracy: 0.9908 - val_loss: 0.0288 - val_accuracy: 0.9927\n",
            "Epoch 19/20\n",
            "422/422 [==============================] - 47s 111ms/step - loss: 0.0313 - accuracy: 0.9898 - val_loss: 0.0268 - val_accuracy: 0.9925\n",
            "Epoch 20/20\n",
            "422/422 [==============================] - 45s 107ms/step - loss: 0.0262 - accuracy: 0.9915 - val_loss: 0.0270 - val_accuracy: 0.9928\n"
          ]
        }
      ]
    },
    {
      "cell_type": "code",
      "metadata": {
        "id": "Kb-Lu5fPdGoh"
      },
      "source": [
        "# Импортируем модуль pyplot библиотеки matplotlib для построения графиков\n",
        "import matplotlib.pyplot as plt \n",
        "\n",
        "def plot_history(history):\n",
        "    plt.figure(figsize=(14,7))\n",
        "    plt.subplot (1, 2, 1)\n",
        "    plt.plot(history.history['loss'], \n",
        "            label='Средняя абсолютная ошибка на обучающем наборе')\n",
        "    plt.plot(history.history['val_loss'], \n",
        "            label='Средняя абсолютная ошибка на проверочном наборе')\n",
        "    plt.xlabel('Эпоха обучения')\n",
        "    plt.ylabel('Средняя абсолютная ошибка')\n",
        "    plt.legend()\n",
        "    \n",
        "    plt.subplot (1, 2, 2)\n",
        "    plt.plot(history.history['accuracy'], \n",
        "            label='Средняя точность на обучающем наборе')\n",
        "    plt.plot(history.history['val_accuracy'], \n",
        "            label='Средняя точность на проверочном наборе')\n",
        "    plt.xlabel('Эпоха обучения')\n",
        "    plt.ylabel('Средняя точность')\n",
        "    plt.legend()\n",
        "    plt.show()"
      ],
      "execution_count": 12,
      "outputs": []
    },
    {
      "cell_type": "code",
      "metadata": {
        "colab": {
          "base_uri": "https://localhost:8080/",
          "height": 442
        },
        "id": "QnTpEIQ4rQ9A",
        "outputId": "fe7730be-f2d8-48e2-9c8c-b5c63c69e5d9"
      },
      "source": [
        "plot_history(history)"
      ],
      "execution_count": 13,
      "outputs": [
        {
          "output_type": "display_data",
          "data": {
            "text/plain": [
              "<Figure size 1008x504 with 2 Axes>"
            ],
            "image/png": "[encoded data removed]"
          },
          "metadata": {
            "needs_background": "light"
          }
        }
      ]
    },
    {
      "cell_type": "code",
      "source": [
        "# проверка точности модели на тестовой выборке\n",
        "score = model.evaluate(x_test, y_test, verbose=0)\n",
        "print(\"Ошибка:\", score[0])\n",
        "print(\"Точность:\", score[1])"
      ],
      "metadata": {
        "colab": {
          "base_uri": "https://localhost:8080/"
        },
        "id": "-UWfVXzedxQG",
        "outputId": "3452cc22-5a82-45cd-884a-a3534446c915"
      },
      "execution_count": 14,
      "outputs": [
        {
          "output_type": "stream",
          "name": "stdout",
          "text": [
            "Ошибка: 0.02399793453514576\n",
            "Точность: 0.9926000237464905\n"
          ]
        }
      ]
    },
    {
      "cell_type": "markdown",
      "source": [
        "Как мы видим, модель достаточно точна, можно ее сохранить и загрузить на сервер."
      ],
      "metadata": {
        "id": "rkNkF8WJf6QY"
      }
    },
    {
      "cell_type": "code",
      "source": [
        "# Сохранение обученной модели полностью (веса и архитектура) после всех эпох\n",
        "\n",
        "model.save('mnist_model.h5')"
      ],
      "metadata": {
        "id": "BPR1d7DCYyAs"
      },
      "execution_count": 15,
      "outputs": []
    },
    {
      "cell_type": "markdown",
      "metadata": {
        "id": "Cy797xVmRvdZ"
      },
      "source": [
        "Создадим файл с кодом для инициализации модели, загрузки весов, предобработки изображения и инференса (режима предсказания) модели:"
      ]
    },
    {
      "cell_type": "code",
      "metadata": {
        "id": "sy0YcMMsCko9"
      },
      "source": [
        "predict_file = '''\n",
        "\n",
        "from tensorflow.keras.models import load_model\n",
        "import numpy as np\n",
        "from io import BytesIO\n",
        "from PIL import Image \n",
        "\n",
        "INPUT_SHAPE = (28, 28, 1)\n",
        "\n",
        "model = load_model('mnist_model.h5')  # Инициализация модели\n",
        "\n",
        "\n",
        "def process(image_file):\n",
        "    \n",
        "    img = Image.open(BytesIO(image_file)) \n",
        "    img = img.convert('L')\n",
        "    img = img.resize((28, 28))\n",
        "    img_array = np.array(img)\n",
        "    img_array = img_array.reshape(1, 28, 28, 1)\n",
        "    img_array = img_array / 255.0\n",
        "    prediction = model.predict(img_array)\n",
        "    predicted_digit = np.argmax(prediction)\n",
        "\n",
        "    return {'На картинке цифра': int(predicted_digit)}\n",
        "'''\n",
        "\n",
        "# Сохранение кода в файл\n",
        "with open('predict.py', 'w') as file:\n",
        "    file.write(predict_file)"
      ],
      "execution_count": 16,
      "outputs": []
    },
    {
      "cell_type": "markdown",
      "metadata": {
        "id": "Q8kUNCOrQz_S"
      },
      "source": [
        "Создадим новый эндпойнт, который будет принимать файл с изображением и возвращать результат:"
      ]
    },
    {
      "cell_type": "code",
      "metadata": {
        "id": "FlsYv96OM9vo"
      },
      "source": [
        "main_file = '''from fastapi import FastAPI, File\n",
        "from predict import process\n",
        "\n",
        "app = FastAPI()\n",
        "\n",
        "\n",
        "@app.post(\"/predict\")\n",
        "async def create_file(file: bytes = File(...)):\n",
        "    return {\"result\": process(file)}\n",
        "'''\n",
        "\n",
        "with open('main.py', 'w') as file:\n",
        "    file.write(main_file)"
      ],
      "execution_count": 17,
      "outputs": []
    },
    {
      "cell_type": "code",
      "source": [
        "# Загрузка собственных рукописных цифр из облака\n",
        "\n",
        "import gdown\n",
        "gdown.download('https://fastupload.io/download/1jar3XjXQG2dD/hEk9igBQjZjo39e/nums.zip', None, quiet=True)"
      ],
      "metadata": {
        "colab": {
          "base_uri": "https://localhost:8080/",
          "height": 36
        },
        "id": "u0eNLio_AfT2",
        "outputId": "0812268e-916b-4469-a777-dc17e99f3815"
      },
      "execution_count": 35,
      "outputs": [
        {
          "output_type": "execute_result",
          "data": {
            "text/plain": [
              "'nums.zip'"
            ],
            "application/vnd.google.colaboratory.intrinsic+json": {
              "type": "string"
            }
          },
          "metadata": {},
          "execution_count": 35
        }
      ]
    },
    {
      "cell_type": "code",
      "source": [
        "!unzip -q nums.zip"
      ],
      "metadata": {
        "colab": {
          "base_uri": "https://localhost:8080/"
        },
        "id": "_aV6Aw_aAwsm",
        "outputId": "03e81b51-730e-4dce-fdad-6d513cec5639"
      },
      "execution_count": 36,
      "outputs": [
        {
          "output_type": "stream",
          "name": "stdout",
          "text": [
            "replace num_2.jpg? [y]es, [n]o, [A]ll, [N]one, [r]ename: y\n"
          ]
        }
      ]
    },
    {
      "cell_type": "code",
      "metadata": {
        "colab": {
          "base_uri": "https://localhost:8080/",
          "height": 168
        },
        "id": "3MoDjFvnAmR2",
        "outputId": "3078b648-7f25-43a0-8b29-c71099687cb9"
      },
      "source": [
        "# Метод для загрузки изображений\n",
        "from tensorflow.keras.preprocessing.image import load_img \n",
        "\n",
        "# Вывод для примера картинок по каждому классу\n",
        "\n",
        "# Создание полотна из десяти графиков\n",
        "import matplotlib.pyplot as plt  \n",
        "fig, axs = plt.subplots(1, 10, figsize=(25, 5)) \n",
        "\n",
        "# Проход и отрисовка по всем картинкам\n",
        "for i in range(10):\n",
        "    img = load_img('num_' + str(i) + '.jpg', target_size=(28, 28)) \n",
        "    axs[i].imshow(img, cmap = 'gray')\n",
        "\n",
        "# Вывод изображений\n",
        "plt.show() "
      ],
      "execution_count": 40,
      "outputs": [
        {
          "output_type": "display_data",
          "data": {
            "text/plain": [
              "<Figure size 1800x360 with 10 Axes>"
            ],
            "image/png": "[encoded data removed]"
          },
          "metadata": {
            "needs_background": "light"
          }
        }
      ]
    },
    {
      "cell_type": "code",
      "metadata": {
        "colab": {
          "base_uri": "https://localhost:8080/"
        },
        "id": "q5GuslwWDI4R",
        "outputId": "c5239056-4e0b-4abd-a60a-a8fa9a0e5d14"
      },
      "source": [
        "# Загрузка тестовых изображений и :\n",
        "for i in range(10):\n",
        "    files = {'file': open('num_' + str(i) + '.jpg','rb')}\n",
        "    r = requests.post('http://127.0.0.1:8000/predict', files=files)\n",
        "    print(r.text, ' оригинал цифра:' + str(i))"
      ],
      "execution_count": 44,
      "outputs": [
        {
          "output_type": "stream",
          "name": "stdout",
          "text": [
            "{\"result\":{\"На картинке цифра\":8}}  оригинал цифра:0\n",
            "{\"result\":{\"На картинке цифра\":0}}  оригинал цифра:1\n",
            "{\"result\":{\"На картинке цифра\":8}}  оригинал цифра:2\n",
            "{\"result\":{\"На картинке цифра\":8}}  оригинал цифра:3\n",
            "{\"result\":{\"На картинке цифра\":4}}  оригинал цифра:4\n",
            "{\"result\":{\"На картинке цифра\":8}}  оригинал цифра:5\n",
            "{\"result\":{\"На картинке цифра\":8}}  оригинал цифра:6\n",
            "{\"result\":{\"На картинке цифра\":1}}  оригинал цифра:7\n",
            "{\"result\":{\"На картинке цифра\":8}}  оригинал цифра:8\n",
            "{\"result\":{\"На картинке цифра\":8}}  оригинал цифра:9\n"
          ]
        }
      ]
    }
  ]
}