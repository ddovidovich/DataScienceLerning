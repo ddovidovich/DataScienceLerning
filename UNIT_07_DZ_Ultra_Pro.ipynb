{
  "nbformat": 4,
  "nbformat_minor": 0,
  "metadata": {
    "colab": {
      "provenance": [],
      "include_colab_link": true
    },
    "kernelspec": {
      "name": "python3",
      "display_name": "Python 3"
    },
    "language_info": {
      "name": "python"
    }
  },
  "cells": [
    {
      "cell_type": "markdown",
      "metadata": {
        "id": "view-in-github",
        "colab_type": "text"
      },
      "source": [
        "<a href=\"https://colab.research.google.com/github/ddovidovich/DataScienceLerning/blob/main/UNIT_07_DZ_Ultra_Pro.ipynb\" target=\"_parent\"><img src=\"https://colab.research.google.com/assets/colab-badge.svg\" alt=\"Open In Colab\"/></a>"
      ]
    },
    {
      "cell_type": "markdown",
      "metadata": {
        "id": "31cbeZ-A5L3N"
      },
      "source": [
        "По базе машин с ЮЛЫ данным обучите модель для предсказания цен на машины.\n",
        "\n",
        "1. Создайте обучающую, тестовую и проверочную выборки. \n",
        "\n",
        "2. Оцените качество работы созданной сети, определив средний процент ошибки на проверочной выборке. (Для этого потребуется привести предсказанные моделью значения к первоначальному диапазону цен.)  \n",
        "\n",
        "3. Подсчитайте ошибку на каждом примере тестовой выборки и суммарный процент ошибки.\n",
        "\n",
        "\n",
        "Рекомендации:\n",
        "- в качестве ошибки рекомендуется использовать среднеквадратическую ошибку (mse).\n",
        "- метрику для данной задачи можно не использовать.\n",
        "- последний слой модели должен иметь 1 нейрон.\n",
        "- суммарный процент ошибки = средний модуль ошибки (MAE) / среднюю цену машины. Например, если средняя цена машины 560.000 р, а средняя ошибка 56.000р, то процент ошибки равен 10%.\n"
      ]
    },
    {
      "cell_type": "code",
      "metadata": {
        "id": "DSW-0LMrsBqD",
        "colab": {
          "base_uri": "https://localhost:8080/",
          "height": 36
        },
        "outputId": "f682158f-95c3-4a78-87b1-2ee02bb2f7bb"
      },
      "source": [
        "# Загрузка датафрейма из google облака\n",
        "import gdown\n",
        "\n",
        "gdown.download('https://storage.yandexcloud.net/aiueducation/Content/base/l10/cars_new.csv', None, quiet=True)"
      ],
      "execution_count": 1,
      "outputs": [
        {
          "output_type": "execute_result",
          "data": {
            "text/plain": [
              "'cars_new.csv'"
            ],
            "application/vnd.google.colaboratory.intrinsic+json": {
              "type": "string"
            }
          },
          "metadata": {},
          "execution_count": 1
        }
      ]
    },
    {
      "cell_type": "code",
      "metadata": {
        "id": "n_VxsmeHo8vb"
      },
      "source": [
        "# Ваше решение\n",
        "# Работа с массивами данных\n",
        "import numpy as np \n",
        "\n",
        "# Работа с табличными данными\n",
        "import pandas as pd\n",
        "\n",
        "# Функции-утилиты для работы с категориальными данными\n",
        "from tensorflow.keras import utils\n",
        "\n",
        "# Класс для конструирования последовательной модели нейронной сети\n",
        "from tensorflow.keras.models import Sequential, Model\n",
        "\n",
        "# Основные слои\n",
        "from tensorflow.keras.layers import Dense, Dropout, SpatialDropout1D, BatchNormalization, Embedding, Flatten, Activation, Input, concatenate\n",
        "from tensorflow.keras.layers import SimpleRNN, GRU, LSTM, Bidirectional, Conv1D, MaxPooling1D, GlobalMaxPooling1D\n",
        "\n",
        "# Оптимизаторы\n",
        "from tensorflow.keras.optimizers import Adam, Adadelta, SGD, Adagrad, RMSprop\n",
        "\n",
        "# Токенизатор для преобразование текстов в последовательности\n",
        "from tensorflow.keras.preprocessing.text import Tokenizer\n",
        "\n",
        "# Масштабирование данных\n",
        "from sklearn.preprocessing import StandardScaler\n",
        "\n",
        "# Регулярные выражения\n",
        "import re\n",
        "\n",
        "# Отрисовка графиков\n",
        "import matplotlib.pyplot as plt\n",
        "\n",
        "# Метрики для расчета ошибок\n",
        "from sklearn.metrics import mean_squared_error, mean_absolute_error\n",
        "\n",
        "%matplotlib inline"
      ],
      "execution_count": 2,
      "outputs": []
    },
    {
      "cell_type": "markdown",
      "source": [
        "## **Парсинг базы**"
      ],
      "metadata": {
        "id": "YL1Zrbpov7xi"
      }
    },
    {
      "cell_type": "code",
      "source": [
        "# Чтение файла базы данных\n",
        "df = pd.read_csv('cars_new.csv', sep=',')\n",
        "\n",
        "# Вывод количества резюме и числа признаков\n",
        "print(df.shape)\n",
        "\n",
        "df.head(10)"
      ],
      "metadata": {
        "colab": {
          "base_uri": "https://localhost:8080/",
          "height": 381
        },
        "id": "CDv8FwSnwG5W",
        "outputId": "65bc86a3-1f31-4045-b199-5c18d90d6450"
      },
      "execution_count": 3,
      "outputs": [
        {
          "output_type": "stream",
          "name": "stdout",
          "text": [
            "(70119, 10)\n"
          ]
        },
        {
          "output_type": "execute_result",
          "data": {
            "text/plain": [
              "            mark                                    model    price  year  \\\n",
              "0            kia                                   cerato   996000  2018   \n",
              "1         daewoo       nexia 1 поколение [2-й рестайлинг]   140200  2012   \n",
              "2         suzuki           jimny 3 поколение [рестайлинг]   750000  2011   \n",
              "3            bmw                   x1 18 e84 [рестайлинг]   970000  2014   \n",
              "4      chevrolet                      lacetti 1 поколение   205000  2007   \n",
              "5        hyundai                        creta 1 поколение   985000  2016   \n",
              "6            kia                         ceed 2 поколение   589000  2013   \n",
              "7         toyota                             corolla e140   500000  2008   \n",
              "8  mercedes-benz  c-класс 180 w204/s204/c204 [рестайлинг]  1320000  2015   \n",
              "9            bmw                      7 серия 735 e65/e66   270000  2001   \n",
              "\n",
              "   mileage         body       kpp    fuel  volume  power  \n",
              "0    28000        седан   автомат  бензин     2.0  150.0  \n",
              "1    60500        седан  механика  бензин     1.5   80.0  \n",
              "2    29000  внедорожник   автомат  бензин     1.3   85.0  \n",
              "3    49500    кроссовер   автомат  бензин     2.0  150.0  \n",
              "4   151445        седан  механика  бензин     1.4   95.0  \n",
              "5    34067    кроссовер   автомат  бензин     2.0  150.0  \n",
              "6    98000      хетчбэк   автомат  бензин     1.6  129.0  \n",
              "7   141000        седан   автомат  бензин     1.6  124.0  \n",
              "8    81112        седан   автомат  бензин     1.6  156.0  \n",
              "9   300000        седан   автомат  бензин     3.6  272.0  "
            ],
            "text/html": [
              "\n",
              "  <div id=\"df-054d445f-33d7-491f-8bb6-e6c3b7e96d3f\">\n",
              "    <div class=\"colab-df-container\">\n",
              "      <div>\n",
              "<style scoped>\n",
              "    .dataframe tbody tr th:only-of-type {\n",
              "        vertical-align: middle;\n",
              "    }\n",
              "\n",
              "    .dataframe tbody tr th {\n",
              "        vertical-align: top;\n",
              "    }\n",
              "\n",
              "    .dataframe thead th {\n",
              "        text-align: right;\n",
              "    }\n",
              "</style>\n",
              "<table border=\"1\" class=\"dataframe\">\n",
              "  <thead>\n",
              "    <tr style=\"text-align: right;\">\n",
              "      <th></th>\n",
              "      <th>mark</th>\n",
              "      <th>model</th>\n",
              "      <th>price</th>\n",
              "      <th>year</th>\n",
              "      <th>mileage</th>\n",
              "      <th>body</th>\n",
              "      <th>kpp</th>\n",
              "      <th>fuel</th>\n",
              "      <th>volume</th>\n",
              "      <th>power</th>\n",
              "    </tr>\n",
              "  </thead>\n",
              "  <tbody>\n",
              "    <tr>\n",
              "      <th>0</th>\n",
              "      <td>kia</td>\n",
              "      <td>cerato</td>\n",
              "      <td>996000</td>\n",
              "      <td>2018</td>\n",
              "      <td>28000</td>\n",
              "      <td>седан</td>\n",
              "      <td>автомат</td>\n",
              "      <td>бензин</td>\n",
              "      <td>2.0</td>\n",
              "      <td>150.0</td>\n",
              "    </tr>\n",
              "    <tr>\n",
              "      <th>1</th>\n",
              "      <td>daewoo</td>\n",
              "      <td>nexia 1 поколение [2-й рестайлинг]</td>\n",
              "      <td>140200</td>\n",
              "      <td>2012</td>\n",
              "      <td>60500</td>\n",
              "      <td>седан</td>\n",
              "      <td>механика</td>\n",
              "      <td>бензин</td>\n",
              "      <td>1.5</td>\n",
              "      <td>80.0</td>\n",
              "    </tr>\n",
              "    <tr>\n",
              "      <th>2</th>\n",
              "      <td>suzuki</td>\n",
              "      <td>jimny 3 поколение [рестайлинг]</td>\n",
              "      <td>750000</td>\n",
              "      <td>2011</td>\n",
              "      <td>29000</td>\n",
              "      <td>внедорожник</td>\n",
              "      <td>автомат</td>\n",
              "      <td>бензин</td>\n",
              "      <td>1.3</td>\n",
              "      <td>85.0</td>\n",
              "    </tr>\n",
              "    <tr>\n",
              "      <th>3</th>\n",
              "      <td>bmw</td>\n",
              "      <td>x1 18 e84 [рестайлинг]</td>\n",
              "      <td>970000</td>\n",
              "      <td>2014</td>\n",
              "      <td>49500</td>\n",
              "      <td>кроссовер</td>\n",
              "      <td>автомат</td>\n",
              "      <td>бензин</td>\n",
              "      <td>2.0</td>\n",
              "      <td>150.0</td>\n",
              "    </tr>\n",
              "    <tr>\n",
              "      <th>4</th>\n",
              "      <td>chevrolet</td>\n",
              "      <td>lacetti 1 поколение</td>\n",
              "      <td>205000</td>\n",
              "      <td>2007</td>\n",
              "      <td>151445</td>\n",
              "      <td>седан</td>\n",
              "      <td>механика</td>\n",
              "      <td>бензин</td>\n",
              "      <td>1.4</td>\n",
              "      <td>95.0</td>\n",
              "    </tr>\n",
              "    <tr>\n",
              "      <th>5</th>\n",
              "      <td>hyundai</td>\n",
              "      <td>creta 1 поколение</td>\n",
              "      <td>985000</td>\n",
              "      <td>2016</td>\n",
              "      <td>34067</td>\n",
              "      <td>кроссовер</td>\n",
              "      <td>автомат</td>\n",
              "      <td>бензин</td>\n",
              "      <td>2.0</td>\n",
              "      <td>150.0</td>\n",
              "    </tr>\n",
              "    <tr>\n",
              "      <th>6</th>\n",
              "      <td>kia</td>\n",
              "      <td>ceed 2 поколение</td>\n",
              "      <td>589000</td>\n",
              "      <td>2013</td>\n",
              "      <td>98000</td>\n",
              "      <td>хетчбэк</td>\n",
              "      <td>автомат</td>\n",
              "      <td>бензин</td>\n",
              "      <td>1.6</td>\n",
              "      <td>129.0</td>\n",
              "    </tr>\n",
              "    <tr>\n",
              "      <th>7</th>\n",
              "      <td>toyota</td>\n",
              "      <td>corolla e140</td>\n",
              "      <td>500000</td>\n",
              "      <td>2008</td>\n",
              "      <td>141000</td>\n",
              "      <td>седан</td>\n",
              "      <td>автомат</td>\n",
              "      <td>бензин</td>\n",
              "      <td>1.6</td>\n",
              "      <td>124.0</td>\n",
              "    </tr>\n",
              "    <tr>\n",
              "      <th>8</th>\n",
              "      <td>mercedes-benz</td>\n",
              "      <td>c-класс 180 w204/s204/c204 [рестайлинг]</td>\n",
              "      <td>1320000</td>\n",
              "      <td>2015</td>\n",
              "      <td>81112</td>\n",
              "      <td>седан</td>\n",
              "      <td>автомат</td>\n",
              "      <td>бензин</td>\n",
              "      <td>1.6</td>\n",
              "      <td>156.0</td>\n",
              "    </tr>\n",
              "    <tr>\n",
              "      <th>9</th>\n",
              "      <td>bmw</td>\n",
              "      <td>7 серия 735 e65/e66</td>\n",
              "      <td>270000</td>\n",
              "      <td>2001</td>\n",
              "      <td>300000</td>\n",
              "      <td>седан</td>\n",
              "      <td>автомат</td>\n",
              "      <td>бензин</td>\n",
              "      <td>3.6</td>\n",
              "      <td>272.0</td>\n",
              "    </tr>\n",
              "  </tbody>\n",
              "</table>\n",
              "</div>\n",
              "      <button class=\"colab-df-convert\" onclick=\"convertToInteractive('df-054d445f-33d7-491f-8bb6-e6c3b7e96d3f')\"\n",
              "              title=\"Convert this dataframe to an interactive table.\"\n",
              "              style=\"display:none;\">\n",
              "        \n",
              "  <svg xmlns=\"http://www.w3.org/2000/svg\" height=\"24px\"viewBox=\"0 0 24 24\"\n",
              "       width=\"24px\">\n",
              "    <path d=\"M0 0h24v24H0V0z\" fill=\"none\"/>\n",
              "    <path d=\"M18.56 5.44l.94 2.06.94-2.06 2.06-.94-2.06-.94-.94-2.06-.94 2.06-2.06.94zm-11 1L8.5 8.5l.94-2.06 2.06-.94-2.06-.94L8.5 2.5l-.94 2.06-2.06.94zm10 10l.94 2.06.94-2.06 2.06-.94-2.06-.94-.94-2.06-.94 2.06-2.06.94z\"/><path d=\"M17.41 7.96l-1.37-1.37c-.4-.4-.92-.59-1.43-.59-.52 0-1.04.2-1.43.59L10.3 9.45l-7.72 7.72c-.78.78-.78 2.05 0 2.83L4 21.41c.39.39.9.59 1.41.59.51 0 1.02-.2 1.41-.59l7.78-7.78 2.81-2.81c.8-.78.8-2.07 0-2.86zM5.41 20L4 18.59l7.72-7.72 1.47 1.35L5.41 20z\"/>\n",
              "  </svg>\n",
              "      </button>\n",
              "      \n",
              "  <style>\n",
              "    .colab-df-container {\n",
              "      display:flex;\n",
              "      flex-wrap:wrap;\n",
              "      gap: 12px;\n",
              "    }\n",
              "\n",
              "    .colab-df-convert {\n",
              "      background-color: #E8F0FE;\n",
              "      border: none;\n",
              "      border-radius: 50%;\n",
              "      cursor: pointer;\n",
              "      display: none;\n",
              "      fill: #1967D2;\n",
              "      height: 32px;\n",
              "      padding: 0 0 0 0;\n",
              "      width: 32px;\n",
              "    }\n",
              "\n",
              "    .colab-df-convert:hover {\n",
              "      background-color: #E2EBFA;\n",
              "      box-shadow: 0px 1px 2px rgba(60, 64, 67, 0.3), 0px 1px 3px 1px rgba(60, 64, 67, 0.15);\n",
              "      fill: #174EA6;\n",
              "    }\n",
              "\n",
              "    [theme=dark] .colab-df-convert {\n",
              "      background-color: #3B4455;\n",
              "      fill: #D2E3FC;\n",
              "    }\n",
              "\n",
              "    [theme=dark] .colab-df-convert:hover {\n",
              "      background-color: #434B5C;\n",
              "      box-shadow: 0px 1px 3px 1px rgba(0, 0, 0, 0.15);\n",
              "      filter: drop-shadow(0px 1px 2px rgba(0, 0, 0, 0.3));\n",
              "      fill: #FFFFFF;\n",
              "    }\n",
              "  </style>\n",
              "\n",
              "      <script>\n",
              "        const buttonEl =\n",
              "          document.querySelector('#df-054d445f-33d7-491f-8bb6-e6c3b7e96d3f button.colab-df-convert');\n",
              "        buttonEl.style.display =\n",
              "          google.colab.kernel.accessAllowed ? 'block' : 'none';\n",
              "\n",
              "        async function convertToInteractive(key) {\n",
              "          const element = document.querySelector('#df-054d445f-33d7-491f-8bb6-e6c3b7e96d3f');\n",
              "          const dataTable =\n",
              "            await google.colab.kernel.invokeFunction('convertToInteractive',\n",
              "                                                     [key], {});\n",
              "          if (!dataTable) return;\n",
              "\n",
              "          const docLinkHtml = 'Like what you see? Visit the ' +\n",
              "            '<a target=\"_blank\" href=https://colab.research.google.com/notebooks/data_table.ipynb>data table notebook</a>'\n",
              "            + ' to learn more about interactive tables.';\n",
              "          element.innerHTML = '';\n",
              "          dataTable['output_type'] = 'display_data';\n",
              "          await google.colab.output.renderOutput(dataTable, element);\n",
              "          const docLink = document.createElement('div');\n",
              "          docLink.innerHTML = docLinkHtml;\n",
              "          element.appendChild(docLink);\n",
              "        }\n",
              "      </script>\n",
              "    </div>\n",
              "  </div>\n",
              "  "
            ]
          },
          "metadata": {},
          "execution_count": 3
        }
      ]
    },
    {
      "cell_type": "markdown",
      "source": [
        "### **Выделение категорий**"
      ],
      "metadata": {
        "id": "tQz6GP1d0_wW"
      }
    },
    {
      "cell_type": "code",
      "source": [
        "df.fuel.unique()"
      ],
      "metadata": {
        "colab": {
          "base_uri": "https://localhost:8080/"
        },
        "id": "PVe-GxCX1R7F",
        "outputId": "bd5a4d04-d87f-4998-b1ea-f42565be80ab"
      },
      "execution_count": 4,
      "outputs": [
        {
          "output_type": "execute_result",
          "data": {
            "text/plain": [
              "array(['бензин', 'дизель', 'гибрид', 'электро', 'газ'], dtype=object)"
            ]
          },
          "metadata": {},
          "execution_count": 4
        }
      ]
    },
    {
      "cell_type": "code",
      "source": [
        "df.body.unique()"
      ],
      "metadata": {
        "colab": {
          "base_uri": "https://localhost:8080/"
        },
        "id": "AspIDp6k8e-F",
        "outputId": "b8416bfb-a45d-4b00-9eb5-d67393220fdc"
      },
      "execution_count": 5,
      "outputs": [
        {
          "output_type": "execute_result",
          "data": {
            "text/plain": [
              "array(['седан', 'внедорожник', 'кроссовер', 'хетчбэк', 'универсал',\n",
              "       'минивэн', 'лифтбэк', 'купе', 'микроавтобус', 'пикап', 'кабриолет',\n",
              "       'хардтоп', 'родстер', 'тарга', nan, 'лимузин', 'фастбэк'],\n",
              "      dtype=object)"
            ]
          },
          "metadata": {},
          "execution_count": 5
        }
      ]
    },
    {
      "cell_type": "code",
      "source": [
        "df['body'] = df['body'].replace(np.nan, 'седан')\n",
        "df.body.unique()"
      ],
      "metadata": {
        "colab": {
          "base_uri": "https://localhost:8080/"
        },
        "id": "E61JrZfcnv1m",
        "outputId": "0b1cb61f-df16-4312-9705-45e63c319e66"
      },
      "execution_count": 6,
      "outputs": [
        {
          "output_type": "execute_result",
          "data": {
            "text/plain": [
              "array(['седан', 'внедорожник', 'кроссовер', 'хетчбэк', 'универсал',\n",
              "       'минивэн', 'лифтбэк', 'купе', 'микроавтобус', 'пикап', 'кабриолет',\n",
              "       'хардтоп', 'родстер', 'тарга', 'лимузин', 'фастбэк'], dtype=object)"
            ]
          },
          "metadata": {},
          "execution_count": 6
        }
      ]
    },
    {
      "cell_type": "code",
      "source": [
        "df.kpp.unique()"
      ],
      "metadata": {
        "colab": {
          "base_uri": "https://localhost:8080/"
        },
        "id": "CgFKWxiP8mbl",
        "outputId": "b2d1724f-1a41-479a-ba5a-643384234de8"
      },
      "execution_count": 7,
      "outputs": [
        {
          "output_type": "execute_result",
          "data": {
            "text/plain": [
              "array(['автомат', 'механика', 'робот', 'вариатор', nan], dtype=object)"
            ]
          },
          "metadata": {},
          "execution_count": 7
        }
      ]
    },
    {
      "cell_type": "code",
      "source": [
        "df['kpp'] = df['kpp'].replace(np.nan, 'механика')\n",
        "df.kpp.unique()"
      ],
      "metadata": {
        "colab": {
          "base_uri": "https://localhost:8080/"
        },
        "id": "wzNekev1oTDn",
        "outputId": "97d08cfb-942f-4160-f907-768ada444fb8"
      },
      "execution_count": 8,
      "outputs": [
        {
          "output_type": "execute_result",
          "data": {
            "text/plain": [
              "array(['автомат', 'механика', 'робот', 'вариатор'], dtype=object)"
            ]
          },
          "metadata": {},
          "execution_count": 8
        }
      ]
    },
    {
      "cell_type": "code",
      "source": [
        "df.volume.unique()"
      ],
      "metadata": {
        "colab": {
          "base_uri": "https://localhost:8080/"
        },
        "id": "FLnYCVJZJ9e0",
        "outputId": "8e861e45-57a5-4c83-efdf-7ce961b92e60"
      },
      "execution_count": 9,
      "outputs": [
        {
          "output_type": "execute_result",
          "data": {
            "text/plain": [
              "array([ 2. ,  1.5,  1.3,  1.4,  1.6,  3.6,  2.4,  1.8,  2.3,  1.7,  3. ,\n",
              "        2.2,  2.5,  1.2,  4. ,  3.2,  3.4,  3.5,  1. ,  4.2,  1.9,  2.1,\n",
              "        2.8,  1.1,  0.8,  4.7,  4.8,  4.4,  2.7,  3.7,  5.4,  2.6,  4.9,\n",
              "        6. ,  5.3,  0.7,  5.2,  3.8,  5.5,  5. ,  6.2,  2.9,  5.7,  4.5,\n",
              "        3.1,  7. ,  3.3,  4.1,  4.6,  4.3,  5.6,  5.9,  0.6,  6.5, 10. ,\n",
              "        8. ,  0.5,  0.3,  3.9,  5.8,  6.7,  0.9,  8.1,  9. ,  7.2])"
            ]
          },
          "metadata": {},
          "execution_count": 9
        }
      ]
    },
    {
      "cell_type": "markdown",
      "source": [
        "Проверим какие машины у нас с двигателями максимального объема"
      ],
      "metadata": {
        "id": "UTi6LaNf-m1N"
      }
    },
    {
      "cell_type": "code",
      "source": [
        "df[df.volume>=8]"
      ],
      "metadata": {
        "colab": {
          "base_uri": "https://localhost:8080/",
          "height": 331
        },
        "id": "c8hDhhTV-t5k",
        "outputId": "720a23de-d917-4545-ac6e-11b19b313780"
      },
      "execution_count": 10,
      "outputs": [
        {
          "output_type": "execute_result",
          "data": {
            "text/plain": [
              "                mark                     model    price  year  mileage  \\\n",
              "11810      chevrolet         lanos 1 поколение    80000  2008    90000   \n",
              "15149  mercedes-benz                 vito w638   450000  2002   250000   \n",
              "16785      chevrolet         lanos 1 поколение    45000  2006   223034   \n",
              "25800            bmw       6 серия 650 e63/e64   790000  2006   130000   \n",
              "45084         daewoo                     matiz   120000  2005   150000   \n",
              "53455     volkswagen  multivan t5 [рестайлинг]  1750000  2012   152000   \n",
              "57429      chevrolet           suburban gmt800   750000  2005   329000   \n",
              "58092         toyota                      rav4   450000  2003   177000   \n",
              "66747         toyota               corona t210   230000  1999   170000   \n",
              "\n",
              "              body       kpp    fuel  volume  power  \n",
              "11810        седан  механика  бензин    10.0   63.0  \n",
              "15149      минивэн   автомат  дизель    10.0  150.0  \n",
              "16785        седан  механика  бензин     8.0   86.0  \n",
              "25800         купе   автомат  бензин     8.0  407.0  \n",
              "45084      хетчбэк  механика  бензин     8.0   51.0  \n",
              "53455      минивэн     робот  дизель    10.0  260.0  \n",
              "57429  внедорожник   автомат  бензин     8.1  320.0  \n",
              "58092    кроссовер   автомат  бензин     9.0   51.0  \n",
              "66747        седан   автомат  дизель     8.0   95.0  "
            ],
            "text/html": [
              "\n",
              "  <div id=\"df-93240d14-7ede-4e96-9cc9-d79b2c211c59\">\n",
              "    <div class=\"colab-df-container\">\n",
              "      <div>\n",
              "<style scoped>\n",
              "    .dataframe tbody tr th:only-of-type {\n",
              "        vertical-align: middle;\n",
              "    }\n",
              "\n",
              "    .dataframe tbody tr th {\n",
              "        vertical-align: top;\n",
              "    }\n",
              "\n",
              "    .dataframe thead th {\n",
              "        text-align: right;\n",
              "    }\n",
              "</style>\n",
              "<table border=\"1\" class=\"dataframe\">\n",
              "  <thead>\n",
              "    <tr style=\"text-align: right;\">\n",
              "      <th></th>\n",
              "      <th>mark</th>\n",
              "      <th>model</th>\n",
              "      <th>price</th>\n",
              "      <th>year</th>\n",
              "      <th>mileage</th>\n",
              "      <th>body</th>\n",
              "      <th>kpp</th>\n",
              "      <th>fuel</th>\n",
              "      <th>volume</th>\n",
              "      <th>power</th>\n",
              "    </tr>\n",
              "  </thead>\n",
              "  <tbody>\n",
              "    <tr>\n",
              "      <th>11810</th>\n",
              "      <td>chevrolet</td>\n",
              "      <td>lanos 1 поколение</td>\n",
              "      <td>80000</td>\n",
              "      <td>2008</td>\n",
              "      <td>90000</td>\n",
              "      <td>седан</td>\n",
              "      <td>механика</td>\n",
              "      <td>бензин</td>\n",
              "      <td>10.0</td>\n",
              "      <td>63.0</td>\n",
              "    </tr>\n",
              "    <tr>\n",
              "      <th>15149</th>\n",
              "      <td>mercedes-benz</td>\n",
              "      <td>vito w638</td>\n",
              "      <td>450000</td>\n",
              "      <td>2002</td>\n",
              "      <td>250000</td>\n",
              "      <td>минивэн</td>\n",
              "      <td>автомат</td>\n",
              "      <td>дизель</td>\n",
              "      <td>10.0</td>\n",
              "      <td>150.0</td>\n",
              "    </tr>\n",
              "    <tr>\n",
              "      <th>16785</th>\n",
              "      <td>chevrolet</td>\n",
              "      <td>lanos 1 поколение</td>\n",
              "      <td>45000</td>\n",
              "      <td>2006</td>\n",
              "      <td>223034</td>\n",
              "      <td>седан</td>\n",
              "      <td>механика</td>\n",
              "      <td>бензин</td>\n",
              "      <td>8.0</td>\n",
              "      <td>86.0</td>\n",
              "    </tr>\n",
              "    <tr>\n",
              "      <th>25800</th>\n",
              "      <td>bmw</td>\n",
              "      <td>6 серия 650 e63/e64</td>\n",
              "      <td>790000</td>\n",
              "      <td>2006</td>\n",
              "      <td>130000</td>\n",
              "      <td>купе</td>\n",
              "      <td>автомат</td>\n",
              "      <td>бензин</td>\n",
              "      <td>8.0</td>\n",
              "      <td>407.0</td>\n",
              "    </tr>\n",
              "    <tr>\n",
              "      <th>45084</th>\n",
              "      <td>daewoo</td>\n",
              "      <td>matiz</td>\n",
              "      <td>120000</td>\n",
              "      <td>2005</td>\n",
              "      <td>150000</td>\n",
              "      <td>хетчбэк</td>\n",
              "      <td>механика</td>\n",
              "      <td>бензин</td>\n",
              "      <td>8.0</td>\n",
              "      <td>51.0</td>\n",
              "    </tr>\n",
              "    <tr>\n",
              "      <th>53455</th>\n",
              "      <td>volkswagen</td>\n",
              "      <td>multivan t5 [рестайлинг]</td>\n",
              "      <td>1750000</td>\n",
              "      <td>2012</td>\n",
              "      <td>152000</td>\n",
              "      <td>минивэн</td>\n",
              "      <td>робот</td>\n",
              "      <td>дизель</td>\n",
              "      <td>10.0</td>\n",
              "      <td>260.0</td>\n",
              "    </tr>\n",
              "    <tr>\n",
              "      <th>57429</th>\n",
              "      <td>chevrolet</td>\n",
              "      <td>suburban gmt800</td>\n",
              "      <td>750000</td>\n",
              "      <td>2005</td>\n",
              "      <td>329000</td>\n",
              "      <td>внедорожник</td>\n",
              "      <td>автомат</td>\n",
              "      <td>бензин</td>\n",
              "      <td>8.1</td>\n",
              "      <td>320.0</td>\n",
              "    </tr>\n",
              "    <tr>\n",
              "      <th>58092</th>\n",
              "      <td>toyota</td>\n",
              "      <td>rav4</td>\n",
              "      <td>450000</td>\n",
              "      <td>2003</td>\n",
              "      <td>177000</td>\n",
              "      <td>кроссовер</td>\n",
              "      <td>автомат</td>\n",
              "      <td>бензин</td>\n",
              "      <td>9.0</td>\n",
              "      <td>51.0</td>\n",
              "    </tr>\n",
              "    <tr>\n",
              "      <th>66747</th>\n",
              "      <td>toyota</td>\n",
              "      <td>corona t210</td>\n",
              "      <td>230000</td>\n",
              "      <td>1999</td>\n",
              "      <td>170000</td>\n",
              "      <td>седан</td>\n",
              "      <td>автомат</td>\n",
              "      <td>дизель</td>\n",
              "      <td>8.0</td>\n",
              "      <td>95.0</td>\n",
              "    </tr>\n",
              "  </tbody>\n",
              "</table>\n",
              "</div>\n",
              "      <button class=\"colab-df-convert\" onclick=\"convertToInteractive('df-93240d14-7ede-4e96-9cc9-d79b2c211c59')\"\n",
              "              title=\"Convert this dataframe to an interactive table.\"\n",
              "              style=\"display:none;\">\n",
              "        \n",
              "  <svg xmlns=\"http://www.w3.org/2000/svg\" height=\"24px\"viewBox=\"0 0 24 24\"\n",
              "       width=\"24px\">\n",
              "    <path d=\"M0 0h24v24H0V0z\" fill=\"none\"/>\n",
              "    <path d=\"M18.56 5.44l.94 2.06.94-2.06 2.06-.94-2.06-.94-.94-2.06-.94 2.06-2.06.94zm-11 1L8.5 8.5l.94-2.06 2.06-.94-2.06-.94L8.5 2.5l-.94 2.06-2.06.94zm10 10l.94 2.06.94-2.06 2.06-.94-2.06-.94-.94-2.06-.94 2.06-2.06.94z\"/><path d=\"M17.41 7.96l-1.37-1.37c-.4-.4-.92-.59-1.43-.59-.52 0-1.04.2-1.43.59L10.3 9.45l-7.72 7.72c-.78.78-.78 2.05 0 2.83L4 21.41c.39.39.9.59 1.41.59.51 0 1.02-.2 1.41-.59l7.78-7.78 2.81-2.81c.8-.78.8-2.07 0-2.86zM5.41 20L4 18.59l7.72-7.72 1.47 1.35L5.41 20z\"/>\n",
              "  </svg>\n",
              "      </button>\n",
              "      \n",
              "  <style>\n",
              "    .colab-df-container {\n",
              "      display:flex;\n",
              "      flex-wrap:wrap;\n",
              "      gap: 12px;\n",
              "    }\n",
              "\n",
              "    .colab-df-convert {\n",
              "      background-color: #E8F0FE;\n",
              "      border: none;\n",
              "      border-radius: 50%;\n",
              "      cursor: pointer;\n",
              "      display: none;\n",
              "      fill: #1967D2;\n",
              "      height: 32px;\n",
              "      padding: 0 0 0 0;\n",
              "      width: 32px;\n",
              "    }\n",
              "\n",
              "    .colab-df-convert:hover {\n",
              "      background-color: #E2EBFA;\n",
              "      box-shadow: 0px 1px 2px rgba(60, 64, 67, 0.3), 0px 1px 3px 1px rgba(60, 64, 67, 0.15);\n",
              "      fill: #174EA6;\n",
              "    }\n",
              "\n",
              "    [theme=dark] .colab-df-convert {\n",
              "      background-color: #3B4455;\n",
              "      fill: #D2E3FC;\n",
              "    }\n",
              "\n",
              "    [theme=dark] .colab-df-convert:hover {\n",
              "      background-color: #434B5C;\n",
              "      box-shadow: 0px 1px 3px 1px rgba(0, 0, 0, 0.15);\n",
              "      filter: drop-shadow(0px 1px 2px rgba(0, 0, 0, 0.3));\n",
              "      fill: #FFFFFF;\n",
              "    }\n",
              "  </style>\n",
              "\n",
              "      <script>\n",
              "        const buttonEl =\n",
              "          document.querySelector('#df-93240d14-7ede-4e96-9cc9-d79b2c211c59 button.colab-df-convert');\n",
              "        buttonEl.style.display =\n",
              "          google.colab.kernel.accessAllowed ? 'block' : 'none';\n",
              "\n",
              "        async function convertToInteractive(key) {\n",
              "          const element = document.querySelector('#df-93240d14-7ede-4e96-9cc9-d79b2c211c59');\n",
              "          const dataTable =\n",
              "            await google.colab.kernel.invokeFunction('convertToInteractive',\n",
              "                                                     [key], {});\n",
              "          if (!dataTable) return;\n",
              "\n",
              "          const docLinkHtml = 'Like what you see? Visit the ' +\n",
              "            '<a target=\"_blank\" href=https://colab.research.google.com/notebooks/data_table.ipynb>data table notebook</a>'\n",
              "            + ' to learn more about interactive tables.';\n",
              "          element.innerHTML = '';\n",
              "          dataTable['output_type'] = 'display_data';\n",
              "          await google.colab.output.renderOutput(dataTable, element);\n",
              "          const docLink = document.createElement('div');\n",
              "          docLink.innerHTML = docLinkHtml;\n",
              "          element.appendChild(docLink);\n",
              "        }\n",
              "      </script>\n",
              "    </div>\n",
              "  </div>\n",
              "  "
            ]
          },
          "metadata": {},
          "execution_count": 10
        }
      ]
    },
    {
      "cell_type": "markdown",
      "source": [
        "Найдены следующие ошибки по объемам двигателя:\n",
        "* toyota\tcorona t210 = 2.2\n",
        "* toyota\trav4 = 1.8\n",
        "* volkswagen\tmultivan t5 = 2\n",
        "* daewoo\tmatiz = 0.8\n",
        "* bmw\t6 серия 650 e63/e64 = 4.8\n",
        "* chevrolet\tlanos = 1.5\n",
        "* mercedes-benz\tvito w638 = 2.3\n",
        " исправим их в базе, для устранения ошибки обучения"
      ],
      "metadata": {
        "id": "09IGZO-S_nwk"
      }
    },
    {
      "cell_type": "code",
      "source": [
        "df.loc[11810, 'volume'] = 1.5\n",
        "df.loc[15149, 'volume'] = 2.3\n",
        "df.loc[16785, 'volume'] = 1.5\n",
        "df.loc[25800, 'volume'] = 4.8\n",
        "df.loc[45084, 'volume'] = 0.8\n",
        "df.loc[53455, 'volume'] = 2.0\n",
        "df.loc[58092, 'volume'] = 1.8\n",
        "df.loc[66747, 'volume'] = 2.2"
      ],
      "metadata": {
        "id": "191O3OMwGu6Y"
      },
      "execution_count": 11,
      "outputs": []
    },
    {
      "cell_type": "code",
      "source": [
        "df.power.unique()"
      ],
      "metadata": {
        "colab": {
          "base_uri": "https://localhost:8080/"
        },
        "id": "0uNvyHGwKOKi",
        "outputId": "9406f9bf-f9bd-4b7c-9dac-06c70b432f1f"
      },
      "execution_count": 12,
      "outputs": [
        {
          "output_type": "execute_result",
          "data": {
            "text/plain": [
              "array([ 150.,   80.,   85.,   95.,  129.,  124.,  156.,  272.,  110.,\n",
              "        120.,  100.,  109.,  136.,  122.,  115.,   75.,  125.,  144.,\n",
              "        101.,  130.,   90.,  170.,  163.,   82.,  180.,  178.,  116.,\n",
              "         70.,  197.,  153.,  238.,  105.,  141.,  165.,   86.,  140.,\n",
              "        218.,  160.,  258.,   72.,  174.,  171.,   64.,  250.,   88.,\n",
              "        152.,  143.,  200.,   68.,  123.,  137.,   97.,  211.,  184.,\n",
              "        114.,  233.,  245.,  107.,   87.,  249.,  188.,   94.,  190.,\n",
              "         79.,  106.,  102.,   98.,  389.,  158.,  135.,  145.,   55.,\n",
              "        220.,  121.,  133.,  167.,  131.,  279.,  117.,   69.,  193.,\n",
              "        126.,  147.,  169.,   65.,  149.,  225.,   51.,  166.,   92.,\n",
              "         54.,  227.,   60.,  182.,  119.,  286.,  313.,  240.,  103.,\n",
              "        177.,  146.,  280.,   83.,  204.,  132.,  288.,   99.,  113.,\n",
              "        455.,  210.,  112.,   96.,   89.,   84.,  355.,  192.,  155.,\n",
              "        555.,   67.,  148.,  231.,  151.,  142.,  159.,   63.,  181.,\n",
              "        128.,  172.,  500.,  118.,  450.,   52.,  205.,   66.,  294.,\n",
              "        299.,  104.,  333.,  367.,  273.,   76.,   91.,  201.,  224.,\n",
              "        162.,  139.,  360.,  234.,  157.,  260.,   78.,  175.,  203.,\n",
              "        388.,  282.,  306.,  138.,  409.,  228.,  257.,   58.,   50.,\n",
              "        194.,   74.,  226.,  199.,   41.,  134.,  300.,  111.,  325.,\n",
              "        230.,  173.,  381.,  350.,  335.,  235.,  277.,  320.,   71.,\n",
              "        265.,  256.,  290.,  575.,  326.,   32.,  215.,  255.,  557.,\n",
              "        407.,  310.,  239.,  108.,   46.,  248.,  507.,   45.,  612.,\n",
              "        424.,  394.,   48.,  264.,  585.,  185.,  223.,  164.,  266.,\n",
              "        269.,  408.,  274.,  186.,  241.,  161.,  295.,  292.,   81.,\n",
              "        247.,  243.,   73.,  405.,  445.,  435.,  317.,  544.,  222.,\n",
              "         12., 1400.,  296.,  630.,  340.,  328.,  154.,   56.,   34.,\n",
              "         62.,  202.,   49.,  208.,  236.,   40.,  558.,  309.,  347.,\n",
              "        168.,  198.,  232.,  600.,  334.,   59.,   39.,   77.,  510.,\n",
              "        196.,  401.,  179.,  209.,  252.,  275.,  591.,  270.,   17.,\n",
              "        571.,  380.,  281.,   38.,  189.,  212.,  426.,  195.,  431.,\n",
              "        263.,  372.,  217.,  291.,  449.,  271.,  176.,   93.,   25.,\n",
              "        525.,  517.,  312.,   57.,   11.,  315.,  183.,  476.,   53.,\n",
              "        213.,  305.,  386.,  187.,  370.,  297.,  469.,  639.,  285.,\n",
              "        560.,  278.,  400.,  127.,  276.,   43.,  330.,  304.,  262.,\n",
              "        446.,  345.,  462.,  207.,  550.,  191.,   61.,   44.,  520.,\n",
              "        707.,   20.,  461.,  390.,  261.,  244.,  354.,  314.,  587.,\n",
              "        999.,  420.,   47.,   18.,  430.,  421.,  308.,  750.,  530.,\n",
              "       1152.,  318.,  416.,  605.])"
            ]
          },
          "metadata": {},
          "execution_count": 12
        }
      ]
    },
    {
      "cell_type": "markdown",
      "source": [
        "Проверим у каких машин мощности от 650 лошадей... не внес ли кто то ошибок при описании"
      ],
      "metadata": {
        "id": "f_Un09dt5lyD"
      }
    },
    {
      "cell_type": "code",
      "source": [
        "df[df.power>650].head(10)"
      ],
      "metadata": {
        "colab": {
          "base_uri": "https://localhost:8080/",
          "height": 237
        },
        "id": "feMGzj6q3Omm",
        "outputId": "3c4442aa-f90a-4858-c441-05eed184effb"
      },
      "execution_count": 13,
      "outputs": [
        {
          "output_type": "execute_result",
          "data": {
            "text/plain": [
              "             mark                           model   price  year  mileage  \\\n",
              "5603         opel                           astra  469000  2011   122000   \n",
              "27771  mitsubishi    asx 1 поколение [рестайлинг]  746000  2013    97000   \n",
              "36764      toyota         crown s130 [рестайлинг]  120000  1993      707   \n",
              "46287  volkswagen             touareg 1 поколение  250000  2004   230000   \n",
              "62315     renault  logan 1 поколение [рестайлинг]  302000  2011    83000   \n",
              "63264      toyota                      camry xv30  400999  2003   340000   \n",
              "\n",
              "            body       kpp    fuel  volume   power  \n",
              "5603     хетчбэк   автомат  бензин     1.4  1400.0  \n",
              "27771  кроссовер  вариатор  бензин     1.8  1400.0  \n",
              "36764      седан   автомат  бензин     2.0   707.0  \n",
              "46287  кроссовер   автомат  бензин     3.2   999.0  \n",
              "62315      седан  механика  бензин     1.4   750.0  \n",
              "63264      седан  механика  бензин     2.4  1152.0  "
            ],
            "text/html": [
              "\n",
              "  <div id=\"df-5526b5cd-54ce-4e50-8ef0-1c3061514c67\">\n",
              "    <div class=\"colab-df-container\">\n",
              "      <div>\n",
              "<style scoped>\n",
              "    .dataframe tbody tr th:only-of-type {\n",
              "        vertical-align: middle;\n",
              "    }\n",
              "\n",
              "    .dataframe tbody tr th {\n",
              "        vertical-align: top;\n",
              "    }\n",
              "\n",
              "    .dataframe thead th {\n",
              "        text-align: right;\n",
              "    }\n",
              "</style>\n",
              "<table border=\"1\" class=\"dataframe\">\n",
              "  <thead>\n",
              "    <tr style=\"text-align: right;\">\n",
              "      <th></th>\n",
              "      <th>mark</th>\n",
              "      <th>model</th>\n",
              "      <th>price</th>\n",
              "      <th>year</th>\n",
              "      <th>mileage</th>\n",
              "      <th>body</th>\n",
              "      <th>kpp</th>\n",
              "      <th>fuel</th>\n",
              "      <th>volume</th>\n",
              "      <th>power</th>\n",
              "    </tr>\n",
              "  </thead>\n",
              "  <tbody>\n",
              "    <tr>\n",
              "      <th>5603</th>\n",
              "      <td>opel</td>\n",
              "      <td>astra</td>\n",
              "      <td>469000</td>\n",
              "      <td>2011</td>\n",
              "      <td>122000</td>\n",
              "      <td>хетчбэк</td>\n",
              "      <td>автомат</td>\n",
              "      <td>бензин</td>\n",
              "      <td>1.4</td>\n",
              "      <td>1400.0</td>\n",
              "    </tr>\n",
              "    <tr>\n",
              "      <th>27771</th>\n",
              "      <td>mitsubishi</td>\n",
              "      <td>asx 1 поколение [рестайлинг]</td>\n",
              "      <td>746000</td>\n",
              "      <td>2013</td>\n",
              "      <td>97000</td>\n",
              "      <td>кроссовер</td>\n",
              "      <td>вариатор</td>\n",
              "      <td>бензин</td>\n",
              "      <td>1.8</td>\n",
              "      <td>1400.0</td>\n",
              "    </tr>\n",
              "    <tr>\n",
              "      <th>36764</th>\n",
              "      <td>toyota</td>\n",
              "      <td>crown s130 [рестайлинг]</td>\n",
              "      <td>120000</td>\n",
              "      <td>1993</td>\n",
              "      <td>707</td>\n",
              "      <td>седан</td>\n",
              "      <td>автомат</td>\n",
              "      <td>бензин</td>\n",
              "      <td>2.0</td>\n",
              "      <td>707.0</td>\n",
              "    </tr>\n",
              "    <tr>\n",
              "      <th>46287</th>\n",
              "      <td>volkswagen</td>\n",
              "      <td>touareg 1 поколение</td>\n",
              "      <td>250000</td>\n",
              "      <td>2004</td>\n",
              "      <td>230000</td>\n",
              "      <td>кроссовер</td>\n",
              "      <td>автомат</td>\n",
              "      <td>бензин</td>\n",
              "      <td>3.2</td>\n",
              "      <td>999.0</td>\n",
              "    </tr>\n",
              "    <tr>\n",
              "      <th>62315</th>\n",
              "      <td>renault</td>\n",
              "      <td>logan 1 поколение [рестайлинг]</td>\n",
              "      <td>302000</td>\n",
              "      <td>2011</td>\n",
              "      <td>83000</td>\n",
              "      <td>седан</td>\n",
              "      <td>механика</td>\n",
              "      <td>бензин</td>\n",
              "      <td>1.4</td>\n",
              "      <td>750.0</td>\n",
              "    </tr>\n",
              "    <tr>\n",
              "      <th>63264</th>\n",
              "      <td>toyota</td>\n",
              "      <td>camry xv30</td>\n",
              "      <td>400999</td>\n",
              "      <td>2003</td>\n",
              "      <td>340000</td>\n",
              "      <td>седан</td>\n",
              "      <td>механика</td>\n",
              "      <td>бензин</td>\n",
              "      <td>2.4</td>\n",
              "      <td>1152.0</td>\n",
              "    </tr>\n",
              "  </tbody>\n",
              "</table>\n",
              "</div>\n",
              "      <button class=\"colab-df-convert\" onclick=\"convertToInteractive('df-5526b5cd-54ce-4e50-8ef0-1c3061514c67')\"\n",
              "              title=\"Convert this dataframe to an interactive table.\"\n",
              "              style=\"display:none;\">\n",
              "        \n",
              "  <svg xmlns=\"http://www.w3.org/2000/svg\" height=\"24px\"viewBox=\"0 0 24 24\"\n",
              "       width=\"24px\">\n",
              "    <path d=\"M0 0h24v24H0V0z\" fill=\"none\"/>\n",
              "    <path d=\"M18.56 5.44l.94 2.06.94-2.06 2.06-.94-2.06-.94-.94-2.06-.94 2.06-2.06.94zm-11 1L8.5 8.5l.94-2.06 2.06-.94-2.06-.94L8.5 2.5l-.94 2.06-2.06.94zm10 10l.94 2.06.94-2.06 2.06-.94-2.06-.94-.94-2.06-.94 2.06-2.06.94z\"/><path d=\"M17.41 7.96l-1.37-1.37c-.4-.4-.92-.59-1.43-.59-.52 0-1.04.2-1.43.59L10.3 9.45l-7.72 7.72c-.78.78-.78 2.05 0 2.83L4 21.41c.39.39.9.59 1.41.59.51 0 1.02-.2 1.41-.59l7.78-7.78 2.81-2.81c.8-.78.8-2.07 0-2.86zM5.41 20L4 18.59l7.72-7.72 1.47 1.35L5.41 20z\"/>\n",
              "  </svg>\n",
              "      </button>\n",
              "      \n",
              "  <style>\n",
              "    .colab-df-container {\n",
              "      display:flex;\n",
              "      flex-wrap:wrap;\n",
              "      gap: 12px;\n",
              "    }\n",
              "\n",
              "    .colab-df-convert {\n",
              "      background-color: #E8F0FE;\n",
              "      border: none;\n",
              "      border-radius: 50%;\n",
              "      cursor: pointer;\n",
              "      display: none;\n",
              "      fill: #1967D2;\n",
              "      height: 32px;\n",
              "      padding: 0 0 0 0;\n",
              "      width: 32px;\n",
              "    }\n",
              "\n",
              "    .colab-df-convert:hover {\n",
              "      background-color: #E2EBFA;\n",
              "      box-shadow: 0px 1px 2px rgba(60, 64, 67, 0.3), 0px 1px 3px 1px rgba(60, 64, 67, 0.15);\n",
              "      fill: #174EA6;\n",
              "    }\n",
              "\n",
              "    [theme=dark] .colab-df-convert {\n",
              "      background-color: #3B4455;\n",
              "      fill: #D2E3FC;\n",
              "    }\n",
              "\n",
              "    [theme=dark] .colab-df-convert:hover {\n",
              "      background-color: #434B5C;\n",
              "      box-shadow: 0px 1px 3px 1px rgba(0, 0, 0, 0.15);\n",
              "      filter: drop-shadow(0px 1px 2px rgba(0, 0, 0, 0.3));\n",
              "      fill: #FFFFFF;\n",
              "    }\n",
              "  </style>\n",
              "\n",
              "      <script>\n",
              "        const buttonEl =\n",
              "          document.querySelector('#df-5526b5cd-54ce-4e50-8ef0-1c3061514c67 button.colab-df-convert');\n",
              "        buttonEl.style.display =\n",
              "          google.colab.kernel.accessAllowed ? 'block' : 'none';\n",
              "\n",
              "        async function convertToInteractive(key) {\n",
              "          const element = document.querySelector('#df-5526b5cd-54ce-4e50-8ef0-1c3061514c67');\n",
              "          const dataTable =\n",
              "            await google.colab.kernel.invokeFunction('convertToInteractive',\n",
              "                                                     [key], {});\n",
              "          if (!dataTable) return;\n",
              "\n",
              "          const docLinkHtml = 'Like what you see? Visit the ' +\n",
              "            '<a target=\"_blank\" href=https://colab.research.google.com/notebooks/data_table.ipynb>data table notebook</a>'\n",
              "            + ' to learn more about interactive tables.';\n",
              "          element.innerHTML = '';\n",
              "          dataTable['output_type'] = 'display_data';\n",
              "          await google.colab.output.renderOutput(dataTable, element);\n",
              "          const docLink = document.createElement('div');\n",
              "          docLink.innerHTML = docLinkHtml;\n",
              "          element.appendChild(docLink);\n",
              "        }\n",
              "      </script>\n",
              "    </div>\n",
              "  </div>\n",
              "  "
            ]
          },
          "metadata": {},
          "execution_count": 13
        }
      ]
    },
    {
      "cell_type": "markdown",
      "source": [
        "Судя по результатам, эти шесть описаний не верны, и их стоит исправить для устранения ошибок обучения. Мощности взяты из описаний в интернете (для opel и mitsubishi мощность 140 л/с)"
      ],
      "metadata": {
        "id": "NadleuGE55vE"
      }
    },
    {
      "cell_type": "code",
      "metadata": {
        "id": "e5dpDy4NDFYr"
      },
      "source": [
        "df[df.power==1400] = 140\n",
        "df[df.power==707] = 170\n",
        "df[df.power==999] = 241\n",
        "df[df.power==750] = 75\n",
        "df[df.power==1152] = 152"
      ],
      "execution_count": 14,
      "outputs": []
    },
    {
      "cell_type": "code",
      "source": [
        "df.mileage.max()"
      ],
      "metadata": {
        "colab": {
          "base_uri": "https://localhost:8080/"
        },
        "id": "Q22UI4ZkKbkx",
        "outputId": "683eea0f-56da-45a8-fb6a-41200c0300fa"
      },
      "execution_count": 15,
      "outputs": [
        {
          "output_type": "execute_result",
          "data": {
            "text/plain": [
              "999999"
            ]
          },
          "metadata": {},
          "execution_count": 15
        }
      ]
    },
    {
      "cell_type": "code",
      "source": [
        "df.mark.unique()"
      ],
      "metadata": {
        "colab": {
          "base_uri": "https://localhost:8080/"
        },
        "id": "k8LrmVSeV3qe",
        "outputId": "700ea18c-84e3-42cb-9e30-4832d03c16c0"
      },
      "execution_count": 16,
      "outputs": [
        {
          "output_type": "execute_result",
          "data": {
            "text/plain": [
              "array(['kia', 'daewoo', 'suzuki', 'bmw', 'chevrolet', 'hyundai', 'toyota',\n",
              "       'mercedes-benz', 'chery', 'ford', 'mazda', 'peugeot', 'volkswagen',\n",
              "       'audi', 'mitsubishi', 'opel', 'nissan', 'skoda', 'subaru', 'honda',\n",
              "       'renault', 140, 170, 241, 75, 152], dtype=object)"
            ]
          },
          "metadata": {},
          "execution_count": 16
        }
      ]
    },
    {
      "cell_type": "code",
      "source": [
        "df[df.mark.isin([140,170,241,75,152])].head(10)"
      ],
      "metadata": {
        "colab": {
          "base_uri": "https://localhost:8080/",
          "height": 237
        },
        "id": "OYvahqGdjdYi",
        "outputId": "cac9fd10-973c-4045-aa3a-e6c537ac9d98"
      },
      "execution_count": 17,
      "outputs": [
        {
          "output_type": "execute_result",
          "data": {
            "text/plain": [
              "      mark model  price  year  mileage body  kpp fuel  volume  power\n",
              "5603   140   140    140   140      140  140  140  140   140.0  140.0\n",
              "27771  140   140    140   140      140  140  140  140   140.0  140.0\n",
              "36764  170   170    170   170      170  170  170  170   170.0  170.0\n",
              "46287  241   241    241   241      241  241  241  241   241.0  241.0\n",
              "62315   75    75     75    75       75   75   75   75    75.0   75.0\n",
              "63264  152   152    152   152      152  152  152  152   152.0  152.0"
            ],
            "text/html": [
              "\n",
              "  <div id=\"df-e18e2694-d876-4a31-973e-9376f0ac2f07\">\n",
              "    <div class=\"colab-df-container\">\n",
              "      <div>\n",
              "<style scoped>\n",
              "    .dataframe tbody tr th:only-of-type {\n",
              "        vertical-align: middle;\n",
              "    }\n",
              "\n",
              "    .dataframe tbody tr th {\n",
              "        vertical-align: top;\n",
              "    }\n",
              "\n",
              "    .dataframe thead th {\n",
              "        text-align: right;\n",
              "    }\n",
              "</style>\n",
              "<table border=\"1\" class=\"dataframe\">\n",
              "  <thead>\n",
              "    <tr style=\"text-align: right;\">\n",
              "      <th></th>\n",
              "      <th>mark</th>\n",
              "      <th>model</th>\n",
              "      <th>price</th>\n",
              "      <th>year</th>\n",
              "      <th>mileage</th>\n",
              "      <th>body</th>\n",
              "      <th>kpp</th>\n",
              "      <th>fuel</th>\n",
              "      <th>volume</th>\n",
              "      <th>power</th>\n",
              "    </tr>\n",
              "  </thead>\n",
              "  <tbody>\n",
              "    <tr>\n",
              "      <th>5603</th>\n",
              "      <td>140</td>\n",
              "      <td>140</td>\n",
              "      <td>140</td>\n",
              "      <td>140</td>\n",
              "      <td>140</td>\n",
              "      <td>140</td>\n",
              "      <td>140</td>\n",
              "      <td>140</td>\n",
              "      <td>140.0</td>\n",
              "      <td>140.0</td>\n",
              "    </tr>\n",
              "    <tr>\n",
              "      <th>27771</th>\n",
              "      <td>140</td>\n",
              "      <td>140</td>\n",
              "      <td>140</td>\n",
              "      <td>140</td>\n",
              "      <td>140</td>\n",
              "      <td>140</td>\n",
              "      <td>140</td>\n",
              "      <td>140</td>\n",
              "      <td>140.0</td>\n",
              "      <td>140.0</td>\n",
              "    </tr>\n",
              "    <tr>\n",
              "      <th>36764</th>\n",
              "      <td>170</td>\n",
              "      <td>170</td>\n",
              "      <td>170</td>\n",
              "      <td>170</td>\n",
              "      <td>170</td>\n",
              "      <td>170</td>\n",
              "      <td>170</td>\n",
              "      <td>170</td>\n",
              "      <td>170.0</td>\n",
              "      <td>170.0</td>\n",
              "    </tr>\n",
              "    <tr>\n",
              "      <th>46287</th>\n",
              "      <td>241</td>\n",
              "      <td>241</td>\n",
              "      <td>241</td>\n",
              "      <td>241</td>\n",
              "      <td>241</td>\n",
              "      <td>241</td>\n",
              "      <td>241</td>\n",
              "      <td>241</td>\n",
              "      <td>241.0</td>\n",
              "      <td>241.0</td>\n",
              "    </tr>\n",
              "    <tr>\n",
              "      <th>62315</th>\n",
              "      <td>75</td>\n",
              "      <td>75</td>\n",
              "      <td>75</td>\n",
              "      <td>75</td>\n",
              "      <td>75</td>\n",
              "      <td>75</td>\n",
              "      <td>75</td>\n",
              "      <td>75</td>\n",
              "      <td>75.0</td>\n",
              "      <td>75.0</td>\n",
              "    </tr>\n",
              "    <tr>\n",
              "      <th>63264</th>\n",
              "      <td>152</td>\n",
              "      <td>152</td>\n",
              "      <td>152</td>\n",
              "      <td>152</td>\n",
              "      <td>152</td>\n",
              "      <td>152</td>\n",
              "      <td>152</td>\n",
              "      <td>152</td>\n",
              "      <td>152.0</td>\n",
              "      <td>152.0</td>\n",
              "    </tr>\n",
              "  </tbody>\n",
              "</table>\n",
              "</div>\n",
              "      <button class=\"colab-df-convert\" onclick=\"convertToInteractive('df-e18e2694-d876-4a31-973e-9376f0ac2f07')\"\n",
              "              title=\"Convert this dataframe to an interactive table.\"\n",
              "              style=\"display:none;\">\n",
              "        \n",
              "  <svg xmlns=\"http://www.w3.org/2000/svg\" height=\"24px\"viewBox=\"0 0 24 24\"\n",
              "       width=\"24px\">\n",
              "    <path d=\"M0 0h24v24H0V0z\" fill=\"none\"/>\n",
              "    <path d=\"M18.56 5.44l.94 2.06.94-2.06 2.06-.94-2.06-.94-.94-2.06-.94 2.06-2.06.94zm-11 1L8.5 8.5l.94-2.06 2.06-.94-2.06-.94L8.5 2.5l-.94 2.06-2.06.94zm10 10l.94 2.06.94-2.06 2.06-.94-2.06-.94-.94-2.06-.94 2.06-2.06.94z\"/><path d=\"M17.41 7.96l-1.37-1.37c-.4-.4-.92-.59-1.43-.59-.52 0-1.04.2-1.43.59L10.3 9.45l-7.72 7.72c-.78.78-.78 2.05 0 2.83L4 21.41c.39.39.9.59 1.41.59.51 0 1.02-.2 1.41-.59l7.78-7.78 2.81-2.81c.8-.78.8-2.07 0-2.86zM5.41 20L4 18.59l7.72-7.72 1.47 1.35L5.41 20z\"/>\n",
              "  </svg>\n",
              "      </button>\n",
              "      \n",
              "  <style>\n",
              "    .colab-df-container {\n",
              "      display:flex;\n",
              "      flex-wrap:wrap;\n",
              "      gap: 12px;\n",
              "    }\n",
              "\n",
              "    .colab-df-convert {\n",
              "      background-color: #E8F0FE;\n",
              "      border: none;\n",
              "      border-radius: 50%;\n",
              "      cursor: pointer;\n",
              "      display: none;\n",
              "      fill: #1967D2;\n",
              "      height: 32px;\n",
              "      padding: 0 0 0 0;\n",
              "      width: 32px;\n",
              "    }\n",
              "\n",
              "    .colab-df-convert:hover {\n",
              "      background-color: #E2EBFA;\n",
              "      box-shadow: 0px 1px 2px rgba(60, 64, 67, 0.3), 0px 1px 3px 1px rgba(60, 64, 67, 0.15);\n",
              "      fill: #174EA6;\n",
              "    }\n",
              "\n",
              "    [theme=dark] .colab-df-convert {\n",
              "      background-color: #3B4455;\n",
              "      fill: #D2E3FC;\n",
              "    }\n",
              "\n",
              "    [theme=dark] .colab-df-convert:hover {\n",
              "      background-color: #434B5C;\n",
              "      box-shadow: 0px 1px 3px 1px rgba(0, 0, 0, 0.15);\n",
              "      filter: drop-shadow(0px 1px 2px rgba(0, 0, 0, 0.3));\n",
              "      fill: #FFFFFF;\n",
              "    }\n",
              "  </style>\n",
              "\n",
              "      <script>\n",
              "        const buttonEl =\n",
              "          document.querySelector('#df-e18e2694-d876-4a31-973e-9376f0ac2f07 button.colab-df-convert');\n",
              "        buttonEl.style.display =\n",
              "          google.colab.kernel.accessAllowed ? 'block' : 'none';\n",
              "\n",
              "        async function convertToInteractive(key) {\n",
              "          const element = document.querySelector('#df-e18e2694-d876-4a31-973e-9376f0ac2f07');\n",
              "          const dataTable =\n",
              "            await google.colab.kernel.invokeFunction('convertToInteractive',\n",
              "                                                     [key], {});\n",
              "          if (!dataTable) return;\n",
              "\n",
              "          const docLinkHtml = 'Like what you see? Visit the ' +\n",
              "            '<a target=\"_blank\" href=https://colab.research.google.com/notebooks/data_table.ipynb>data table notebook</a>'\n",
              "            + ' to learn more about interactive tables.';\n",
              "          element.innerHTML = '';\n",
              "          dataTable['output_type'] = 'display_data';\n",
              "          await google.colab.output.renderOutput(dataTable, element);\n",
              "          const docLink = document.createElement('div');\n",
              "          docLink.innerHTML = docLinkHtml;\n",
              "          element.appendChild(docLink);\n",
              "        }\n",
              "      </script>\n",
              "    </div>\n",
              "  </div>\n",
              "  "
            ]
          },
          "metadata": {},
          "execution_count": 17
        }
      ]
    },
    {
      "cell_type": "markdown",
      "source": [
        "удалим неверные записи"
      ],
      "metadata": {
        "id": "Cf6wqJB0lpAt"
      }
    },
    {
      "cell_type": "code",
      "source": [
        "df.drop(df[df.mark.isin([140,170,241,75,152])].index, inplace = True)\n",
        "df[df.mark.isin([140,170,241,75,152])].head(10)"
      ],
      "metadata": {
        "colab": {
          "base_uri": "https://localhost:8080/",
          "height": 49
        },
        "id": "6nC5g_4mlvUL",
        "outputId": "9d01cd3b-6098-49a2-b3d8-f07bbdfb6e0a"
      },
      "execution_count": 18,
      "outputs": [
        {
          "output_type": "execute_result",
          "data": {
            "text/plain": [
              "Empty DataFrame\n",
              "Columns: [mark, model, price, year, mileage, body, kpp, fuel, volume, power]\n",
              "Index: []"
            ],
            "text/html": [
              "\n",
              "  <div id=\"df-e1baf514-8cfd-4409-9693-46ef517f62e9\">\n",
              "    <div class=\"colab-df-container\">\n",
              "      <div>\n",
              "<style scoped>\n",
              "    .dataframe tbody tr th:only-of-type {\n",
              "        vertical-align: middle;\n",
              "    }\n",
              "\n",
              "    .dataframe tbody tr th {\n",
              "        vertical-align: top;\n",
              "    }\n",
              "\n",
              "    .dataframe thead th {\n",
              "        text-align: right;\n",
              "    }\n",
              "</style>\n",
              "<table border=\"1\" class=\"dataframe\">\n",
              "  <thead>\n",
              "    <tr style=\"text-align: right;\">\n",
              "      <th></th>\n",
              "      <th>mark</th>\n",
              "      <th>model</th>\n",
              "      <th>price</th>\n",
              "      <th>year</th>\n",
              "      <th>mileage</th>\n",
              "      <th>body</th>\n",
              "      <th>kpp</th>\n",
              "      <th>fuel</th>\n",
              "      <th>volume</th>\n",
              "      <th>power</th>\n",
              "    </tr>\n",
              "  </thead>\n",
              "  <tbody>\n",
              "  </tbody>\n",
              "</table>\n",
              "</div>\n",
              "      <button class=\"colab-df-convert\" onclick=\"convertToInteractive('df-e1baf514-8cfd-4409-9693-46ef517f62e9')\"\n",
              "              title=\"Convert this dataframe to an interactive table.\"\n",
              "              style=\"display:none;\">\n",
              "        \n",
              "  <svg xmlns=\"http://www.w3.org/2000/svg\" height=\"24px\"viewBox=\"0 0 24 24\"\n",
              "       width=\"24px\">\n",
              "    <path d=\"M0 0h24v24H0V0z\" fill=\"none\"/>\n",
              "    <path d=\"M18.56 5.44l.94 2.06.94-2.06 2.06-.94-2.06-.94-.94-2.06-.94 2.06-2.06.94zm-11 1L8.5 8.5l.94-2.06 2.06-.94-2.06-.94L8.5 2.5l-.94 2.06-2.06.94zm10 10l.94 2.06.94-2.06 2.06-.94-2.06-.94-.94-2.06-.94 2.06-2.06.94z\"/><path d=\"M17.41 7.96l-1.37-1.37c-.4-.4-.92-.59-1.43-.59-.52 0-1.04.2-1.43.59L10.3 9.45l-7.72 7.72c-.78.78-.78 2.05 0 2.83L4 21.41c.39.39.9.59 1.41.59.51 0 1.02-.2 1.41-.59l7.78-7.78 2.81-2.81c.8-.78.8-2.07 0-2.86zM5.41 20L4 18.59l7.72-7.72 1.47 1.35L5.41 20z\"/>\n",
              "  </svg>\n",
              "      </button>\n",
              "      \n",
              "  <style>\n",
              "    .colab-df-container {\n",
              "      display:flex;\n",
              "      flex-wrap:wrap;\n",
              "      gap: 12px;\n",
              "    }\n",
              "\n",
              "    .colab-df-convert {\n",
              "      background-color: #E8F0FE;\n",
              "      border: none;\n",
              "      border-radius: 50%;\n",
              "      cursor: pointer;\n",
              "      display: none;\n",
              "      fill: #1967D2;\n",
              "      height: 32px;\n",
              "      padding: 0 0 0 0;\n",
              "      width: 32px;\n",
              "    }\n",
              "\n",
              "    .colab-df-convert:hover {\n",
              "      background-color: #E2EBFA;\n",
              "      box-shadow: 0px 1px 2px rgba(60, 64, 67, 0.3), 0px 1px 3px 1px rgba(60, 64, 67, 0.15);\n",
              "      fill: #174EA6;\n",
              "    }\n",
              "\n",
              "    [theme=dark] .colab-df-convert {\n",
              "      background-color: #3B4455;\n",
              "      fill: #D2E3FC;\n",
              "    }\n",
              "\n",
              "    [theme=dark] .colab-df-convert:hover {\n",
              "      background-color: #434B5C;\n",
              "      box-shadow: 0px 1px 3px 1px rgba(0, 0, 0, 0.15);\n",
              "      filter: drop-shadow(0px 1px 2px rgba(0, 0, 0, 0.3));\n",
              "      fill: #FFFFFF;\n",
              "    }\n",
              "  </style>\n",
              "\n",
              "      <script>\n",
              "        const buttonEl =\n",
              "          document.querySelector('#df-e1baf514-8cfd-4409-9693-46ef517f62e9 button.colab-df-convert');\n",
              "        buttonEl.style.display =\n",
              "          google.colab.kernel.accessAllowed ? 'block' : 'none';\n",
              "\n",
              "        async function convertToInteractive(key) {\n",
              "          const element = document.querySelector('#df-e1baf514-8cfd-4409-9693-46ef517f62e9');\n",
              "          const dataTable =\n",
              "            await google.colab.kernel.invokeFunction('convertToInteractive',\n",
              "                                                     [key], {});\n",
              "          if (!dataTable) return;\n",
              "\n",
              "          const docLinkHtml = 'Like what you see? Visit the ' +\n",
              "            '<a target=\"_blank\" href=https://colab.research.google.com/notebooks/data_table.ipynb>data table notebook</a>'\n",
              "            + ' to learn more about interactive tables.';\n",
              "          element.innerHTML = '';\n",
              "          dataTable['output_type'] = 'display_data';\n",
              "          await google.colab.output.renderOutput(dataTable, element);\n",
              "          const docLink = document.createElement('div');\n",
              "          docLink.innerHTML = docLinkHtml;\n",
              "          element.appendChild(docLink);\n",
              "        }\n",
              "      </script>\n",
              "    </div>\n",
              "  </div>\n",
              "  "
            ]
          },
          "metadata": {},
          "execution_count": 18
        }
      ]
    },
    {
      "cell_type": "code",
      "source": [
        "# Классы марок машин\n",
        "car_mark_class = [0, \n",
        "              {'kia'            : 0,\n",
        "               'daewoo'         : 1,\n",
        "               'suzuki'         : 2,\n",
        "               'bmw'            : 3,\n",
        "               'chevrolet'      : 4,\n",
        "               'hyundai'        : 5,\n",
        "               'toyota'         : 6,\n",
        "               'mercedes-benz'  : 7,\n",
        "               'chery'          : 8,\n",
        "               'ford'           : 9,\n",
        "               'mazda'          : 10,\n",
        "               'peugeot'        : 11,\n",
        "               'volkswagen'     : 12,\n",
        "               'audi'           : 13,\n",
        "               'mitsubishi'     : 14,\n",
        "               'nissan'         : 15,\n",
        "               'skoda'          : 16,\n",
        "               'subaru'         : 17,\n",
        "               'honda'          : 18,\n",
        "               'renault'        : 19,\n",
        "               'opel'           : 20\n",
        "              }]\n",
        "# Классы типа кузова\n",
        "car_body_class = [0, \n",
        "              {'седан'        : 0,\n",
        "               'внедорожник'  : 1,\n",
        "               'кроссовер'    : 2,\n",
        "               'хетчбэк'      : 3,\n",
        "               'универсал'    : 4,\n",
        "               'минивэн'      : 5,\n",
        "               'лифтбэк'      : 6,\n",
        "               'купе'         : 7,\n",
        "               'микроавтобус' : 8,\n",
        "               'пикап'        : 9,\n",
        "               'кабриолет'    : 10,\n",
        "               'хардтоп'      : 11,\n",
        "               'родстер'      : 12,\n",
        "               'тарга'        : 13,\n",
        "               'лимузин'      : 14,\n",
        "               'фастбэк'      : 15\n",
        "              }] \n",
        "# Классы типа топлива\n",
        "car_fuel_class = [0, \n",
        "              {'бензин'  : 0,\n",
        "               'дизель'  : 1,\n",
        "               'гибрид'  : 2,\n",
        "               'электро' : 3,\n",
        "               'газ'     : 4\n",
        "              }]      \n",
        "# Классы типа коробки передач\n",
        "car_kpp_class = [0, \n",
        "              {'автомат'  : 0,\n",
        "               'механика' : 1,\n",
        "               'робот'    : 2,\n",
        "               'вариатор' : 3\n",
        "              }]     "
      ],
      "metadata": {
        "id": "W3i8erXnaPD5"
      },
      "execution_count": 19,
      "outputs": []
    },
    {
      "cell_type": "code",
      "metadata": {
        "id": "34V0BDMg9bku"
      },
      "source": [
        "# Настройка номеров столбцов\n",
        "# Дальнейшие вычисления не будут зависеть от порядка столбцов в таблице\n",
        "\n",
        "COL_MARK    = df.columns.get_loc('mark')\n",
        "COL_PRICE   = df.columns.get_loc('price')\n",
        "COL_BODY    = df.columns.get_loc('body')\n",
        "COL_FUEL    = df.columns.get_loc('fuel')\n",
        "COL_KPP     = df.columns.get_loc('kpp')\n",
        "COL_YEAR    = df.columns.get_loc('year')\n",
        "COL_MILEAGE = df.columns.get_loc('mileage')\n",
        "COL_POWER   = df.columns.get_loc('power')\n",
        "COL_VOLUME  = df.columns.get_loc('volume')"
      ],
      "execution_count": 20,
      "outputs": []
    },
    {
      "cell_type": "code",
      "metadata": {
        "id": "pDUQlvhRjtWG"
      },
      "source": [
        "# Вычисление счетчиков для данных разбиения\n",
        "for class_desc in [car_mark_class,\n",
        "                   car_body_class,\n",
        "                   car_fuel_class,\n",
        "                   car_kpp_class]:\n",
        "    if isinstance(class_desc[1], list):\n",
        "        class_desc[0] = len(class_desc[1]) + 1\n",
        "    else:\n",
        "        class_desc[0] = max(class_desc[1].values()) + 1"
      ],
      "execution_count": 21,
      "outputs": []
    },
    {
      "cell_type": "code",
      "metadata": {
        "id": "MZwdS84MGS7D"
      },
      "source": [
        "def int_to_ohe(arg, class_list):\n",
        "  \n",
        "    # Определение размерности выходного вектора\n",
        "    num_classes = class_list[0]\n",
        "\n",
        "    # Поиск верного интервала для входного значения\n",
        "    for i in range(num_classes - 1):\n",
        "        if arg < class_list[1][i]:\n",
        "            cls = i                       # Интервал найден - назначение класса\n",
        "            break\n",
        "    else:                                 # Внимание: for/else\n",
        "        cls = num_classes - 1             # Интервал не найден - последний класс\n",
        "\n",
        "    # Возврат в виде one hot encoding-вектора\n",
        "    return utils.to_categorical(cls, num_classes)"
      ],
      "execution_count": 22,
      "outputs": []
    },
    {
      "cell_type": "code",
      "metadata": {
        "id": "LlFhkM0RAbsr"
      },
      "source": [
        "# Общая функция преобразования строки к multi-вектору\n",
        "# На входе данные и словарь сопоставления подстрок классам\n",
        "\n",
        "def str_to_multi(arg, class_dict):\n",
        "    # Определение размерности выходного вектора\n",
        "    num_classes = class_dict[0]\n",
        "\n",
        "    # Создание нулевого вектора\n",
        "    result = np.zeros(num_classes)\n",
        "    \n",
        "    # Поиск значения в словаре и, если найдено,\n",
        "    # выставление 1. на нужной позиции\n",
        "    for value, cls in class_dict[1].items():\n",
        "        if value in arg:\n",
        "            result[cls] = 1.\n",
        "\n",
        "    return result"
      ],
      "execution_count": 23,
      "outputs": []
    },
    {
      "cell_type": "markdown",
      "source": [
        "## **Подготовим выборку**"
      ],
      "metadata": {
        "id": "XmlE4j3IeDos"
      }
    },
    {
      "cell_type": "code",
      "metadata": {
        "id": "FcNR4GPX0hCm"
      },
      "source": [
        "# Пакет предварительной обработки данных\n",
        "from sklearn import preprocessing "
      ],
      "execution_count": 24,
      "outputs": []
    },
    {
      "cell_type": "code",
      "source": [
        "# Запоминаем числовые параметры  и нормируем\n",
        "years = preprocessing.scale(df['year'])\n",
        "mileages = preprocessing.scale(df['mileage'])\n",
        "volumes = preprocessing.scale(df['volume'])\n",
        "powers = preprocessing.scale(df['power'])"
      ],
      "metadata": {
        "id": "zujcEDmeHjsm"
      },
      "execution_count": 25,
      "outputs": []
    },
    {
      "cell_type": "code",
      "metadata": {
        "id": "b0jq85WTahIA"
      },
      "source": [
        "def extract_row_data(row):\n",
        "  \n",
        "    # Извлечение и преобразование данных\n",
        "    mark_ohe = str_to_multi(row[COL_MARK],car_mark_class)      \n",
        "    body_ohe = str_to_multi(row[COL_BODY],car_body_class)\n",
        "    fuel_ohe = str_to_multi(row[COL_FUEL],car_fuel_class)\n",
        "    kpp_ohe = str_to_multi(row[COL_KPP],car_kpp_class)\n",
        "\n",
        "    year = row[COL_YEAR]\n",
        "    mileage = row[COL_MILEAGE]\n",
        "    power = row[COL_POWER]\n",
        "    volume = row[COL_VOLUME]\n",
        "    price = row[COL_PRICE]\n",
        "    price_vec = np.array([price])\n",
        "\n",
        "\n",
        "    # Объединение всех входных данных в один общий вектор\n",
        "    x_data = np.hstack([mark_ohe,\n",
        "                        body_ohe, \n",
        "                        fuel_ohe,\n",
        "                        kpp_ohe,\n",
        "                        year,\n",
        "                        mileage,\n",
        "                        power,\n",
        "                        volume])\n",
        "    \n",
        "    # Возврат входных данных и выходных (цены)\n",
        "    return x_data, price_vec\n",
        "\n",
        "\n",
        "# Создание общей выборки\n",
        "def construct_train_data(row_list):\n",
        "    x_data = []\n",
        "    y_data = []\n",
        "    \n",
        "    for row in row_list:\n",
        "        x, y = extract_row_data(row)\n",
        "        if y[0] > 0:                      # Данные добавляются, только если есть цена\n",
        "            x_data.append(x)\n",
        "            y_data.append(y)\n",
        "\n",
        "    return np.array(x_data), np.array(y_data)"
      ],
      "execution_count": 26,
      "outputs": []
    },
    {
      "cell_type": "code",
      "metadata": {
        "id": "fK9zVrEuMF4I"
      },
      "source": [
        "# Формирование выборки из загруженного набора данных    \n",
        "x_train_01, y_train = construct_train_data(df.values)"
      ],
      "execution_count": 27,
      "outputs": []
    },
    {
      "cell_type": "code",
      "source": [
        "print(x_train_01.shape,y_train.shape)"
      ],
      "metadata": {
        "colab": {
          "base_uri": "https://localhost:8080/"
        },
        "id": "u_J9NlJ-951i",
        "outputId": "20e30eda-e73f-41cb-a5a3-12f7d2302254"
      },
      "execution_count": 28,
      "outputs": [
        {
          "output_type": "stream",
          "name": "stdout",
          "text": [
            "(70113, 50) (70113, 1)\n"
          ]
        }
      ]
    },
    {
      "cell_type": "code",
      "source": [
        "print(y_train.min())\n",
        "print(y_train.max())"
      ],
      "metadata": {
        "colab": {
          "base_uri": "https://localhost:8080/"
        },
        "id": "8WEkjkktvTF6",
        "outputId": "cca6e07a-ae69-4fde-d16e-053409d70a4d"
      },
      "execution_count": 29,
      "outputs": [
        {
          "output_type": "stream",
          "name": "stdout",
          "text": [
            "16000\n",
            "24500000\n"
          ]
        }
      ]
    },
    {
      "cell_type": "code",
      "metadata": {
        "id": "O_pPm1Y22XSj",
        "colab": {
          "base_uri": "https://localhost:8080/"
        },
        "outputId": "5c4f0005-e5c4-4170-ed8e-24c8f4def025"
      },
      "source": [
        "# Нормализуем y_train\n",
        "\n",
        "# Подключаем стандартизатор\n",
        "from sklearn.preprocessing import StandardScaler \n",
        "\n",
        "y_scaler = StandardScaler()\n",
        "y_train_scaled = y_scaler.fit_transform(y_train.reshape(-1,1)).flatten()\n",
        "\n",
        "y_train_scaled.shape"
      ],
      "execution_count": 30,
      "outputs": [
        {
          "output_type": "execute_result",
          "data": {
            "text/plain": [
              "(70113,)"
            ]
          },
          "metadata": {},
          "execution_count": 30
        }
      ]
    },
    {
      "cell_type": "code",
      "metadata": {
        "id": "MLhGj5epQmtz"
      },
      "source": [
        "# Проведем обратное преобразование\n",
        "y_train_unscaled = y_scaler.inverse_transform(y_train_scaled.reshape(-1,1)).flatten()"
      ],
      "execution_count": 31,
      "outputs": []
    },
    {
      "cell_type": "code",
      "metadata": {
        "colab": {
          "base_uri": "https://localhost:8080/"
        },
        "id": "W9WBhItx8bZW",
        "outputId": "a9864a44-d693-4c6e-f06d-112fe786d754"
      },
      "source": [
        "# Выводим базовый и нормированный y_train\n",
        "\n",
        "print(y_train[:5])\n",
        "print(y_train_scaled[:5])\n",
        "print(y_train_unscaled[:5])"
      ],
      "execution_count": 32,
      "outputs": [
        {
          "output_type": "stream",
          "name": "stdout",
          "text": [
            "[[996000]\n",
            " [140200]\n",
            " [750000]\n",
            " [970000]\n",
            " [205000]]\n",
            "[ 0.75077708 -0.62135196  0.35635812  0.70909053 -0.51745624]\n",
            "[996000. 140200. 750000. 970000. 205000.]\n"
          ]
        }
      ]
    },
    {
      "cell_type": "code",
      "source": [
        "#выделим тестовую и тренировочную выборки\n",
        "x_train_r = x_train_01[5000:]\n",
        "y_train_r = y_train_scaled[5000:]\n",
        "x_test_r = x_train_01[:5000]\n",
        "y_test_r = y_train[:5000]\n",
        "print(x_train_r.shape,y_train_r.shape)\n",
        "print(x_test_r.shape,y_test_r.shape)"
      ],
      "metadata": {
        "colab": {
          "base_uri": "https://localhost:8080/"
        },
        "id": "_WxFvc4Y-UCb",
        "outputId": "4be51c87-cb12-4324-b556-777c80d8fabf"
      },
      "execution_count": 33,
      "outputs": [
        {
          "output_type": "stream",
          "name": "stdout",
          "text": [
            "(65113, 50) (65113,)\n",
            "(5000, 50) (5000, 1)\n"
          ]
        }
      ]
    },
    {
      "cell_type": "markdown",
      "metadata": {
        "id": "jXQP_ALWdTdI"
      },
      "source": [
        "**Функция отрисовки графика истории обучения**"
      ]
    },
    {
      "cell_type": "code",
      "metadata": {
        "id": "Kb-Lu5fPdGoh"
      },
      "source": [
        "def plot_history(history):\n",
        "    plt.plot(history.history['mae'], \n",
        "            label='Средняя абсолютная ошибка на обучающем наборе')\n",
        "    plt.plot(history.history['val_mae'], \n",
        "            label='Средняя абсолютная ошибка на проверочном наборе')\n",
        "    plt.xlabel('Эпоха обучения')\n",
        "    plt.ylabel('Средняя абсолютная ошибка')\n",
        "    plt.legend()\n",
        "    plt.show()"
      ],
      "execution_count": 34,
      "outputs": []
    },
    {
      "cell_type": "markdown",
      "metadata": {
        "id": "QiqM25LcSF9N"
      },
      "source": [
        "##Обучение модели на числовых данных:"
      ]
    },
    {
      "cell_type": "code",
      "metadata": {
        "id": "1j1YcS4M3VrP"
      },
      "source": [
        "# импортируем коллбэки\n",
        "from keras.callbacks import  ReduceLROnPlateau,  EarlyStopping, ModelCheckpoint \n",
        "\n",
        "earlystop=EarlyStopping(monitor='val_loss', \n",
        "                        min_delta=0,\n",
        "                        patience=4,\n",
        "                        verbose=1,\n",
        "                        baseline=None, \n",
        "                        restore_best_weights=True)\n",
        "\n",
        "reduceLROnPlateau = ReduceLROnPlateau(monitor='val_loss', \n",
        "                                      factor=0.6, \n",
        "                                      patience=2, \n",
        "                                      verbose=1)\n",
        "\n",
        "model_Checkpoint = ModelCheckpoint(filepath='/content/drive/My Drive/Модели/model_cars.h5', \n",
        "                                   monitor='val_loss', \n",
        "                                   verbose=1, \n",
        "                                   save_best_only=True,\n",
        "                                   mode='auto', \n",
        "                                   baseline=None)"
      ],
      "execution_count": 35,
      "outputs": []
    },
    {
      "cell_type": "code",
      "metadata": {
        "colab": {
          "base_uri": "https://localhost:8080/",
          "height": 1000
        },
        "id": "I1VUZN5fRpvJ",
        "outputId": "834a65d8-f626-4767-e94c-c129dc37d48d"
      },
      "source": [
        "# Обучение модели на простых данных\n",
        "\n",
        "model_simple = Sequential()\n",
        "#model_simple.add(BatchNormalization(input_dim=x_train_r.shape[1]))\n",
        "#model_simple.add(Dense(128, activation='relu'))\n",
        "#model_simple.add(Dense(1000, activation='tanh'))\n",
        "#model_simple.add(Dense(100, activation='relu'))\n",
        "#model_simple.add(Dense(1, activation='linear'))\n",
        "\n",
        "model_simple.add(Dense(1000, input_dim=x_train_r.shape[1]))\n",
        "model_simple.add(Dropout(0.2))\n",
        "model_simple.add(Dense(100, activation='relu'))\n",
        "model_simple.add(Dense(1, activation='linear'))\n",
        "\n",
        "model_simple.compile(optimizer=Adam(learning_rate=1e-5), loss='mse', metrics=['mae'])\n",
        "\n",
        "#history = model_simple.fit(x_train_r, \n",
        "#                    y_train_r, \n",
        "#                    epochs=50, \n",
        "#                    batch_size=256,\n",
        "#                    validation_split=0.15, \n",
        "#                    verbose=1)\n",
        "\n",
        "# 50000 примеров будет в обучающей выборке\n",
        "n_val = 50000\n",
        "\n",
        "history = model_simple.fit(x_train_r[:n_val],\n",
        "                              y_train_r[:n_val],\n",
        "                              batch_size=32, \n",
        "                              epochs=100, \n",
        "                              validation_data=(x_train_r[n_val:], y_train_r[n_val:]), \n",
        "                              verbose=1, \n",
        "                              callbacks=[earlystop, reduceLROnPlateau, model_Checkpoint])\n",
        "\n",
        "plot_history(history)"
      ],
      "execution_count": 36,
      "outputs": [
        {
          "output_type": "stream",
          "name": "stdout",
          "text": [
            "Epoch 1/100\n",
            "1562/1563 [============================>.] - ETA: 0s - loss: 10060190.0000 - mae: 2138.4956\n",
            "Epoch 1: val_loss improved from inf to 175281.62500, saving model to /content/drive/My Drive/Модели/model_cars.h5\n",
            "1563/1563 [==============================] - 15s 8ms/step - loss: 10058081.0000 - mae: 2138.2820 - val_loss: 175281.6250 - val_mae: 348.0498 - lr: 1.0000e-05\n",
            "Epoch 2/100\n",
            "1553/1563 [============================>.] - ETA: 0s - loss: 4001181.7500 - mae: 1367.6835\n",
            "Epoch 2: val_loss improved from 175281.62500 to 24411.36523, saving model to /content/drive/My Drive/Модели/model_cars.h5\n",
            "1563/1563 [==============================] - 9s 6ms/step - loss: 3992839.2500 - mae: 1366.1556 - val_loss: 24411.3652 - val_mae: 128.1381 - lr: 1.0000e-05\n",
            "Epoch 3/100\n",
            "1557/1563 [============================>.] - ETA: 0s - loss: 2481457.7500 - mae: 1072.2406\n",
            "Epoch 3: val_loss improved from 24411.36523 to 23835.06445, saving model to /content/drive/My Drive/Модели/model_cars.h5\n",
            "1563/1563 [==============================] - 9s 6ms/step - loss: 2480462.0000 - mae: 1071.7887 - val_loss: 23835.0645 - val_mae: 141.4514 - lr: 1.0000e-05\n",
            "Epoch 4/100\n",
            "1562/1563 [============================>.] - ETA: 0s - loss: 1183837.7500 - mae: 743.4445\n",
            "Epoch 4: val_loss improved from 23835.06445 to 14440.76660, saving model to /content/drive/My Drive/Модели/model_cars.h5\n",
            "1563/1563 [==============================] - 8s 5ms/step - loss: 1183893.8750 - mae: 743.4763 - val_loss: 14440.7666 - val_mae: 108.3102 - lr: 1.0000e-05\n",
            "Epoch 5/100\n",
            "1560/1563 [============================>.] - ETA: 0s - loss: 853433.9375 - mae: 634.6659\n",
            "Epoch 5: val_loss did not improve from 14440.76660\n",
            "1563/1563 [==============================] - 8s 5ms/step - loss: 854043.0625 - mae: 634.9139 - val_loss: 28170.6973 - val_mae: 149.1411 - lr: 1.0000e-05\n",
            "Epoch 6/100\n",
            "1557/1563 [============================>.] - ETA: 0s - loss: 666341.3125 - mae: 560.5134\n",
            "Epoch 6: ReduceLROnPlateau reducing learning rate to 5.999999848427251e-06.\n",
            "\n",
            "Epoch 6: val_loss did not improve from 14440.76660\n",
            "1563/1563 [==============================] - 9s 6ms/step - loss: 665774.6875 - mae: 560.3233 - val_loss: 22676.6895 - val_mae: 133.6135 - lr: 1.0000e-05\n",
            "Epoch 7/100\n",
            "1555/1563 [============================>.] - ETA: 0s - loss: 412900.5625 - mae: 439.1000\n",
            "Epoch 7: val_loss did not improve from 14440.76660\n",
            "1563/1563 [==============================] - 9s 6ms/step - loss: 411655.1250 - mae: 438.3165 - val_loss: 17177.1191 - val_mae: 118.7605 - lr: 6.0000e-06\n",
            "Epoch 8/100\n",
            "1553/1563 [============================>.] - ETA: 0s - loss: 81860.1016 - mae: 187.9235\n",
            "Epoch 8: val_loss improved from 14440.76660 to 259.52829, saving model to /content/drive/My Drive/Модели/model_cars.h5\n",
            "1563/1563 [==============================] - 9s 6ms/step - loss: 81715.9297 - mae: 187.7111 - val_loss: 259.5283 - val_mae: 15.5737 - lr: 6.0000e-06\n",
            "Epoch 9/100\n",
            "1555/1563 [============================>.] - ETA: 0s - loss: 39685.9922 - mae: 133.9895\n",
            "Epoch 9: val_loss improved from 259.52829 to 52.07735, saving model to /content/drive/My Drive/Модели/model_cars.h5\n",
            "1563/1563 [==============================] - 9s 6ms/step - loss: 39616.4609 - mae: 133.8804 - val_loss: 52.0773 - val_mae: 5.3431 - lr: 6.0000e-06\n",
            "Epoch 10/100\n",
            "1557/1563 [============================>.] - ETA: 0s - loss: 23970.1914 - mae: 104.7861\n",
            "Epoch 10: val_loss improved from 52.07735 to 8.12149, saving model to /content/drive/My Drive/Модели/model_cars.h5\n",
            "1563/1563 [==============================] - 8s 5ms/step - loss: 23947.3848 - mae: 104.7664 - val_loss: 8.1215 - val_mae: 2.1662 - lr: 6.0000e-06\n",
            "Epoch 11/100\n",
            "1557/1563 [============================>.] - ETA: 0s - loss: 13546.9648 - mae: 78.8436\n",
            "Epoch 11: val_loss did not improve from 8.12149\n",
            "1563/1563 [==============================] - 11s 7ms/step - loss: 13537.8291 - mae: 78.8133 - val_loss: 150.1763 - val_mae: 9.9324 - lr: 6.0000e-06\n",
            "Epoch 12/100\n",
            "1557/1563 [============================>.] - ETA: 0s - loss: 7100.2202 - mae: 57.0242\n",
            "Epoch 12: ReduceLROnPlateau reducing learning rate to 3.5999998544866682e-06.\n",
            "\n",
            "Epoch 12: val_loss did not improve from 8.12149\n",
            "1563/1563 [==============================] - 9s 6ms/step - loss: 7094.7061 - mae: 57.0096 - val_loss: 11.6747 - val_mae: 3.2167 - lr: 6.0000e-06\n",
            "Epoch 13/100\n",
            "1563/1563 [==============================] - ETA: 0s - loss: 4063.2864 - mae: 42.4491\n",
            "Epoch 13: val_loss did not improve from 8.12149\n",
            "1563/1563 [==============================] - 9s 6ms/step - loss: 4063.2864 - mae: 42.4491 - val_loss: 11.9575 - val_mae: 3.2273 - lr: 3.6000e-06\n",
            "Epoch 14/100\n",
            "1559/1563 [============================>.] - ETA: 0s - loss: 2300.7937 - mae: 32.4298\n",
            "Epoch 14: val_loss improved from 8.12149 to 3.89464, saving model to /content/drive/My Drive/Модели/model_cars.h5\n",
            "1563/1563 [==============================] - 8s 5ms/step - loss: 2300.7947 - mae: 32.4297 - val_loss: 3.8946 - val_mae: 1.3788 - lr: 3.6000e-06\n",
            "Epoch 15/100\n",
            "1554/1563 [============================>.] - ETA: 0s - loss: 1189.0852 - mae: 23.2358\n",
            "Epoch 15: val_loss improved from 3.89464 to 3.16252, saving model to /content/drive/My Drive/Модели/model_cars.h5\n",
            "1563/1563 [==============================] - 9s 5ms/step - loss: 1188.2256 - mae: 23.2181 - val_loss: 3.1625 - val_mae: 1.2324 - lr: 3.6000e-06\n",
            "Epoch 16/100\n",
            "1562/1563 [============================>.] - ETA: 0s - loss: 504.0651 - mae: 14.9116\n",
            "Epoch 16: val_loss improved from 3.16252 to 1.85252, saving model to /content/drive/My Drive/Модели/model_cars.h5\n",
            "1563/1563 [==============================] - 8s 5ms/step - loss: 504.0330 - mae: 14.9116 - val_loss: 1.8525 - val_mae: 0.5617 - lr: 3.6000e-06\n",
            "Epoch 17/100\n",
            "1554/1563 [============================>.] - ETA: 0s - loss: 179.8965 - mae: 7.8676\n",
            "Epoch 17: val_loss improved from 1.85252 to 1.60762, saving model to /content/drive/My Drive/Модели/model_cars.h5\n",
            "1563/1563 [==============================] - 9s 6ms/step - loss: 179.2520 - mae: 7.8513 - val_loss: 1.6076 - val_mae: 0.5415 - lr: 3.6000e-06\n",
            "Epoch 18/100\n",
            "1562/1563 [============================>.] - ETA: 0s - loss: 89.2322 - mae: 3.1213\n",
            "Epoch 18: val_loss did not improve from 1.60762\n",
            "1563/1563 [==============================] - 8s 5ms/step - loss: 89.2040 - mae: 3.1206 - val_loss: 1.8216 - val_mae: 0.5378 - lr: 3.6000e-06\n",
            "Epoch 19/100\n",
            "1556/1563 [============================>.] - ETA: 0s - loss: 23.1276 - mae: 1.0150\n",
            "Epoch 19: val_loss improved from 1.60762 to 1.57888, saving model to /content/drive/My Drive/Модели/model_cars.h5\n",
            "1563/1563 [==============================] - 8s 5ms/step - loss: 23.0908 - mae: 1.0146 - val_loss: 1.5789 - val_mae: 0.5485 - lr: 3.6000e-06\n",
            "Epoch 20/100\n",
            "1553/1563 [============================>.] - ETA: 0s - loss: 49.1067 - mae: 0.7092\n",
            "Epoch 20: val_loss did not improve from 1.57888\n",
            "1563/1563 [==============================] - 9s 6ms/step - loss: 48.8498 - mae: 0.7087 - val_loss: 1.7012 - val_mae: 0.5016 - lr: 3.6000e-06\n",
            "Epoch 21/100\n",
            "1560/1563 [============================>.] - ETA: 0s - loss: 24.6395 - mae: 0.6891\n",
            "Epoch 21: val_loss improved from 1.57888 to 1.50745, saving model to /content/drive/My Drive/Модели/model_cars.h5\n",
            "1563/1563 [==============================] - 8s 5ms/step - loss: 24.6127 - mae: 0.6891 - val_loss: 1.5075 - val_mae: 0.4962 - lr: 3.6000e-06\n",
            "Epoch 22/100\n",
            "1558/1563 [============================>.] - ETA: 0s - loss: 10.4765 - mae: 0.6013\n",
            "Epoch 22: val_loss improved from 1.50745 to 1.42205, saving model to /content/drive/My Drive/Модели/model_cars.h5\n",
            "1563/1563 [==============================] - 8s 5ms/step - loss: 10.4477 - mae: 0.6008 - val_loss: 1.4220 - val_mae: 0.4994 - lr: 3.6000e-06\n",
            "Epoch 23/100\n",
            "1563/1563 [==============================] - ETA: 0s - loss: 14.3306 - mae: 0.6243\n",
            "Epoch 23: val_loss did not improve from 1.42205\n",
            "1563/1563 [==============================] - 9s 6ms/step - loss: 14.3306 - mae: 0.6243 - val_loss: 1.4488 - val_mae: 0.5178 - lr: 3.6000e-06\n",
            "Epoch 24/100\n",
            "1555/1563 [============================>.] - ETA: 0s - loss: 9.3381 - mae: 0.5929\n",
            "Epoch 24: ReduceLROnPlateau reducing learning rate to 2.159999939976842e-06.\n",
            "\n",
            "Epoch 24: val_loss did not improve from 1.42205\n",
            "1563/1563 [==============================] - 8s 5ms/step - loss: 9.3410 - mae: 0.5935 - val_loss: 1.8596 - val_mae: 0.5259 - lr: 3.6000e-06\n",
            "Epoch 25/100\n",
            "1557/1563 [============================>.] - ETA: 0s - loss: 5.3690 - mae: 0.5740\n",
            "Epoch 25: val_loss improved from 1.42205 to 1.32687, saving model to /content/drive/My Drive/Модели/model_cars.h5\n",
            "1563/1563 [==============================] - 9s 6ms/step - loss: 5.3534 - mae: 0.5738 - val_loss: 1.3269 - val_mae: 0.5053 - lr: 2.1600e-06\n",
            "Epoch 26/100\n",
            "1559/1563 [============================>.] - ETA: 0s - loss: 4.7695 - mae: 0.5616\n",
            "Epoch 26: val_loss improved from 1.32687 to 1.13069, saving model to /content/drive/My Drive/Модели/model_cars.h5\n",
            "1563/1563 [==============================] - 8s 5ms/step - loss: 4.8498 - mae: 0.5626 - val_loss: 1.1307 - val_mae: 0.5495 - lr: 2.1600e-06\n",
            "Epoch 27/100\n",
            "1560/1563 [============================>.] - ETA: 0s - loss: 9.7320 - mae: 0.5908\n",
            "Epoch 27: val_loss improved from 1.13069 to 1.05839, saving model to /content/drive/My Drive/Модели/model_cars.h5\n",
            "1563/1563 [==============================] - 8s 5ms/step - loss: 9.7177 - mae: 0.5907 - val_loss: 1.0584 - val_mae: 0.5073 - lr: 2.1600e-06\n",
            "Epoch 28/100\n",
            "1554/1563 [============================>.] - ETA: 0s - loss: 12.6473 - mae: 0.5795\n",
            "Epoch 28: val_loss improved from 1.05839 to 1.03386, saving model to /content/drive/My Drive/Модели/model_cars.h5\n",
            "1563/1563 [==============================] - 9s 6ms/step - loss: 12.5846 - mae: 0.5792 - val_loss: 1.0339 - val_mae: 0.4938 - lr: 2.1600e-06\n",
            "Epoch 29/100\n",
            "1554/1563 [============================>.] - ETA: 0s - loss: 11.5767 - mae: 0.5924\n",
            "Epoch 29: val_loss improved from 1.03386 to 0.99878, saving model to /content/drive/My Drive/Модели/model_cars.h5\n",
            "1563/1563 [==============================] - 8s 5ms/step - loss: 11.5171 - mae: 0.5917 - val_loss: 0.9988 - val_mae: 0.4863 - lr: 2.1600e-06\n",
            "Epoch 30/100\n",
            "1556/1563 [============================>.] - ETA: 0s - loss: 4.2173 - mae: 0.5430\n",
            "Epoch 30: val_loss improved from 0.99878 to 0.99116, saving model to /content/drive/My Drive/Модели/model_cars.h5\n",
            "1563/1563 [==============================] - 9s 6ms/step - loss: 4.2038 - mae: 0.5428 - val_loss: 0.9912 - val_mae: 0.4810 - lr: 2.1600e-06\n",
            "Epoch 31/100\n",
            "1557/1563 [============================>.] - ETA: 0s - loss: 4.6033 - mae: 0.5564\n",
            "Epoch 31: val_loss did not improve from 0.99116\n",
            "1563/1563 [==============================] - 8s 5ms/step - loss: 4.5893 - mae: 0.5561 - val_loss: 1.0984 - val_mae: 0.4958 - lr: 2.1600e-06\n",
            "Epoch 32/100\n",
            "1557/1563 [============================>.] - ETA: 0s - loss: 3.7357 - mae: 0.5543\n",
            "Epoch 32: val_loss improved from 0.99116 to 0.92414, saving model to /content/drive/My Drive/Модели/model_cars.h5\n",
            "1563/1563 [==============================] - 8s 5ms/step - loss: 3.7248 - mae: 0.5543 - val_loss: 0.9241 - val_mae: 0.4998 - lr: 2.1600e-06\n",
            "Epoch 33/100\n",
            "1560/1563 [============================>.] - ETA: 0s - loss: 4.2988 - mae: 0.5455\n",
            "Epoch 33: val_loss improved from 0.92414 to 0.90247, saving model to /content/drive/My Drive/Модели/model_cars.h5\n",
            "1563/1563 [==============================] - 8s 5ms/step - loss: 4.2928 - mae: 0.5453 - val_loss: 0.9025 - val_mae: 0.4793 - lr: 2.1600e-06\n",
            "Epoch 34/100\n",
            "1556/1563 [============================>.] - ETA: 0s - loss: 11.3705 - mae: 0.5747\n",
            "Epoch 34: val_loss improved from 0.90247 to 0.89052, saving model to /content/drive/My Drive/Модели/model_cars.h5\n",
            "1563/1563 [==============================] - 9s 6ms/step - loss: 11.3304 - mae: 0.5746 - val_loss: 0.8905 - val_mae: 0.4956 - lr: 2.1600e-06\n",
            "Epoch 35/100\n",
            "1554/1563 [============================>.] - ETA: 0s - loss: 7.0340 - mae: 0.5601\n",
            "Epoch 35: val_loss did not improve from 0.89052\n",
            "1563/1563 [==============================] - 8s 5ms/step - loss: 6.9986 - mae: 0.5594 - val_loss: 0.8924 - val_mae: 0.4872 - lr: 2.1600e-06\n",
            "Epoch 36/100\n",
            "1561/1563 [============================>.] - ETA: 0s - loss: 22.0114 - mae: 0.5985\n",
            "Epoch 36: ReduceLROnPlateau reducing learning rate to 1.2959999367012642e-06.\n",
            "\n",
            "Epoch 36: val_loss did not improve from 0.89052\n",
            "1563/1563 [==============================] - 8s 5ms/step - loss: 21.9907 - mae: 0.5984 - val_loss: 0.8965 - val_mae: 0.4924 - lr: 2.1600e-06\n",
            "Epoch 37/100\n",
            "1561/1563 [============================>.] - ETA: 0s - loss: 23.3310 - mae: 0.5609\n",
            "Epoch 37: val_loss did not improve from 0.89052\n",
            "1563/1563 [==============================] - 8s 5ms/step - loss: 23.3095 - mae: 0.5608 - val_loss: 0.8963 - val_mae: 0.4900 - lr: 1.2960e-06\n",
            "Epoch 38/100\n",
            "1561/1563 [============================>.] - ETA: 0s - loss: 6.4605 - mae: 0.5483Restoring model weights from the end of the best epoch: 34.\n",
            "\n",
            "Epoch 38: ReduceLROnPlateau reducing learning rate to 7.775999620207585e-07.\n",
            "\n",
            "Epoch 38: val_loss did not improve from 0.89052\n",
            "1563/1563 [==============================] - 9s 6ms/step - loss: 6.4548 - mae: 0.5482 - val_loss: 0.9247 - val_mae: 0.4938 - lr: 1.2960e-06\n",
            "Epoch 38: early stopping\n"
          ]
        },
        {
          "output_type": "display_data",
          "data": {
            "text/plain": [
              "<Figure size 432x288 with 1 Axes>"
            ],
            "image/png": "[encoded data removed]"
          },
          "metadata": {
            "needs_background": "light"
          }
        }
      ]
    },
    {
      "cell_type": "code",
      "metadata": {
        "id": "tx01UovV_PGT"
      },
      "source": [
        "# Сравнивает отскейленные данные\n",
        "\n",
        "def total_MAE_predict(model,x_test, y_test):\n",
        "  \n",
        "  # Инициализируем начальное значение ошибки\n",
        "  mae = 0 \n",
        "  y_pred = model.predict(x_test)\n",
        "  y_pred_unscaled = y_scaler.inverse_transform(y_pred).flatten()\n",
        "\n",
        "  # Считаем среднюю цену, среднюю ошибку и средний процент ошибки\n",
        "  mean_delta = np.mean(abs(y_pred_unscaled - y_test))\n",
        "  mean_price = np.mean(y_test)\n",
        "  \n",
        "  print('Средняя ошибка: ', round(mean_delta))\n",
        "  print('Средняя цена: ', round(mean_price))\n",
        "  print('Суммарный процент ошибки: ', round(100*mean_delta/mean_price), '%', sep='')"
      ],
      "execution_count": 37,
      "outputs": []
    },
    {
      "cell_type": "code",
      "source": [
        "total_MAE_predict(model_simple, x_test_r, y_test_r)"
      ],
      "metadata": {
        "colab": {
          "base_uri": "https://localhost:8080/"
        },
        "id": "IFeyE0cDKTXC",
        "outputId": "4c470b3b-f5f5-425f-8a89-47bf0cd4ba9f"
      },
      "execution_count": 38,
      "outputs": [
        {
          "output_type": "stream",
          "name": "stdout",
          "text": [
            "157/157 [==============================] - 0s 2ms/step\n",
            "Средняя ошибка:  338614\n",
            "Средняя цена:  521242\n",
            "Суммарный процент ошибки: 65%\n"
          ]
        }
      ]
    },
    {
      "cell_type": "code",
      "metadata": {
        "id": "9Ii9f7jJHyBL"
      },
      "source": [
        "# Функция оценки результатов и вывода оценки\n",
        "\n",
        "def eval_net(model, x_train, y_train, y_scaler = None, n = 10, limit = 10000000.):\n",
        "  \n",
        "    pred = model.predict(x_train)             # Предсказание на тренировочной выборке\n",
        "    if y_scaler:                              # Если есть нормирование - то денормировать\n",
        "        pred = y_scaler.inverse_transform(pred).flatten()\n",
        "\n",
        "    print('Средняя абсолютная ошибка:', mean_absolute_error(pred, y_train), '\\n')\n",
        "\n",
        "    for i in range(n):\n",
        "        print('Реальное значение: ',y_train[i], ' Предсказанное значение: ',pred[i], ' Разница: ', abs(y_train[i] - pred[i]))\n",
        "    # Построение картинки разброса предсказанных и верных значений зарплаты\n",
        "    fig, ax = plt.subplots(figsize=(6, 6))\n",
        "    ax.scatter(y_train, pred)                 # Отрисовка точечного графика\n",
        "    ax.set_xlim(0, limit)                     # Пределы по x, y\n",
        "    ax.set_ylim(0, limit)\n",
        "    ax.plot(plt.xlim(), plt.ylim(), 'r')      # Отрисовка диагональной линии\n",
        "    plt.xlabel('Правильные значения')\n",
        "    plt.ylabel('Предсказания')\n",
        "    plt.grid()\n",
        "    plt.show()        "
      ],
      "execution_count": 39,
      "outputs": []
    },
    {
      "cell_type": "code",
      "source": [
        "eval_net(model_simple, x_test_r, y_test_r,y_scaler=y_scaler)"
      ],
      "metadata": {
        "colab": {
          "base_uri": "https://localhost:8080/",
          "height": 639
        },
        "id": "WIfP8GEmRBW2",
        "outputId": "2d9c4c7d-29f8-41ca-ba1d-b55aa05e0952"
      },
      "execution_count": 40,
      "outputs": [
        {
          "output_type": "stream",
          "name": "stdout",
          "text": [
            "157/157 [==============================] - 0s 2ms/step\n",
            "Средняя абсолютная ошибка: 301642.3271296875 \n",
            "\n",
            "Реальное значение:  [996000]  Предсказанное значение:  525625.94  Разница:  [470374.0625]\n",
            "Реальное значение:  [140200]  Предсказанное значение:  508602.7  Разница:  [368402.6875]\n",
            "Реальное значение:  [750000]  Предсказанное значение:  525102.9  Разница:  [224897.125]\n",
            "Реальное значение:  [970000]  Предсказанное значение:  514364.72  Разница:  [455635.28125]\n",
            "Реальное значение:  [205000]  Предсказанное значение:  460965.12  Разница:  [255965.125]\n",
            "Реальное значение:  [985000]  Предсказанное значение:  522449.44  Разница:  [462550.5625]\n",
            "Реальное значение:  [589000]  Предсказанное значение:  488960.66  Разница:  [100039.34375]\n",
            "Реальное значение:  [500000]  Предсказанное значение:  466435.8  Разница:  [33564.1875]\n",
            "Реальное значение:  [1320000]  Предсказанное значение:  497806.22  Разница:  [822193.78125]\n",
            "Реальное значение:  [270000]  Предсказанное значение:  383146.75  Разница:  [113146.75]\n"
          ]
        },
        {
          "output_type": "display_data",
          "data": {
            "text/plain": [
              "<Figure size 432x432 with 1 Axes>"
            ],
            "image/png": "[encoded data removed]"
          },
          "metadata": {
            "needs_background": "light"
          }
        }
      ]
    },
    {
      "cell_type": "markdown",
      "metadata": {
        "id": "3paVWC1-BDpX"
      },
      "source": [
        "##Подотовка текстовых данных \"model\"\n"
      ]
    },
    {
      "cell_type": "code",
      "source": [
        "model_text = df.model"
      ],
      "metadata": {
        "id": "t5RLYFFY9-ve"
      },
      "execution_count": 41,
      "outputs": []
    },
    {
      "cell_type": "code",
      "metadata": {
        "id": "ivYtke6XBaCN"
      },
      "source": [
        "# Преобразование текстовых данных в числовые/векторные для обучения нейросетью\n",
        "\n",
        "# Используется встроенный в Keras токенизатор для разбиения текста и построения частотного словаря\n",
        "tokenizer = Tokenizer(num_words=3000, # объем словаря\n",
        "                      filters='!\"#$%&()*+,-–—./:;<=>?@[\\\\]^_`{|}~\\t\\n\\xa0', # убираемые из текста ненужные символы \n",
        "                      lower=True, # приведение слов к нижнему регистру\n",
        "                      split=' ', # разделитель слов\n",
        "                      oov_token='unknown', # указание разделять по словам, а не по единичным символам\n",
        "                      char_level=False # токен для слов, которые не вошли в словарь\n",
        "                      )\n",
        "\n",
        "tokenizer.fit_on_texts(model_text) "
      ],
      "execution_count": 42,
      "outputs": []
    },
    {
      "cell_type": "code",
      "metadata": {
        "colab": {
          "base_uri": "https://localhost:8080/"
        },
        "id": "IZMGWeJufGFG",
        "outputId": "f005a063-006c-4cd5-cfe4-a5c043590020"
      },
      "source": [
        "items = list(tokenizer.word_index.items())       # Получение индексов слов\n",
        "print(items[:50])                                # Посмотр 50 самых часто встречающихся слов\n",
        "print(\"Размер словаря\", len(items))              # Длина словаря"
      ],
      "execution_count": 43,
      "outputs": [
        {
          "output_type": "stream",
          "name": "stdout",
          "text": [
            "[('unknown', 1), ('поколение', 2), ('рестайлинг', 3), ('1', 4), ('2', 5), ('3', 6), ('класс', 7), ('5', 8), ('серия', 9), ('focus', 10), ('astra', 11), ('nexia', 12), ('й', 13), ('4', 14), ('6', 15), ('octavia', 16), ('rio', 17), ('e', 18), ('lancer', 19), ('solaris', 20), ('logan', 21), ('h', 22), ('matiz', 23), ('passat', 24), ('7', 25), ('m150', 26), ('c', 27), ('niva', 28), ('family', 29), ('a6', 30), ('x', 31), ('a4', 32), ('200', 33), ('polo', 34), ('pajero', 35), ('cx', 36), ('cruze', 37), ('grand', 38), ('j300', 39), ('ix', 40), ('sportage', 41), ('s', 42), ('lacetti', 43), ('corolla', 44), ('duster', 45), ('x5', 46), ('outlander', 47), ('a', 48), ('308', 49), ('b3', 50)]\n",
            "Размер словаря 1454\n"
          ]
        }
      ]
    },
    {
      "cell_type": "code",
      "metadata": {
        "id": "JXVN-Qg9Bc-f"
      },
      "source": [
        "# Преобразование текстов в последовательность индексов согласно частотному словарю\n",
        "model_seq = tokenizer.texts_to_sequences(model_text)"
      ],
      "execution_count": 44,
      "outputs": []
    },
    {
      "cell_type": "markdown",
      "metadata": {
        "id": "Z6ddE2d_BhE7"
      },
      "source": [
        "**Создание обучающей и проверочной выборок**\n"
      ]
    },
    {
      "cell_type": "code",
      "metadata": {
        "id": "cEpXXnnKCFQS"
      },
      "source": [
        "# Преобразование последовательностей индексов в bag of words\n",
        "x_train_model = tokenizer.sequences_to_matrix(model_seq)\n",
        "x_train_model_r = x_train_model[5000:]\n",
        "x_test_model_r = x_train_model[:5000]"
      ],
      "execution_count": 45,
      "outputs": []
    },
    {
      "cell_type": "code",
      "metadata": {
        "colab": {
          "base_uri": "https://localhost:8080/"
        },
        "id": "7PSryPrCEZhq",
        "outputId": "4fcdb850-2212-4e0f-8be5-3910a66354f3"
      },
      "source": [
        "# Проверка результата\n",
        "print(x_train_model_r.shape)\n",
        "print(x_test_model_r.shape)"
      ],
      "execution_count": 46,
      "outputs": [
        {
          "output_type": "stream",
          "name": "stdout",
          "text": [
            "(65113, 3000)\n",
            "(5000, 3000)\n"
          ]
        }
      ]
    },
    {
      "cell_type": "code",
      "metadata": {
        "colab": {
          "base_uri": "https://localhost:8080/"
        },
        "id": "VPftdRBKD4wt",
        "outputId": "5af07711-a39d-483f-a72c-19d9fab8c935"
      },
      "source": [
        "# Проверка получившихся данных\n",
        "n = 1\n",
        "print(model_text[n])                       # model в тексте\n",
        "print(model_seq[n])                        # model в индексах слов\n",
        "print(x_train_model_r[n][0:100])          # model в bag of words"
      ],
      "execution_count": 47,
      "outputs": [
        {
          "output_type": "stream",
          "name": "stdout",
          "text": [
            "nexia 1 поколение [2-й рестайлинг]\n",
            "[12, 4, 2, 5, 13, 3]\n",
            "[0. 0. 1. 0. 0. 0. 1. 0. 0. 0. 0. 0. 0. 0. 0. 0. 0. 0. 0. 0. 0. 0. 0. 0.\n",
            " 0. 0. 0. 0. 0. 0. 0. 0. 0. 0. 0. 0. 0. 0. 0. 0. 0. 0. 0. 0. 0. 0. 0. 0.\n",
            " 0. 0. 0. 0. 0. 0. 0. 0. 0. 0. 0. 0. 0. 0. 0. 0. 0. 0. 0. 0. 0. 0. 0. 0.\n",
            " 0. 0. 0. 0. 0. 0. 0. 0. 0. 0. 0. 0. 0. 0. 1. 0. 0. 0. 0. 0. 0. 0. 0. 0.\n",
            " 0. 0. 0. 0.]\n"
          ]
        }
      ]
    },
    {
      "cell_type": "code",
      "metadata": {
        "id": "w2HkcXkaRMTp"
      },
      "source": [
        "# Освобождение памяти от ненужных более объектов\n",
        "del model_text, model_seq, tokenizer"
      ],
      "execution_count": 48,
      "outputs": []
    },
    {
      "cell_type": "markdown",
      "metadata": {
        "id": "lpQth80gCavm"
      },
      "source": [
        "**Обучение модели на простых текстовых данных**\n"
      ]
    },
    {
      "cell_type": "code",
      "metadata": {
        "colab": {
          "base_uri": "https://localhost:8080/",
          "height": 1000
        },
        "id": "d57U78eTCfKW",
        "outputId": "8e7fb181-9a93-4a9e-dc71-1f03e35a32c6"
      },
      "source": [
        "# Обучение модели на данных о профессии\n",
        "\n",
        "model_model = Sequential()\n",
        "model_model.add(Dense(20, activation='relu', input_dim=x_train_model_r.shape[1]))\n",
        "model_model.add(Dense(500, activation='relu'))\n",
        "model_model.add(Dense(1, activation='linear'))\n",
        "\n",
        "model_model.compile(optimizer=Adagrad(learning_rate=1e-3), loss='mse', metrics=['mae'])\n",
        "\n",
        "history = model_model.fit(x_train_model_r, \n",
        "                    y_train_r, \n",
        "                    batch_size=256,\n",
        "                    epochs=50, \n",
        "                    validation_split=0.15, \n",
        "                    verbose=1)\n",
        "\n",
        "plot_history(history)"
      ],
      "execution_count": 49,
      "outputs": [
        {
          "output_type": "stream",
          "name": "stdout",
          "text": [
            "Epoch 1/50\n",
            "217/217 [==============================] - 2s 10ms/step - loss: 0.9756 - mae: 0.5569 - val_loss: 1.1622 - val_mae: 0.5637\n",
            "Epoch 2/50\n",
            "217/217 [==============================] - 2s 10ms/step - loss: 0.9723 - mae: 0.5534 - val_loss: 1.1591 - val_mae: 0.5613\n",
            "Epoch 3/50\n",
            "217/217 [==============================] - 2s 10ms/step - loss: 0.9687 - mae: 0.5512 - val_loss: 1.1553 - val_mae: 0.5592\n",
            "Epoch 4/50\n",
            "217/217 [==============================] - 2s 10ms/step - loss: 0.9644 - mae: 0.5494 - val_loss: 1.1505 - val_mae: 0.5569\n",
            "Epoch 5/50\n",
            "217/217 [==============================] - 2s 9ms/step - loss: 0.9592 - mae: 0.5465 - val_loss: 1.1449 - val_mae: 0.5555\n",
            "Epoch 6/50\n",
            "217/217 [==============================] - 2s 9ms/step - loss: 0.9533 - mae: 0.5446 - val_loss: 1.1385 - val_mae: 0.5530\n",
            "Epoch 7/50\n",
            "217/217 [==============================] - 2s 11ms/step - loss: 0.9466 - mae: 0.5422 - val_loss: 1.1312 - val_mae: 0.5499\n",
            "Epoch 8/50\n",
            "217/217 [==============================] - 2s 10ms/step - loss: 0.9389 - mae: 0.5386 - val_loss: 1.1228 - val_mae: 0.5475\n",
            "Epoch 9/50\n",
            "217/217 [==============================] - 2s 11ms/step - loss: 0.9301 - mae: 0.5354 - val_loss: 1.1133 - val_mae: 0.5436\n",
            "Epoch 10/50\n",
            "217/217 [==============================] - 2s 10ms/step - loss: 0.9201 - mae: 0.5315 - val_loss: 1.1024 - val_mae: 0.5389\n",
            "Epoch 11/50\n",
            "217/217 [==============================] - 2s 11ms/step - loss: 0.9088 - mae: 0.5261 - val_loss: 1.0902 - val_mae: 0.5340\n",
            "Epoch 12/50\n",
            "217/217 [==============================] - 2s 11ms/step - loss: 0.8963 - mae: 0.5213 - val_loss: 1.0767 - val_mae: 0.5266\n",
            "Epoch 13/50\n",
            "217/217 [==============================] - 2s 10ms/step - loss: 0.8824 - mae: 0.5140 - val_loss: 1.0618 - val_mae: 0.5208\n",
            "Epoch 14/50\n",
            "217/217 [==============================] - 2s 11ms/step - loss: 0.8673 - mae: 0.5070 - val_loss: 1.0455 - val_mae: 0.5135\n",
            "Epoch 15/50\n",
            "217/217 [==============================] - 2s 9ms/step - loss: 0.8508 - mae: 0.4995 - val_loss: 1.0278 - val_mae: 0.5037\n",
            "Epoch 16/50\n",
            "217/217 [==============================] - 3s 12ms/step - loss: 0.8330 - mae: 0.4899 - val_loss: 1.0087 - val_mae: 0.4943\n",
            "Epoch 17/50\n",
            "217/217 [==============================] - 2s 11ms/step - loss: 0.8140 - mae: 0.4804 - val_loss: 0.9884 - val_mae: 0.4841\n",
            "Epoch 18/50\n",
            "217/217 [==============================] - 3s 11ms/step - loss: 0.7940 - mae: 0.4695 - val_loss: 0.9673 - val_mae: 0.4738\n",
            "Epoch 19/50\n",
            "217/217 [==============================] - 3s 12ms/step - loss: 0.7734 - mae: 0.4586 - val_loss: 0.9454 - val_mae: 0.4611\n",
            "Epoch 20/50\n",
            "217/217 [==============================] - 2s 10ms/step - loss: 0.7521 - mae: 0.4465 - val_loss: 0.9226 - val_mae: 0.4487\n",
            "Epoch 21/50\n",
            "217/217 [==============================] - 3s 12ms/step - loss: 0.7303 - mae: 0.4338 - val_loss: 0.8999 - val_mae: 0.4366\n",
            "Epoch 22/50\n",
            "217/217 [==============================] - 2s 11ms/step - loss: 0.7088 - mae: 0.4213 - val_loss: 0.8772 - val_mae: 0.4236\n",
            "Epoch 23/50\n",
            "217/217 [==============================] - 2s 10ms/step - loss: 0.6875 - mae: 0.4090 - val_loss: 0.8549 - val_mae: 0.4096\n",
            "Epoch 24/50\n",
            "217/217 [==============================] - 2s 11ms/step - loss: 0.6667 - mae: 0.3957 - val_loss: 0.8329 - val_mae: 0.3992\n",
            "Epoch 25/50\n",
            "217/217 [==============================] - 3s 12ms/step - loss: 0.6466 - mae: 0.3841 - val_loss: 0.8118 - val_mae: 0.3867\n",
            "Epoch 26/50\n",
            "217/217 [==============================] - 3s 12ms/step - loss: 0.6274 - mae: 0.3727 - val_loss: 0.7915 - val_mae: 0.3757\n",
            "Epoch 27/50\n",
            "217/217 [==============================] - 2s 10ms/step - loss: 0.6092 - mae: 0.3625 - val_loss: 0.7723 - val_mae: 0.3662\n",
            "Epoch 28/50\n",
            "217/217 [==============================] - 2s 10ms/step - loss: 0.5921 - mae: 0.3535 - val_loss: 0.7541 - val_mae: 0.3578\n",
            "Epoch 29/50\n",
            "217/217 [==============================] - 2s 11ms/step - loss: 0.5760 - mae: 0.3455 - val_loss: 0.7370 - val_mae: 0.3491\n",
            "Epoch 30/50\n",
            "217/217 [==============================] - 2s 9ms/step - loss: 0.5610 - mae: 0.3379 - val_loss: 0.7209 - val_mae: 0.3425\n",
            "Epoch 31/50\n",
            "217/217 [==============================] - 2s 9ms/step - loss: 0.5470 - mae: 0.3314 - val_loss: 0.7057 - val_mae: 0.3349\n",
            "Epoch 32/50\n",
            "217/217 [==============================] - 2s 9ms/step - loss: 0.5337 - mae: 0.3250 - val_loss: 0.6914 - val_mae: 0.3282\n",
            "Epoch 33/50\n",
            "217/217 [==============================] - 2s 9ms/step - loss: 0.5212 - mae: 0.3188 - val_loss: 0.6775 - val_mae: 0.3234\n",
            "Epoch 34/50\n",
            "217/217 [==============================] - 2s 10ms/step - loss: 0.5093 - mae: 0.3135 - val_loss: 0.6646 - val_mae: 0.3165\n",
            "Epoch 35/50\n",
            "217/217 [==============================] - 2s 10ms/step - loss: 0.4980 - mae: 0.3075 - val_loss: 0.6522 - val_mae: 0.3117\n",
            "Epoch 36/50\n",
            "217/217 [==============================] - 2s 10ms/step - loss: 0.4874 - mae: 0.3026 - val_loss: 0.6405 - val_mae: 0.3061\n",
            "Epoch 37/50\n",
            "217/217 [==============================] - 2s 9ms/step - loss: 0.4772 - mae: 0.2976 - val_loss: 0.6293 - val_mae: 0.3007\n",
            "Epoch 38/50\n",
            "217/217 [==============================] - 2s 10ms/step - loss: 0.4676 - mae: 0.2925 - val_loss: 0.6186 - val_mae: 0.2968\n",
            "Epoch 39/50\n",
            "217/217 [==============================] - 2s 10ms/step - loss: 0.4584 - mae: 0.2886 - val_loss: 0.6089 - val_mae: 0.2907\n",
            "Epoch 40/50\n",
            "217/217 [==============================] - 2s 10ms/step - loss: 0.4498 - mae: 0.2834 - val_loss: 0.5988 - val_mae: 0.2883\n",
            "Epoch 41/50\n",
            "217/217 [==============================] - 2s 10ms/step - loss: 0.4414 - mae: 0.2800 - val_loss: 0.5897 - val_mae: 0.2834\n",
            "Epoch 42/50\n",
            "217/217 [==============================] - 2s 11ms/step - loss: 0.4335 - mae: 0.2760 - val_loss: 0.5808 - val_mae: 0.2797\n",
            "Epoch 43/50\n",
            "217/217 [==============================] - 2s 10ms/step - loss: 0.4259 - mae: 0.2725 - val_loss: 0.5723 - val_mae: 0.2761\n",
            "Epoch 44/50\n",
            "217/217 [==============================] - 2s 11ms/step - loss: 0.4186 - mae: 0.2690 - val_loss: 0.5642 - val_mae: 0.2728\n",
            "Epoch 45/50\n",
            "217/217 [==============================] - 2s 9ms/step - loss: 0.4116 - mae: 0.2657 - val_loss: 0.5563 - val_mae: 0.2701\n",
            "Epoch 46/50\n",
            "217/217 [==============================] - 2s 10ms/step - loss: 0.4049 - mae: 0.2626 - val_loss: 0.5488 - val_mae: 0.2674\n",
            "Epoch 47/50\n",
            "217/217 [==============================] - 2s 9ms/step - loss: 0.3985 - mae: 0.2600 - val_loss: 0.5417 - val_mae: 0.2642\n",
            "Epoch 48/50\n",
            "217/217 [==============================] - 2s 11ms/step - loss: 0.3923 - mae: 0.2569 - val_loss: 0.5345 - val_mae: 0.2622\n",
            "Epoch 49/50\n",
            "217/217 [==============================] - 3s 13ms/step - loss: 0.3864 - mae: 0.2545 - val_loss: 0.5279 - val_mae: 0.2597\n",
            "Epoch 50/50\n",
            "217/217 [==============================] - 3s 12ms/step - loss: 0.3807 - mae: 0.2518 - val_loss: 0.5215 - val_mae: 0.2574\n"
          ]
        },
        {
          "output_type": "display_data",
          "data": {
            "text/plain": [
              "<Figure size 432x288 with 1 Axes>"
            ],
            "image/png": "[encoded data removed]"
          },
          "metadata": {
            "needs_background": "light"
          }
        }
      ]
    },
    {
      "cell_type": "code",
      "source": [
        "total_MAE_predict(model_model, x_test_model_r, y_test_r)"
      ],
      "metadata": {
        "colab": {
          "base_uri": "https://localhost:8080/"
        },
        "id": "6Y1ahVHE-ZvP",
        "outputId": "233f4323-7fe8-495b-9266-11a68796e2f0"
      },
      "execution_count": 50,
      "outputs": [
        {
          "output_type": "stream",
          "name": "stdout",
          "text": [
            "157/157 [==============================] - 0s 2ms/step\n",
            "Средняя ошибка:  447058\n",
            "Средняя цена:  521242\n",
            "Суммарный процент ошибки: 86%\n"
          ]
        }
      ]
    },
    {
      "cell_type": "code",
      "source": [
        "eval_net(model_model, x_test_model_r, y_test_r,y_scaler=y_scaler)"
      ],
      "metadata": {
        "colab": {
          "base_uri": "https://localhost:8080/",
          "height": 639
        },
        "id": "NchDJY5DD6hu",
        "outputId": "70030a34-fa00-405b-9c37-415d966e537a"
      },
      "execution_count": 51,
      "outputs": [
        {
          "output_type": "stream",
          "name": "stdout",
          "text": [
            "157/157 [==============================] - 0s 3ms/step\n",
            "Средняя абсолютная ошибка: 152072.0770904297 \n",
            "\n",
            "Реальное значение:  [996000]  Предсказанное значение:  530347.8  Разница:  [465652.1875]\n",
            "Реальное значение:  [140200]  Предсказанное значение:  152129.03  Разница:  [11929.03125]\n",
            "Реальное значение:  [750000]  Предсказанное значение:  641305.94  Разница:  [108694.0625]\n",
            "Реальное значение:  [970000]  Предсказанное значение:  955376.8  Разница:  [14623.1875]\n",
            "Реальное значение:  [205000]  Предсказанное значение:  253067.9  Разница:  [48067.90625]\n",
            "Реальное значение:  [985000]  Предсказанное значение:  759601.06  Разница:  [225398.9375]\n",
            "Реальное значение:  [589000]  Предсказанное значение:  656622.9  Разница:  [67622.875]\n",
            "Реальное значение:  [500000]  Предсказанное значение:  455952.1  Разница:  [44047.90625]\n",
            "Реальное значение:  [1320000]  Предсказанное значение:  821537.06  Разница:  [498462.9375]\n",
            "Реальное значение:  [270000]  Предсказанное значение:  288221.1  Разница:  [18221.09375]\n"
          ]
        },
        {
          "output_type": "display_data",
          "data": {
            "text/plain": [
              "<Figure size 432x432 with 1 Axes>"
            ],
            "image/png": "[encoded data removed]"
          },
          "metadata": {
            "needs_background": "light"
          }
        }
      ]
    },
    {
      "cell_type": "markdown",
      "metadata": {
        "id": "e4oZlPNMU8h5"
      },
      "source": [
        "##Обучение нейронной сети класса Model"
      ]
    },
    {
      "cell_type": "code",
      "metadata": {
        "id": "bj8AvjLDVBWz"
      },
      "source": [
        "input1 = Input((x_train_r.shape[1],))\n",
        "input2 = Input((x_train_model_r.shape[1],))\n",
        "\n",
        "x1 = input1                               # Ветка 1\n",
        "x1 = Dense(128, activation=\"relu\")(x1)\n",
        "x1 = Dense(1000, activation=\"tanh\")(x1)\n",
        "x1 = Dense(100, activation=\"relu\")(x1)\n",
        "\n",
        "x2 = input2                               # Ветка 2\n",
        "x2 = Dense(20, activation=\"relu\")(x2)\n",
        "x2 = Dense(500, activation=\"relu\")(x2)\n",
        "x2 = Dropout(0.3)(x2)\n",
        "\n",
        "x = concatenate([x1, x2])             # Объединение трех веток\n",
        "\n",
        "x = Dense(15, activation='relu')(x)       # Промежуточный слой\n",
        "x = Dropout(0.5)(x)\n",
        "x = Dense(1, activation='linear')(x)      # Финальный регрессирующий нейрон\n",
        "\n",
        "# В Model передаются входы и выход\n",
        "model_final = Model((input1, input2), x)"
      ],
      "execution_count": 52,
      "outputs": []
    },
    {
      "cell_type": "code",
      "metadata": {
        "colab": {
          "base_uri": "https://localhost:8080/",
          "height": 480
        },
        "id": "O6azQrWE190B",
        "outputId": "45e44e13-5d9b-434a-d247-98d63da565c3"
      },
      "source": [
        "utils.plot_model(model_final, dpi=60)"
      ],
      "execution_count": 53,
      "outputs": [
        {
          "output_type": "execute_result",
          "data": {
            "image/png": "[encoded data removed]",
            "text/plain": [
              "<IPython.core.display.Image object>"
            ]
          },
          "metadata": {},
          "execution_count": 53
        }
      ]
    },
    {
      "cell_type": "code",
      "metadata": {
        "colab": {
          "base_uri": "https://localhost:8080/"
        },
        "id": "OEDYUTEe_zYF",
        "outputId": "a2e3888b-dd5d-4306-e190-b642d25d21d8"
      },
      "source": [
        "model_final.compile(optimizer=Adam(learning_rate=1e-3), loss='mse', metrics=['mae'])\n",
        "\n",
        "history = model_final.fit([x_train_r, x_train_model_r], \n",
        "                           y_train_scaled,\n",
        "                           batch_size=256, \n",
        "                           epochs=50, \n",
        "                           validation_split=0.15,\n",
        "                           verbose=1)"
      ],
      "execution_count": 54,
      "outputs": [
        {
          "output_type": "stream",
          "name": "stdout",
          "text": [
            "Epoch 1/50\n",
            "217/217 [==============================] - 7s 27ms/step - loss: 0.9773 - mae: 0.5582 - val_loss: 1.1797 - val_mae: 0.5498\n",
            "Epoch 2/50\n",
            "217/217 [==============================] - 6s 29ms/step - loss: 0.9731 - mae: 0.5547 - val_loss: 1.1796 - val_mae: 0.5517\n",
            "Epoch 3/50\n",
            "217/217 [==============================] - 5s 24ms/step - loss: 0.9731 - mae: 0.5559 - val_loss: 1.1796 - val_mae: 0.5512\n",
            "Epoch 4/50\n",
            "217/217 [==============================] - 5s 24ms/step - loss: 0.9731 - mae: 0.5556 - val_loss: 1.1796 - val_mae: 0.5515\n",
            "Epoch 5/50\n",
            "217/217 [==============================] - 6s 27ms/step - loss: 0.9731 - mae: 0.5548 - val_loss: 1.1796 - val_mae: 0.5513\n",
            "Epoch 6/50\n",
            "217/217 [==============================] - 6s 26ms/step - loss: 0.9731 - mae: 0.5557 - val_loss: 1.1796 - val_mae: 0.5517\n",
            "Epoch 7/50\n",
            "217/217 [==============================] - 5s 23ms/step - loss: 0.9731 - mae: 0.5557 - val_loss: 1.1796 - val_mae: 0.5511\n",
            "Epoch 8/50\n",
            "217/217 [==============================] - 5s 23ms/step - loss: 0.9731 - mae: 0.5551 - val_loss: 1.1796 - val_mae: 0.5521\n",
            "Epoch 9/50\n",
            "217/217 [==============================] - 5s 24ms/step - loss: 0.9731 - mae: 0.5559 - val_loss: 1.1796 - val_mae: 0.5518\n",
            "Epoch 10/50\n",
            "217/217 [==============================] - 5s 24ms/step - loss: 0.9731 - mae: 0.5553 - val_loss: 1.1796 - val_mae: 0.5504\n",
            "Epoch 11/50\n",
            "217/217 [==============================] - 5s 23ms/step - loss: 0.9731 - mae: 0.5549 - val_loss: 1.1796 - val_mae: 0.5514\n",
            "Epoch 12/50\n",
            "217/217 [==============================] - 6s 27ms/step - loss: 0.9731 - mae: 0.5558 - val_loss: 1.1796 - val_mae: 0.5504\n",
            "Epoch 13/50\n",
            "217/217 [==============================] - 5s 25ms/step - loss: 0.9731 - mae: 0.5555 - val_loss: 1.1796 - val_mae: 0.5507\n",
            "Epoch 14/50\n",
            "217/217 [==============================] - 6s 25ms/step - loss: 0.9731 - mae: 0.5550 - val_loss: 1.1796 - val_mae: 0.5511\n",
            "Epoch 15/50\n",
            "217/217 [==============================] - 6s 26ms/step - loss: 0.9731 - mae: 0.5555 - val_loss: 1.1796 - val_mae: 0.5518\n",
            "Epoch 16/50\n",
            "217/217 [==============================] - 5s 25ms/step - loss: 0.9731 - mae: 0.5554 - val_loss: 1.1796 - val_mae: 0.5522\n",
            "Epoch 17/50\n",
            "217/217 [==============================] - 5s 23ms/step - loss: 0.9731 - mae: 0.5561 - val_loss: 1.1797 - val_mae: 0.5500\n",
            "Epoch 18/50\n",
            "217/217 [==============================] - 5s 24ms/step - loss: 0.9731 - mae: 0.5554 - val_loss: 1.1796 - val_mae: 0.5519\n",
            "Epoch 19/50\n",
            "217/217 [==============================] - 5s 23ms/step - loss: 0.9731 - mae: 0.5548 - val_loss: 1.1796 - val_mae: 0.5526\n",
            "Epoch 20/50\n",
            "217/217 [==============================] - 5s 23ms/step - loss: 0.9731 - mae: 0.5558 - val_loss: 1.1796 - val_mae: 0.5508\n",
            "Epoch 21/50\n",
            "217/217 [==============================] - 5s 22ms/step - loss: 0.9731 - mae: 0.5556 - val_loss: 1.1796 - val_mae: 0.5513\n",
            "Epoch 22/50\n",
            "217/217 [==============================] - 5s 23ms/step - loss: 0.9731 - mae: 0.5547 - val_loss: 1.1796 - val_mae: 0.5527\n",
            "Epoch 23/50\n",
            "217/217 [==============================] - 6s 27ms/step - loss: 0.9731 - mae: 0.5559 - val_loss: 1.1796 - val_mae: 0.5524\n",
            "Epoch 24/50\n",
            "217/217 [==============================] - 7s 33ms/step - loss: 0.9731 - mae: 0.5551 - val_loss: 1.1796 - val_mae: 0.5534\n",
            "Epoch 25/50\n",
            "217/217 [==============================] - 6s 30ms/step - loss: 0.9731 - mae: 0.5556 - val_loss: 1.1796 - val_mae: 0.5529\n",
            "Epoch 26/50\n",
            "217/217 [==============================] - 5s 22ms/step - loss: 0.9730 - mae: 0.5567 - val_loss: 1.1797 - val_mae: 0.5497\n",
            "Epoch 27/50\n",
            "217/217 [==============================] - 5s 22ms/step - loss: 0.9731 - mae: 0.5546 - val_loss: 1.1796 - val_mae: 0.5523\n",
            "Epoch 28/50\n",
            "217/217 [==============================] - 5s 23ms/step - loss: 0.9731 - mae: 0.5555 - val_loss: 1.1796 - val_mae: 0.5506\n",
            "Epoch 29/50\n",
            "217/217 [==============================] - 5s 23ms/step - loss: 0.9731 - mae: 0.5556 - val_loss: 1.1796 - val_mae: 0.5505\n",
            "Epoch 30/50\n",
            "217/217 [==============================] - 5s 22ms/step - loss: 0.9731 - mae: 0.5554 - val_loss: 1.1796 - val_mae: 0.5517\n",
            "Epoch 31/50\n",
            "217/217 [==============================] - 5s 22ms/step - loss: 0.9731 - mae: 0.5561 - val_loss: 1.1797 - val_mae: 0.5501\n",
            "Epoch 32/50\n",
            "217/217 [==============================] - 5s 22ms/step - loss: 0.9731 - mae: 0.5554 - val_loss: 1.1796 - val_mae: 0.5511\n",
            "Epoch 33/50\n",
            "217/217 [==============================] - 5s 22ms/step - loss: 0.9731 - mae: 0.5545 - val_loss: 1.1796 - val_mae: 0.5527\n",
            "Epoch 34/50\n",
            "217/217 [==============================] - 5s 22ms/step - loss: 0.9731 - mae: 0.5557 - val_loss: 1.1796 - val_mae: 0.5528\n",
            "Epoch 35/50\n",
            "217/217 [==============================] - 5s 22ms/step - loss: 0.9731 - mae: 0.5559 - val_loss: 1.1796 - val_mae: 0.5516\n",
            "Epoch 36/50\n",
            "217/217 [==============================] - 5s 23ms/step - loss: 0.9731 - mae: 0.5550 - val_loss: 1.1796 - val_mae: 0.5519\n",
            "Epoch 37/50\n",
            "217/217 [==============================] - 5s 23ms/step - loss: 0.9731 - mae: 0.5558 - val_loss: 1.1796 - val_mae: 0.5503\n",
            "Epoch 38/50\n",
            "217/217 [==============================] - 5s 23ms/step - loss: 0.9731 - mae: 0.5557 - val_loss: 1.1796 - val_mae: 0.5513\n",
            "Epoch 39/50\n",
            "217/217 [==============================] - 5s 23ms/step - loss: 0.9731 - mae: 0.5552 - val_loss: 1.1796 - val_mae: 0.5516\n",
            "Epoch 40/50\n",
            "217/217 [==============================] - 5s 23ms/step - loss: 0.9731 - mae: 0.5559 - val_loss: 1.1797 - val_mae: 0.5497\n",
            "Epoch 41/50\n",
            "217/217 [==============================] - 5s 22ms/step - loss: 0.9731 - mae: 0.5549 - val_loss: 1.1796 - val_mae: 0.5517\n",
            "Epoch 42/50\n",
            "217/217 [==============================] - 5s 25ms/step - loss: 0.9730 - mae: 0.5561 - val_loss: 1.1796 - val_mae: 0.5513\n",
            "Epoch 43/50\n",
            "217/217 [==============================] - 6s 25ms/step - loss: 0.9731 - mae: 0.5548 - val_loss: 1.1796 - val_mae: 0.5530\n",
            "Epoch 44/50\n",
            "217/217 [==============================] - 5s 23ms/step - loss: 0.9731 - mae: 0.5559 - val_loss: 1.1796 - val_mae: 0.5515\n",
            "Epoch 45/50\n",
            "217/217 [==============================] - 5s 24ms/step - loss: 0.9731 - mae: 0.5554 - val_loss: 1.1796 - val_mae: 0.5522\n",
            "Epoch 46/50\n",
            "217/217 [==============================] - 5s 23ms/step - loss: 0.9731 - mae: 0.5562 - val_loss: 1.1796 - val_mae: 0.5516\n",
            "Epoch 47/50\n",
            "217/217 [==============================] - 5s 23ms/step - loss: 0.9731 - mae: 0.5550 - val_loss: 1.1796 - val_mae: 0.5525\n",
            "Epoch 48/50\n",
            "217/217 [==============================] - 5s 23ms/step - loss: 0.9730 - mae: 0.5564 - val_loss: 1.1797 - val_mae: 0.5499\n",
            "Epoch 49/50\n",
            "217/217 [==============================] - 5s 23ms/step - loss: 0.9731 - mae: 0.5541 - val_loss: 1.1796 - val_mae: 0.5535\n",
            "Epoch 50/50\n",
            "217/217 [==============================] - 5s 23ms/step - loss: 0.9731 - mae: 0.5560 - val_loss: 1.1796 - val_mae: 0.5519\n"
          ]
        }
      ]
    },
    {
      "cell_type": "code",
      "source": [
        "plot_history(history)"
      ],
      "metadata": {
        "colab": {
          "base_uri": "https://localhost:8080/",
          "height": 279
        },
        "id": "PlL0R1o5Kiq8",
        "outputId": "958a99a4-b998-4060-ac9e-3b6e6ee81b56"
      },
      "execution_count": 55,
      "outputs": [
        {
          "output_type": "display_data",
          "data": {
            "text/plain": [
              "<Figure size 432x288 with 1 Axes>"
            ],
            "image/png": "[encoded data removed]"
          },
          "metadata": {
            "needs_background": "light"
          }
        }
      ]
    },
    {
      "cell_type": "code",
      "source": [
        "eval_net(model_final, [x_test_r, x_test_model_r], y_test_r, y_scaler)"
      ],
      "metadata": {
        "colab": {
          "base_uri": "https://localhost:8080/",
          "height": 639
        },
        "id": "TA5YRYJnKpFV",
        "outputId": "7e044268-3dfd-4147-e685-4bd59f00b792"
      },
      "execution_count": 56,
      "outputs": [
        {
          "output_type": "stream",
          "name": "stdout",
          "text": [
            "157/157 [==============================] - 1s 3ms/step\n",
            "Средняя абсолютная ошибка: 340442.13 \n",
            "\n",
            "Реальное значение:  [996000]  Предсказанное значение:  527209.75  Разница:  [468790.25]\n",
            "Реальное значение:  [140200]  Предсказанное значение:  527209.75  Разница:  [387009.75]\n",
            "Реальное значение:  [750000]  Предсказанное значение:  527209.75  Разница:  [222790.25]\n",
            "Реальное значение:  [970000]  Предсказанное значение:  527209.75  Разница:  [442790.25]\n",
            "Реальное значение:  [205000]  Предсказанное значение:  527209.75  Разница:  [322209.75]\n",
            "Реальное значение:  [985000]  Предсказанное значение:  527209.75  Разница:  [457790.25]\n",
            "Реальное значение:  [589000]  Предсказанное значение:  527209.75  Разница:  [61790.25]\n",
            "Реальное значение:  [500000]  Предсказанное значение:  527209.75  Разница:  [27209.75]\n",
            "Реальное значение:  [1320000]  Предсказанное значение:  527209.75  Разница:  [792790.25]\n",
            "Реальное значение:  [270000]  Предсказанное значение:  527209.75  Разница:  [257209.75]\n"
          ]
        },
        {
          "output_type": "display_data",
          "data": {
            "text/plain": [
              "<Figure size 432x432 with 1 Axes>"
            ],
            "image/png": "[encoded data removed]"
          },
          "metadata": {
            "needs_background": "light"
          }
        }
      ]
    },
    {
      "cell_type": "code",
      "source": [
        "total_MAE_predict(model_final, [x_test_r, x_test_model_r], y_test_r)"
      ],
      "metadata": {
        "colab": {
          "base_uri": "https://localhost:8080/"
        },
        "id": "cs48ASmnLbmB",
        "outputId": "82a425cf-ff1b-4c87-cf6f-5b0f95635793"
      },
      "execution_count": 57,
      "outputs": [
        {
          "output_type": "stream",
          "name": "stdout",
          "text": [
            "157/157 [==============================] - 0s 3ms/step\n",
            "Средняя ошибка:  340442\n",
            "Средняя цена:  521242\n",
            "Суммарный процент ошибки: 65%\n"
          ]
        }
      ]
    }
  ]
}