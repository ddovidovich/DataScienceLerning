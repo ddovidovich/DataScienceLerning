{
  "nbformat": 4,
  "nbformat_minor": 0,
  "metadata": {
    "colab": {
      "provenance": [],
      "include_colab_link": true
    },
    "kernelspec": {
      "name": "python3",
      "display_name": "Python 3"
    },
    "language_info": {
      "name": "python"
    },
    "accelerator": "GPU"
  },
  "cells": [
    {
      "cell_type": "markdown",
      "metadata": {
        "id": "view-in-github",
        "colab_type": "text"
      },
      "source": [
        "<a href=\"https://colab.research.google.com/github/ddovidovich/DataScienceLerning/blob/main/UNIT_10_DZ_Ultra_Pro.ipynb\" target=\"_parent\"><img src=\"https://colab.research.google.com/assets/colab-badge.svg\" alt=\"Open In Colab\"/></a>"
      ]
    },
    {
      "cell_type": "markdown",
      "metadata": {
        "id": "ywoRx_0m6Y17"
      },
      "source": [
        "## Задание\n",
        "\n",
        "Создайте автокодировщик, удаляющий черные квадраты в лучшайных областях изображений.\n",
        "\n",
        "Алгоритм действий:\n",
        "1. Возьмите базу картинок Mnist.\n",
        "2. На картинках в случайных местах сделайте чёрные квадраты размера 8 на 8.\n",
        "3. Создайте и обучите автокодировщик восстанавливать оригинальные изображения из \"зашумленных\" квадратом изображений.\n",
        "4. Добейтесь MSE < 0.0070 на тестовой выборке"
      ]
    },
    {
      "cell_type": "markdown",
      "metadata": {
        "id": "1qFUlKC1884a"
      },
      "source": [
        "## Импорт библиотек"
      ]
    },
    {
      "cell_type": "code",
      "metadata": {
        "id": "DvUAFGSD6SHe"
      },
      "source": [
        "# Отображение\n",
        "import matplotlib.pyplot as plt\n",
        "\n",
        "# Для работы с тензорами\n",
        "import numpy as np \n",
        "\n",
        "# Класс создания модели\n",
        "from tensorflow.keras.models import Model\n",
        "\n",
        "# Для загрузки данных\n",
        "from tensorflow.keras.datasets import mnist\n",
        "\n",
        "# Необходимые слои\n",
        "from tensorflow.keras.layers import Input, Conv2DTranspose, MaxPooling2D, Conv2D, BatchNormalization\n",
        "\n",
        "# Оптимизатор\n",
        "from tensorflow.keras.optimizers import Adam"
      ],
      "execution_count": 2,
      "outputs": []
    },
    {
      "cell_type": "markdown",
      "metadata": {
        "id": "GeLAvneZ9GX3"
      },
      "source": [
        "## Данные"
      ]
    },
    {
      "cell_type": "code",
      "metadata": {
        "id": "HI8GBAUZ9F-T",
        "colab": {
          "base_uri": "https://localhost:8080/"
        },
        "outputId": "272dfd5c-fcd4-4708-9838-f1c1d1911d6f"
      },
      "source": [
        "# Загрузка данных\n",
        "(X_train, y_train), (X_test, y_test) = mnist.load_data() "
      ],
      "execution_count": 3,
      "outputs": [
        {
          "output_type": "stream",
          "name": "stdout",
          "text": [
            "Downloading data from https://storage.googleapis.com/tensorflow/tf-keras-datasets/mnist.npz\n",
            "11490434/11490434 [==============================] - 0s 0us/step\n"
          ]
        }
      ]
    },
    {
      "cell_type": "code",
      "metadata": {
        "id": "OWwvDBiS9Jcx"
      },
      "source": [
        "# Нормировка данных\n",
        "X_train = X_train.astype('float32')/255.\n",
        "X_test = X_test.astype('float32')/255."
      ],
      "execution_count": 4,
      "outputs": []
    },
    {
      "cell_type": "code",
      "metadata": {
        "id": "z8tWtOfV9LCd"
      },
      "source": [
        "# Изменение формы под удобную для Keras\n",
        "X_train = X_train.reshape((-1, 28, 28, 1))\n",
        "X_test = X_test.reshape((-1, 28, 28, 1))"
      ],
      "execution_count": 5,
      "outputs": []
    },
    {
      "cell_type": "code",
      "execution_count": 23,
      "metadata": {
        "colab": {
          "base_uri": "https://localhost:8080/"
        },
        "id": "47Ob2X6iiwUy",
        "outputId": "8a826cef-2b40-4997-cb29-e125299eaffb"
      },
      "outputs": [
        {
          "output_type": "stream",
          "name": "stdout",
          "text": [
            "(60000, 28, 28, 1)\n",
            "(10000, 28, 28, 1)\n"
          ]
        }
      ],
      "source": [
        "# Ваше решение\n",
        "# Проверка формы данных\n",
        "print(X_train.shape)\n",
        "print(X_test.shape)"
      ]
    },
    {
      "cell_type": "code",
      "execution_count": 7,
      "metadata": {
        "id": "2S1Q6KH9kO6v"
      },
      "outputs": [],
      "source": [
        "# Функция последовательного вывода нескольких изображений для сравнения\n",
        "def plot_images(x_data, pred, n=5): \n",
        "\n",
        "    plt.figure(figsize=(14, 7))                     # Размер полотна\n",
        "\n",
        "    for i in range(1, n + 1):                              # Повтор n раз:\n",
        "        index = np.random.randint(0, pred.shape[0]) # Выбор случайного индекса \n",
        "\n",
        "        # Показ картинки с индексом index из набора x_data\n",
        "        ax = plt.subplot(2, n, i)               # Картинка располагается в верхнем ряду\n",
        "        plt.imshow(x_data[index].squeeze(), cmap='gray')\n",
        "        ax.get_xaxis().set_visible(False) \n",
        "        ax.get_yaxis().set_visible(False) \n",
        "\n",
        "        # Показ картинки с тем же индексом из предсказания автокодировщика\n",
        "        ax = plt.subplot(2, n, i + n)           # Картинка располагается в нижнем ряду\n",
        "        plt.imshow(pred[index].squeeze(), cmap='gray')\n",
        "        ax.get_xaxis().set_visible(False)\n",
        "        ax.get_yaxis().set_visible(False)\n",
        "\n",
        "    plt.show()"
      ]
    },
    {
      "cell_type": "code",
      "execution_count": 8,
      "metadata": {
        "id": "_XwOUn5W-l8u"
      },
      "outputs": [],
      "source": [
        "# Функция сборки сверточного автокодировщика\n",
        "def create_base_ae(in_shape):\n",
        "    # Энкодер, вход нейросети\n",
        "    img_input = Input(in_shape)\n",
        "\n",
        "    # Энкодер, первый блок\n",
        "    # 1.1. Двумерная свертка\n",
        "    x = Conv2D(32, (3, 3), padding='same', activation='relu')(img_input) \n",
        "    # 1.2. Нормализация\n",
        "    x = BatchNormalization()(x)\n",
        "    # 1.3. Двумерная свертка\n",
        "    x = Conv2D(32, (3, 3), padding='same', activation='relu')(x) \n",
        "    # 1.4. Нормализация\n",
        "    x = BatchNormalization()(x)\n",
        "    # 1.5. Снижение размерности и обобщение данных\n",
        "    x = MaxPooling2D()(x)\n",
        "\n",
        "    # Энкодер, второй блок\n",
        "    # 2.1. Двумерная свертка\n",
        "    x = Conv2D(64, (3, 3), padding='same', activation='relu')(x) \n",
        "    # 2.2. Нормализация\n",
        "    x = BatchNormalization()(x)\n",
        "    # 2.3. Двумерная свертка\n",
        "    x = Conv2D(64, (3, 3), padding='same', activation='relu')(x)\n",
        "    # 2.4. Нормализация\n",
        "    x = BatchNormalization()(x)\n",
        "    \n",
        "    \n",
        "    # На выходе кодировщика и на входе декодировщика z - вектор латентного пространства\n",
        "    # 2.5. Снижение размерности и обобщение данных\n",
        "    z = MaxPooling2D()(x)\n",
        "        \n",
        "\n",
        "    # Декодер, первый блок\n",
        "    # 1.1. Транспонированная свертка - повышение размерности данных\n",
        "    x = Conv2DTranspose(64, (2, 2), strides=(2, 2), padding='same', activation='relu')(z)\n",
        "    # 1.2. Нормализация\n",
        "    x = BatchNormalization()(x) \n",
        "    # 1.3. Двумерная свертка\n",
        "    x = Conv2D(64, (3, 3), padding='same', activation='relu')(x)\n",
        "    # 1.4. Нормализация\n",
        "    x = BatchNormalization()(x) \n",
        "    # 1.5. Двумерная свертка\n",
        "    x = Conv2D(64, (3, 3), padding='same', activation='relu')(x)\n",
        "    # 1.6. Нормализация\n",
        "    x = BatchNormalization()(x)\n",
        "\n",
        "    # Декодер, второй блок\n",
        "    # 2.1. Транспонированная свертка - повышение размерности данных\n",
        "    x = Conv2DTranspose(32, (2, 2), strides=(2, 2), padding='same', activation='relu')(x) \n",
        "    # 2.2. Нормализация\n",
        "    x = BatchNormalization()(x) # слой нормализации данных\n",
        "    # 2.3. Двумерная свертка\n",
        "    x = Conv2D(32, (3, 3), padding='same', activation='relu')(x) \n",
        "    # 2.4. Нормализация\n",
        "    x = BatchNormalization()(x) # слой нормализации данных\n",
        "    # 2.5. Двумерная свертка\n",
        "    x = Conv2D(32, (3, 3), padding='same', activation='relu')(x) \n",
        "    # 2.6. Нормализация\n",
        "    x = BatchNormalization()(x) \n",
        "\n",
        "    # Декодер, финальный слой двумерной свертки, выдающий итоговое изображение\n",
        "    outputs = Conv2D(in_shape[-1], (3, 3), activation='sigmoid', padding='same')(x)\n",
        "\n",
        "    # Сборка модели, на входе оригинальное изображение, на выходе - сжатое-восстановленное\n",
        "    model = Model(inputs=img_input, outputs=outputs) \n",
        "\n",
        "    # Компиляция сети, назначение оптимизатора Adam + среднеквадратическая ошибка\n",
        "    model.compile(optimizer=Adam(learning_rate=0.0001), loss='mse') \n",
        "\n",
        "    # Возврат готовой модели\n",
        "    return model "
      ]
    },
    {
      "cell_type": "code",
      "execution_count": 9,
      "metadata": {
        "id": "OvN7hZUXfmRp"
      },
      "outputs": [],
      "source": [
        "# Сборка автокодировщика для формы картинок датасета\n",
        "ae_mnist = create_base_ae(X_train.shape[1:])"
      ]
    },
    {
      "cell_type": "code",
      "execution_count": 10,
      "metadata": {
        "colab": {
          "base_uri": "https://localhost:8080/"
        },
        "id": "UzBbveDQfno8",
        "outputId": "d6be56bd-efa9-46a6-9a46-bc682aafdd71"
      },
      "outputs": [
        {
          "output_type": "stream",
          "name": "stdout",
          "text": [
            "Model: \"model\"\n",
            "_________________________________________________________________\n",
            " Layer (type)                Output Shape              Param #   \n",
            "=================================================================\n",
            " input_1 (InputLayer)        [(None, 28, 28, 1)]       0         \n",
            "                                                                 \n",
            " conv2d (Conv2D)             (None, 28, 28, 32)        320       \n",
            "                                                                 \n",
            " batch_normalization (BatchN  (None, 28, 28, 32)       128       \n",
            " ormalization)                                                   \n",
            "                                                                 \n",
            " conv2d_1 (Conv2D)           (None, 28, 28, 32)        9248      \n",
            "                                                                 \n",
            " batch_normalization_1 (Batc  (None, 28, 28, 32)       128       \n",
            " hNormalization)                                                 \n",
            "                                                                 \n",
            " max_pooling2d (MaxPooling2D  (None, 14, 14, 32)       0         \n",
            " )                                                               \n",
            "                                                                 \n",
            " conv2d_2 (Conv2D)           (None, 14, 14, 64)        18496     \n",
            "                                                                 \n",
            " batch_normalization_2 (Batc  (None, 14, 14, 64)       256       \n",
            " hNormalization)                                                 \n",
            "                                                                 \n",
            " conv2d_3 (Conv2D)           (None, 14, 14, 64)        36928     \n",
            "                                                                 \n",
            " batch_normalization_3 (Batc  (None, 14, 14, 64)       256       \n",
            " hNormalization)                                                 \n",
            "                                                                 \n",
            " max_pooling2d_1 (MaxPooling  (None, 7, 7, 64)         0         \n",
            " 2D)                                                             \n",
            "                                                                 \n",
            " conv2d_transpose (Conv2DTra  (None, 14, 14, 64)       16448     \n",
            " nspose)                                                         \n",
            "                                                                 \n",
            " batch_normalization_4 (Batc  (None, 14, 14, 64)       256       \n",
            " hNormalization)                                                 \n",
            "                                                                 \n",
            " conv2d_4 (Conv2D)           (None, 14, 14, 64)        36928     \n",
            "                                                                 \n",
            " batch_normalization_5 (Batc  (None, 14, 14, 64)       256       \n",
            " hNormalization)                                                 \n",
            "                                                                 \n",
            " conv2d_5 (Conv2D)           (None, 14, 14, 64)        36928     \n",
            "                                                                 \n",
            " batch_normalization_6 (Batc  (None, 14, 14, 64)       256       \n",
            " hNormalization)                                                 \n",
            "                                                                 \n",
            " conv2d_transpose_1 (Conv2DT  (None, 28, 28, 32)       8224      \n",
            " ranspose)                                                       \n",
            "                                                                 \n",
            " batch_normalization_7 (Batc  (None, 28, 28, 32)       128       \n",
            " hNormalization)                                                 \n",
            "                                                                 \n",
            " conv2d_6 (Conv2D)           (None, 28, 28, 32)        9248      \n",
            "                                                                 \n",
            " batch_normalization_8 (Batc  (None, 28, 28, 32)       128       \n",
            " hNormalization)                                                 \n",
            "                                                                 \n",
            " conv2d_7 (Conv2D)           (None, 28, 28, 32)        9248      \n",
            "                                                                 \n",
            " batch_normalization_9 (Batc  (None, 28, 28, 32)       128       \n",
            " hNormalization)                                                 \n",
            "                                                                 \n",
            " conv2d_8 (Conv2D)           (None, 28, 28, 1)         289       \n",
            "                                                                 \n",
            "=================================================================\n",
            "Total params: 184,225\n",
            "Trainable params: 183,265\n",
            "Non-trainable params: 960\n",
            "_________________________________________________________________\n"
          ]
        }
      ],
      "source": [
        "# Сводка архитектуры автокодировщика\n",
        "ae_mnist.summary()"
      ]
    },
    {
      "cell_type": "code",
      "source": [
        "ae_mnist.fit(X_train, X_train, \n",
        "          epochs=50,\n",
        "          batch_size=128,\n",
        "          validation_data = (X_test, X_test))"
      ],
      "metadata": {
        "colab": {
          "base_uri": "https://localhost:8080/"
        },
        "id": "ngSxBIaEXqOz",
        "outputId": "8928d8ab-35bf-4253-cf65-47759120bb21"
      },
      "execution_count": 11,
      "outputs": [
        {
          "output_type": "stream",
          "name": "stdout",
          "text": [
            "Epoch 1/50\n",
            "469/469 [==============================] - 23s 28ms/step - loss: 0.0399 - val_loss: 0.0134\n",
            "Epoch 2/50\n",
            "469/469 [==============================] - 13s 27ms/step - loss: 0.0075 - val_loss: 0.0054\n",
            "Epoch 3/50\n",
            "469/469 [==============================] - 13s 27ms/step - loss: 0.0047 - val_loss: 0.0040\n",
            "Epoch 4/50\n",
            "469/469 [==============================] - 12s 27ms/step - loss: 0.0035 - val_loss: 0.0030\n",
            "Epoch 5/50\n",
            "469/469 [==============================] - 13s 27ms/step - loss: 0.0028 - val_loss: 0.0024\n",
            "Epoch 6/50\n",
            "469/469 [==============================] - 13s 27ms/step - loss: 0.0023 - val_loss: 0.0026\n",
            "Epoch 7/50\n",
            "469/469 [==============================] - 13s 27ms/step - loss: 0.0020 - val_loss: 0.0019\n",
            "Epoch 8/50\n",
            "469/469 [==============================] - 13s 27ms/step - loss: 0.0017 - val_loss: 0.0017\n",
            "Epoch 9/50\n",
            "469/469 [==============================] - 13s 27ms/step - loss: 0.0015 - val_loss: 0.0014\n",
            "Epoch 10/50\n",
            "469/469 [==============================] - 13s 27ms/step - loss: 0.0014 - val_loss: 0.0013\n",
            "Epoch 11/50\n",
            "469/469 [==============================] - 13s 27ms/step - loss: 0.0012 - val_loss: 0.0013\n",
            "Epoch 12/50\n",
            "469/469 [==============================] - 13s 27ms/step - loss: 0.0012 - val_loss: 0.0011\n",
            "Epoch 13/50\n",
            "469/469 [==============================] - 13s 27ms/step - loss: 0.0011 - val_loss: 0.0011\n",
            "Epoch 14/50\n",
            "469/469 [==============================] - 13s 27ms/step - loss: 0.0010 - val_loss: 9.2829e-04\n",
            "Epoch 15/50\n",
            "469/469 [==============================] - 13s 27ms/step - loss: 9.6719e-04 - val_loss: 8.8963e-04\n",
            "Epoch 16/50\n",
            "469/469 [==============================] - 13s 27ms/step - loss: 9.1002e-04 - val_loss: 8.5745e-04\n",
            "Epoch 17/50\n",
            "469/469 [==============================] - 13s 27ms/step - loss: 8.5295e-04 - val_loss: 7.9411e-04\n",
            "Epoch 18/50\n",
            "469/469 [==============================] - 13s 27ms/step - loss: 8.1921e-04 - val_loss: 7.8076e-04\n",
            "Epoch 19/50\n",
            "469/469 [==============================] - 13s 27ms/step - loss: 7.9856e-04 - val_loss: 7.1309e-04\n",
            "Epoch 20/50\n",
            "469/469 [==============================] - 13s 27ms/step - loss: 7.4570e-04 - val_loss: 7.8540e-04\n",
            "Epoch 21/50\n",
            "469/469 [==============================] - 13s 27ms/step - loss: 7.2889e-04 - val_loss: 6.7088e-04\n",
            "Epoch 22/50\n",
            "469/469 [==============================] - 13s 27ms/step - loss: 7.0260e-04 - val_loss: 6.4003e-04\n",
            "Epoch 23/50\n",
            "469/469 [==============================] - 13s 27ms/step - loss: 6.7953e-04 - val_loss: 8.4881e-04\n",
            "Epoch 24/50\n",
            "469/469 [==============================] - 13s 27ms/step - loss: 6.6725e-04 - val_loss: 8.1087e-04\n",
            "Epoch 25/50\n",
            "469/469 [==============================] - 13s 28ms/step - loss: 6.4198e-04 - val_loss: 6.0025e-04\n",
            "Epoch 26/50\n",
            "469/469 [==============================] - 13s 28ms/step - loss: 6.1860e-04 - val_loss: 5.6585e-04\n",
            "Epoch 27/50\n",
            "469/469 [==============================] - 13s 28ms/step - loss: 6.0091e-04 - val_loss: 5.6403e-04\n",
            "Epoch 28/50\n",
            "469/469 [==============================] - 13s 27ms/step - loss: 5.8357e-04 - val_loss: 5.3158e-04\n",
            "Epoch 29/50\n",
            "469/469 [==============================] - 13s 27ms/step - loss: 5.7522e-04 - val_loss: 5.2905e-04\n",
            "Epoch 30/50\n",
            "469/469 [==============================] - 13s 28ms/step - loss: 5.5890e-04 - val_loss: 5.2091e-04\n",
            "Epoch 31/50\n",
            "469/469 [==============================] - 13s 27ms/step - loss: 5.3995e-04 - val_loss: 5.0253e-04\n",
            "Epoch 32/50\n",
            "469/469 [==============================] - 13s 27ms/step - loss: 5.3280e-04 - val_loss: 5.6125e-04\n",
            "Epoch 33/50\n",
            "469/469 [==============================] - 13s 28ms/step - loss: 5.2407e-04 - val_loss: 5.8898e-04\n",
            "Epoch 34/50\n",
            "469/469 [==============================] - 13s 27ms/step - loss: 5.1607e-04 - val_loss: 4.7115e-04\n",
            "Epoch 35/50\n",
            "469/469 [==============================] - 13s 27ms/step - loss: 4.9598e-04 - val_loss: 4.8822e-04\n",
            "Epoch 36/50\n",
            "469/469 [==============================] - 13s 28ms/step - loss: 4.8771e-04 - val_loss: 4.9911e-04\n",
            "Epoch 37/50\n",
            "469/469 [==============================] - 13s 28ms/step - loss: 4.8308e-04 - val_loss: 5.0216e-04\n",
            "Epoch 38/50\n",
            "469/469 [==============================] - 13s 28ms/step - loss: 4.6662e-04 - val_loss: 4.4072e-04\n",
            "Epoch 39/50\n",
            "469/469 [==============================] - 13s 28ms/step - loss: 4.5474e-04 - val_loss: 4.5938e-04\n",
            "Epoch 40/50\n",
            "469/469 [==============================] - 13s 27ms/step - loss: 4.5195e-04 - val_loss: 4.4800e-04\n",
            "Epoch 41/50\n",
            "469/469 [==============================] - 13s 28ms/step - loss: 4.3939e-04 - val_loss: 4.2460e-04\n",
            "Epoch 42/50\n",
            "469/469 [==============================] - 13s 28ms/step - loss: 4.3432e-04 - val_loss: 4.0876e-04\n",
            "Epoch 43/50\n",
            "469/469 [==============================] - 13s 28ms/step - loss: 4.2671e-04 - val_loss: 4.4620e-04\n",
            "Epoch 44/50\n",
            "469/469 [==============================] - 13s 28ms/step - loss: 4.2714e-04 - val_loss: 4.0943e-04\n",
            "Epoch 45/50\n",
            "469/469 [==============================] - 13s 28ms/step - loss: 4.0967e-04 - val_loss: 4.5064e-04\n",
            "Epoch 46/50\n",
            "469/469 [==============================] - 13s 28ms/step - loss: 4.0605e-04 - val_loss: 3.8924e-04\n",
            "Epoch 47/50\n",
            "469/469 [==============================] - 13s 28ms/step - loss: 3.9794e-04 - val_loss: 3.9395e-04\n",
            "Epoch 48/50\n",
            "469/469 [==============================] - 13s 28ms/step - loss: 3.9464e-04 - val_loss: 3.8164e-04\n",
            "Epoch 49/50\n",
            "469/469 [==============================] - 13s 27ms/step - loss: 3.8596e-04 - val_loss: 4.1668e-04\n",
            "Epoch 50/50\n",
            "469/469 [==============================] - 13s 27ms/step - loss: 3.8609e-04 - val_loss: 3.6976e-04\n"
          ]
        },
        {
          "output_type": "execute_result",
          "data": {
            "text/plain": [
              "<keras.callbacks.History at 0x7f934e79dbe0>"
            ]
          },
          "metadata": {},
          "execution_count": 11
        }
      ]
    },
    {
      "cell_type": "code",
      "source": [
        "pred = ae_mnist.predict(X_test)\n",
        "# Сравнение исходных и восстановленных картинок из тестовой выборки\n",
        "plot_images(X_test,pred)"
      ],
      "metadata": {
        "colab": {
          "base_uri": "https://localhost:8080/",
          "height": 395
        },
        "id": "fc93AzeGhgVe",
        "outputId": "c6f3bb6a-5675-492a-e6fe-e2c0ed867b94"
      },
      "execution_count": 12,
      "outputs": [
        {
          "output_type": "stream",
          "name": "stdout",
          "text": [
            "313/313 [==============================] - 1s 3ms/step\n"
          ]
        },
        {
          "output_type": "display_data",
          "data": {
            "text/plain": [
              "<Figure size 1008x504 with 10 Axes>"
            ],
            "image/png": "[encoded data removed]"
          },
          "metadata": {
            "needs_background": "light"
          }
        }
      ]
    },
    {
      "cell_type": "code",
      "source": [
        "sq_test = X_test\n",
        "sq_train = X_train"
      ],
      "metadata": {
        "id": "3zWGEE-UXHCi"
      },
      "execution_count": 13,
      "outputs": []
    },
    {
      "cell_type": "code",
      "execution_count": 14,
      "metadata": {
        "id": "rdL2QrfdVDE2"
      },
      "outputs": [],
      "source": [
        "def add_square(x,xmax = 28,ymax = 28,sq_size = 8):\n",
        "  x = x.copy()\n",
        "  x_rnd = np.random.randint(0,(xmax - sq_size))\n",
        "  y_rnd = np.random.randint(0,(xmax - sq_size))\n",
        "\n",
        "  # Закрашивание черным пикселей в рамках квадрата\n",
        "  for i in range(x_rnd,x_rnd+8):\n",
        "    for j in range(y_rnd,y_rnd+8):\n",
        "         x[i,j] = 0\n",
        "         \n",
        "  return x"
      ]
    },
    {
      "cell_type": "code",
      "source": [
        "sq_train = np.array(list(map(add_square, sq_train)))\n",
        "sq_test = np.array(list(map(add_square, sq_test)))"
      ],
      "metadata": {
        "id": "95MkEtFPh6QH"
      },
      "execution_count": 15,
      "outputs": []
    },
    {
      "cell_type": "code",
      "source": [
        "plot_images(X_test,sq_test)"
      ],
      "metadata": {
        "colab": {
          "base_uri": "https://localhost:8080/",
          "height": 377
        },
        "id": "DTsbQgkOEkCO",
        "outputId": "dcd06d14-a296-487a-f1a3-4f8cef1b7844"
      },
      "execution_count": 16,
      "outputs": [
        {
          "output_type": "display_data",
          "data": {
            "text/plain": [
              "<Figure size 1008x504 with 10 Axes>"
            ],
            "image/png": "[encoded data removed]"
          },
          "metadata": {
            "needs_background": "light"
          }
        }
      ]
    },
    {
      "cell_type": "code",
      "source": [
        "history = ae_mnist.fit(sq_train, X_train, \n",
        "          epochs=50,\n",
        "          batch_size=128,\n",
        "          validation_data = (sq_test, X_test))"
      ],
      "metadata": {
        "colab": {
          "base_uri": "https://localhost:8080/"
        },
        "id": "vbmGvGVWSpE5",
        "outputId": "4ac6a7c3-e319-4797-cea5-5f3dd1f7e1c7"
      },
      "execution_count": 17,
      "outputs": [
        {
          "output_type": "stream",
          "name": "stdout",
          "text": [
            "Epoch 1/50\n",
            "469/469 [==============================] - 13s 27ms/step - loss: 0.0073 - val_loss: 0.0055\n",
            "Epoch 2/50\n",
            "469/469 [==============================] - 13s 27ms/step - loss: 0.0052 - val_loss: 0.0049\n",
            "Epoch 3/50\n",
            "469/469 [==============================] - 13s 27ms/step - loss: 0.0047 - val_loss: 0.0047\n",
            "Epoch 4/50\n",
            "469/469 [==============================] - 13s 27ms/step - loss: 0.0045 - val_loss: 0.0044\n",
            "Epoch 5/50\n",
            "469/469 [==============================] - 13s 27ms/step - loss: 0.0043 - val_loss: 0.0047\n",
            "Epoch 6/50\n",
            "469/469 [==============================] - 13s 27ms/step - loss: 0.0041 - val_loss: 0.0043\n",
            "Epoch 7/50\n",
            "469/469 [==============================] - 13s 27ms/step - loss: 0.0040 - val_loss: 0.0042\n",
            "Epoch 8/50\n",
            "469/469 [==============================] - 13s 27ms/step - loss: 0.0039 - val_loss: 0.0041\n",
            "Epoch 9/50\n",
            "469/469 [==============================] - 13s 27ms/step - loss: 0.0039 - val_loss: 0.0040\n",
            "Epoch 10/50\n",
            "469/469 [==============================] - 13s 27ms/step - loss: 0.0038 - val_loss: 0.0040\n",
            "Epoch 11/50\n",
            "469/469 [==============================] - 13s 27ms/step - loss: 0.0037 - val_loss: 0.0039\n",
            "Epoch 12/50\n",
            "469/469 [==============================] - 13s 27ms/step - loss: 0.0037 - val_loss: 0.0040\n",
            "Epoch 13/50\n",
            "469/469 [==============================] - 13s 27ms/step - loss: 0.0036 - val_loss: 0.0039\n",
            "Epoch 14/50\n",
            "469/469 [==============================] - 13s 27ms/step - loss: 0.0036 - val_loss: 0.0039\n",
            "Epoch 15/50\n",
            "469/469 [==============================] - 13s 27ms/step - loss: 0.0035 - val_loss: 0.0040\n",
            "Epoch 16/50\n",
            "469/469 [==============================] - 13s 27ms/step - loss: 0.0035 - val_loss: 0.0039\n",
            "Epoch 17/50\n",
            "469/469 [==============================] - 13s 27ms/step - loss: 0.0034 - val_loss: 0.0039\n",
            "Epoch 18/50\n",
            "469/469 [==============================] - 13s 27ms/step - loss: 0.0034 - val_loss: 0.0037\n",
            "Epoch 19/50\n",
            "469/469 [==============================] - 13s 27ms/step - loss: 0.0033 - val_loss: 0.0037\n",
            "Epoch 20/50\n",
            "469/469 [==============================] - 13s 27ms/step - loss: 0.0033 - val_loss: 0.0037\n",
            "Epoch 21/50\n",
            "469/469 [==============================] - 13s 27ms/step - loss: 0.0033 - val_loss: 0.0037\n",
            "Epoch 22/50\n",
            "469/469 [==============================] - 13s 27ms/step - loss: 0.0032 - val_loss: 0.0037\n",
            "Epoch 23/50\n",
            "469/469 [==============================] - 13s 27ms/step - loss: 0.0032 - val_loss: 0.0037\n",
            "Epoch 24/50\n",
            "469/469 [==============================] - 13s 27ms/step - loss: 0.0032 - val_loss: 0.0037\n",
            "Epoch 25/50\n",
            "469/469 [==============================] - 13s 27ms/step - loss: 0.0032 - val_loss: 0.0036\n",
            "Epoch 26/50\n",
            "469/469 [==============================] - 13s 27ms/step - loss: 0.0031 - val_loss: 0.0037\n",
            "Epoch 27/50\n",
            "469/469 [==============================] - 13s 27ms/step - loss: 0.0031 - val_loss: 0.0037\n",
            "Epoch 28/50\n",
            "469/469 [==============================] - 13s 27ms/step - loss: 0.0031 - val_loss: 0.0036\n",
            "Epoch 29/50\n",
            "469/469 [==============================] - 13s 27ms/step - loss: 0.0031 - val_loss: 0.0036\n",
            "Epoch 30/50\n",
            "469/469 [==============================] - 13s 27ms/step - loss: 0.0030 - val_loss: 0.0036\n",
            "Epoch 31/50\n",
            "469/469 [==============================] - 13s 27ms/step - loss: 0.0030 - val_loss: 0.0037\n",
            "Epoch 32/50\n",
            "469/469 [==============================] - 13s 27ms/step - loss: 0.0030 - val_loss: 0.0036\n",
            "Epoch 33/50\n",
            "469/469 [==============================] - 13s 27ms/step - loss: 0.0030 - val_loss: 0.0036\n",
            "Epoch 34/50\n",
            "469/469 [==============================] - 13s 27ms/step - loss: 0.0029 - val_loss: 0.0036\n",
            "Epoch 35/50\n",
            "469/469 [==============================] - 13s 27ms/step - loss: 0.0029 - val_loss: 0.0037\n",
            "Epoch 36/50\n",
            "469/469 [==============================] - 13s 27ms/step - loss: 0.0029 - val_loss: 0.0036\n",
            "Epoch 37/50\n",
            "469/469 [==============================] - 13s 27ms/step - loss: 0.0029 - val_loss: 0.0037\n",
            "Epoch 38/50\n",
            "469/469 [==============================] - 13s 27ms/step - loss: 0.0029 - val_loss: 0.0036\n",
            "Epoch 39/50\n",
            "469/469 [==============================] - 13s 27ms/step - loss: 0.0028 - val_loss: 0.0036\n",
            "Epoch 40/50\n",
            "469/469 [==============================] - 13s 27ms/step - loss: 0.0028 - val_loss: 0.0036\n",
            "Epoch 41/50\n",
            "469/469 [==============================] - 13s 27ms/step - loss: 0.0028 - val_loss: 0.0036\n",
            "Epoch 42/50\n",
            "469/469 [==============================] - 13s 27ms/step - loss: 0.0028 - val_loss: 0.0035\n",
            "Epoch 43/50\n",
            "469/469 [==============================] - 13s 27ms/step - loss: 0.0028 - val_loss: 0.0036\n",
            "Epoch 44/50\n",
            "469/469 [==============================] - 13s 27ms/step - loss: 0.0028 - val_loss: 0.0035\n",
            "Epoch 45/50\n",
            "469/469 [==============================] - 13s 27ms/step - loss: 0.0027 - val_loss: 0.0036\n",
            "Epoch 46/50\n",
            "469/469 [==============================] - 13s 27ms/step - loss: 0.0027 - val_loss: 0.0036\n",
            "Epoch 47/50\n",
            "469/469 [==============================] - 13s 27ms/step - loss: 0.0027 - val_loss: 0.0036\n",
            "Epoch 48/50\n",
            "469/469 [==============================] - 13s 27ms/step - loss: 0.0027 - val_loss: 0.0036\n",
            "Epoch 49/50\n",
            "469/469 [==============================] - 13s 27ms/step - loss: 0.0027 - val_loss: 0.0035\n",
            "Epoch 50/50\n",
            "469/469 [==============================] - 13s 27ms/step - loss: 0.0027 - val_loss: 0.0036\n"
          ]
        }
      ]
    },
    {
      "cell_type": "code",
      "execution_count": 18,
      "metadata": {
        "colab": {
          "base_uri": "https://localhost:8080/",
          "height": 428
        },
        "id": "ln5lEmO4jhbu",
        "outputId": "7ae40fac-d92e-4a9e-f193-269683e25ad2"
      },
      "outputs": [
        {
          "output_type": "display_data",
          "data": {
            "text/plain": [
              "<Figure size 1008x504 with 1 Axes>"
            ],
            "image/png": "[encoded data removed]"
          },
          "metadata": {
            "needs_background": "light"
          }
        }
      ],
      "source": [
        "# Вывод графиков процесса обучения\n",
        "plt.figure(figsize=(14,7))\n",
        "plt.plot(history.history['loss'][10:], \n",
        "         label='Среднеквадратическая ошибка на обучающем наборе')\n",
        "plt.plot(history.history['val_loss'][10:], \n",
        "         label='Среднеквадратическая ошибка на проверочном наборе')\n",
        "plt.ylabel('Средняя ошибка')\n",
        "plt.legend()\n",
        "plt.show()"
      ]
    },
    {
      "cell_type": "code",
      "source": [
        "# Восстановление\n",
        "pred = ae_mnist.predict(sq_test)\n",
        "\n",
        "# Отображение результата\n",
        "plot_images(sq_test, pred)"
      ],
      "metadata": {
        "colab": {
          "base_uri": "https://localhost:8080/",
          "height": 395
        },
        "id": "JGdYKTuZM7ZL",
        "outputId": "a3712b05-6d56-4bdd-a64d-d68896f45e6c"
      },
      "execution_count": 19,
      "outputs": [
        {
          "output_type": "stream",
          "name": "stdout",
          "text": [
            "313/313 [==============================] - 1s 3ms/step\n"
          ]
        },
        {
          "output_type": "display_data",
          "data": {
            "text/plain": [
              "<Figure size 1008x504 with 10 Axes>"
            ],
            "image/png": "[encoded data removed]"
          },
          "metadata": {
            "needs_background": "light"
          }
        }
      ]
    },
    {
      "cell_type": "code",
      "execution_count": 24,
      "metadata": {
        "colab": {
          "base_uri": "https://localhost:8080/"
        },
        "id": "2b7AF5rOlnOb",
        "outputId": "7b95f376-36c6-4ea4-bbdd-fc2842619060"
      },
      "outputs": [
        {
          "output_type": "stream",
          "name": "stdout",
          "text": [
            "Средняя ошибка на  тестовом наборе MNIST: 0.0036024944856762886\n"
          ]
        }
      ],
      "source": [
        "# Функция среднеквадратической ошибки для расчетов вручную\n",
        "from sklearn.metrics import mean_squared_error\n",
        "\n",
        "# Расчет количества пикселей изображения\n",
        "image_size = X_train.shape[1] * X_train.shape[2]\n",
        "\n",
        "# Расчет массивов среднеквадратических ошибок по всем картинкам тренировочной и тестовой выборок.\n",
        "# mean_squared_error() ожидает двумерный вектор, для чего каждую картинку придется\n",
        "# \"сплющить\" до одномерного вектора размера image_size\n",
        "err_test_mnist = mean_squared_error(X_test.reshape(-1, image_size).T,\n",
        "                                    pred.reshape(-1, image_size).T,\n",
        "                                    multioutput='raw_values')\n",
        "\n",
        "# Вывод средней ошибки\n",
        "print(f'Средняя ошибка на  тестовом наборе MNIST: {err_test_mnist.mean()}')"
      ]
    },
    {
      "cell_type": "markdown",
      "source": [
        "###Вывод\n",
        "\n",
        "**Поставленная задача выполнена. Автокодировщик восстанавливает картинку из частично зашумленной (это хорошо видно на картинках). Требуемая точность (Добейтесь MSE < 0.0070 на тестовой выборке) тоже достигнута**"
      ],
      "metadata": {
        "id": "FUFTMOgS71gN"
      }
    }
  ]
}